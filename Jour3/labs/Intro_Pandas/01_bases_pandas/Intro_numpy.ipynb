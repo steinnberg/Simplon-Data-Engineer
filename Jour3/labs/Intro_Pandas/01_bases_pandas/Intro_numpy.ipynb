{
 "cells": [
  {
   "cell_type": "markdown",
   "metadata": {},
   "source": [
    "# Intrduction to NumPy\n",
    "\n",
    "\n",
    "#### 1. Importer NumPy sous le nom np."
   ]
  },
  {
   "cell_type": "code",
   "execution_count": 1,
   "metadata": {},
   "outputs": [],
   "source": [
    "# your code here\n",
    "import numpy as np"
   ]
  },
  {
   "cell_type": "markdown",
   "metadata": {},
   "source": [
    "#### 2. Printer votre version NumPy."
   ]
  },
  {
   "cell_type": "code",
   "execution_count": 19,
   "metadata": {},
   "outputs": [
    {
     "name": "stdout",
     "output_type": "stream",
     "text": [
      "1.26.4\n"
     ]
    }
   ],
   "source": [
    "# your code here\n",
    "import numpy\n",
    "\n",
    "print(numpy.__version__)"
   ]
  },
  {
   "cell_type": "markdown",
   "metadata": {},
   "source": [
    "#### 3. Generer un 2x3x5 3-dimensional array avec des valeurs random. Assigner la array à la variable *a*.\n",
    "**Challenge**: il y a au moins 3  façons faciles qui utilisent  numpy pour generer un random array. "
   ]
  },
  {
   "cell_type": "code",
   "execution_count": 4,
   "metadata": {},
   "outputs": [
    {
     "name": "stdout",
     "output_type": "stream",
     "text": [
      "Méthode 1 :\n",
      "[[[0.48268207 0.82353238 0.4731841  0.39493256 0.70952674]\n",
      "  [0.84810651 0.77179187 0.46484256 0.48105532 0.51021647]\n",
      "  [0.14355771 0.65747781 0.98618814 0.19942232 0.93314613]]\n",
      "\n",
      " [[0.26178408 0.57163859 0.23217745 0.06919899 0.72625715]\n",
      "  [0.19028162 0.7975753  0.20208885 0.1017864  0.30585232]\n",
      "  [0.63191459 0.53498385 0.05793253 0.50114061 0.4539402 ]]]\n"
     ]
    }
   ],
   "source": [
    "# Method 1\n",
    "# np.random.rand() → valeurs entre 0 et 1\n",
    "a = np.random.rand(2, 3, 5)\n",
    "print(\"Méthode 1 :\")\n",
    "print(a)\n",
    "\n"
   ]
  },
  {
   "cell_type": "code",
   "execution_count": 5,
   "metadata": {},
   "outputs": [
    {
     "name": "stdout",
     "output_type": "stream",
     "text": [
      "\n",
      "Méthode 2 :\n",
      "[[[0.84196137 0.28556476 0.7774285  0.77690346 0.44542655]\n",
      "  [0.7393188  0.45089145 0.46670259 0.10678566 0.01341549]\n",
      "  [0.36438527 0.421883   0.29991338 0.27054326 0.01013472]]\n",
      "\n",
      " [[0.76176074 0.16435105 0.26675307 0.45319939 0.53663583]\n",
      "  [0.37980907 0.3703094  0.16247344 0.97198807 0.19104212]\n",
      "  [0.17492156 0.72251605 0.66929794 0.19706979 0.70929204]]]\n"
     ]
    }
   ],
   "source": [
    "# Method 2\n",
    "# np.random.random_sample() → valeurs entre 0 et 1\n",
    "a = np.random.random_sample((2, 3, 5))\n",
    "print(\"\\nMéthode 2 :\")\n",
    "print(a)\n",
    "\n"
   ]
  },
  {
   "cell_type": "code",
   "execution_count": null,
   "metadata": {},
   "outputs": [
    {
     "name": "stdout",
     "output_type": "stream",
     "text": [
      "\n",
      "Méthode 3 :\n",
      "[[[-1.08493191  0.09629059  0.1111833  -0.51728653  1.16722752]\n",
      "  [ 1.30095783  0.16363031 -2.26650046 -1.13933565 -1.39848096]\n",
      "  [ 0.6884317  -1.50372184 -0.12786624  0.42883458 -0.57089908]]\n",
      "\n",
      " [[ 0.2403095   0.25096501 -0.72754693 -0.20707372 -1.57197083]\n",
      "  [ 0.64616294  0.91730631  1.76482583 -0.76083828  0.02753178]\n",
      "  [-0.01835472 -0.55504357  0.11250378  0.08986002 -0.20948842]]]\n"
     ]
    }
   ],
   "source": [
    "# Method 3\n",
    "#np.random.randn() → distribution normale centrée réduite\n",
    "a = np.random.randn(2, 3, 5)\n",
    "print(\"\\nMéthode 3 :\")\n",
    "print(a)"
   ]
  },
  {
   "cell_type": "markdown",
   "metadata": {},
   "source": [
    "#### 4. Print *a*.\n"
   ]
  },
  {
   "cell_type": "code",
   "execution_count": 21,
   "metadata": {},
   "outputs": [
    {
     "name": "stdout",
     "output_type": "stream",
     "text": [
      "[[[0.02384183 0.89311927 0.12321854 0.21679543 0.0067157 ]\n",
      "  [0.26016623 0.80977447 0.76360333 0.88528874 0.24175605]\n",
      "  [0.46112242 0.08604115 0.51481299 0.27866964 0.61674643]]\n",
      "\n",
      " [[0.4341355  0.56432659 0.34080839 0.42401045 0.42666898]\n",
      "  [0.38297597 0.09210511 0.07322965 0.25382633 0.88322828]\n",
      "  [0.19213064 0.73205576 0.53690295 0.05417198 0.04478365]]]\n"
     ]
    }
   ],
   "source": [
    "# your code here\n",
    "print(a)"
   ]
  },
  {
   "cell_type": "markdown",
   "metadata": {},
   "source": [
    "#### 5. Créer un 5x2x3 3-dimensional array avec toutes les valeurs égales à 1. Assignez le array à la variable *b*."
   ]
  },
  {
   "cell_type": "code",
   "execution_count": 10,
   "metadata": {},
   "outputs": [],
   "source": [
    "# your code here\n",
    "b = np.ones((5, 2, 3))\n"
   ]
  },
  {
   "cell_type": "markdown",
   "metadata": {},
   "source": [
    "#### 6. Print *b*.\n"
   ]
  },
  {
   "cell_type": "code",
   "execution_count": 9,
   "metadata": {},
   "outputs": [
    {
     "name": "stdout",
     "output_type": "stream",
     "text": [
      "[[[1. 1. 1.]\n",
      "  [1. 1. 1.]]\n",
      "\n",
      " [[1. 1. 1.]\n",
      "  [1. 1. 1.]]\n",
      "\n",
      " [[1. 1. 1.]\n",
      "  [1. 1. 1.]]\n",
      "\n",
      " [[1. 1. 1.]\n",
      "  [1. 1. 1.]]\n",
      "\n",
      " [[1. 1. 1.]\n",
      "  [1. 1. 1.]]]\n"
     ]
    }
   ],
   "source": [
    "# your code here\n",
    "\n",
    "print(b)"
   ]
  },
  {
   "cell_type": "markdown",
   "metadata": {},
   "source": [
    "#### 7. Est ce que *a* et *b* ont la même size? Comment le prouvez avec un code Python ?"
   ]
  },
  {
   "cell_type": "code",
   "execution_count": 11,
   "metadata": {},
   "outputs": [
    {
     "name": "stdout",
     "output_type": "stream",
     "text": [
      "Shape de a : (2, 3, 5)\n",
      "Shape de b : (5, 2, 3)\n",
      "Size de a : 30\n",
      "Size de b : 30\n",
      "Même taille ? : True\n"
     ]
    }
   ],
   "source": [
    "# your code here\n",
    "import numpy as np\n",
    "\n",
    "# Exemple : a et b comme précédemment\n",
    "a = np.random.rand(2, 3, 5)\n",
    "b = np.ones((5, 2, 3))\n",
    "\n",
    "# Vérifier la shape\n",
    "print(\"Shape de a :\", a.shape)\n",
    "print(\"Shape de b :\", b.shape)\n",
    "\n",
    "# Vérifier la taille totale\n",
    "print(\"Size de a :\", a.size)\n",
    "print(\"Size de b :\", b.size)\n",
    "\n",
    "# Vérifier s'ils ont la même taille\n",
    "print(\"Même taille ? :\", a.size == b.size)\n"
   ]
  },
  {
   "cell_type": "markdown",
   "metadata": {},
   "source": [
    "#### 8. Est il possible d'additionner *a* and *b*? PQ ou PQ pas?\n"
   ]
  },
  {
   "cell_type": "code",
   "execution_count": null,
   "metadata": {},
   "outputs": [
    {
     "ename": "ValueError",
     "evalue": "operands could not be broadcast together with shapes (2,3,5) (5,2,3) ",
     "output_type": "error",
     "traceback": [
      "\u001b[1;31m---------------------------------------------------------------------------\u001b[0m",
      "\u001b[1;31mValueError\u001b[0m                                Traceback (most recent call last)",
      "Cell \u001b[1;32mIn[12], line 2\u001b[0m\n\u001b[0;32m      1\u001b[0m \u001b[38;5;66;03m# your answer here\u001b[39;00m\n\u001b[1;32m----> 2\u001b[0m a\u001b[38;5;241m+\u001b[39mb\n",
      "\u001b[1;31mValueError\u001b[0m: operands could not be broadcast together with shapes (2,3,5) (5,2,3) "
     ]
    }
   ],
   "source": [
    "# your answer here\n",
    "a+b\n",
    "\n",
    "#En NumPy, l’addition (a + b) fonctionne élément par élément, si et seulement si :\n",
    "\n",
    "# Les arrays ont la même forme\n",
    "# OU\n",
    "\n",
    "# Ils sont broadcastables l’un vers l’autre"
   ]
  },
  {
   "cell_type": "code",
   "execution_count": 13,
   "metadata": {},
   "outputs": [
    {
     "name": "stdout",
     "output_type": "stream",
     "text": [
      "(2, 3, 5)\n"
     ]
    }
   ],
   "source": [
    "#Reshape :\n",
    "# restructurer b pour qu’il ait la même shape que a :\n",
    "\n",
    "\n",
    "b2 = b.reshape(2, 3, 5)\n",
    "resultat = a + b2\n",
    "# Transpose :\n",
    "# réorganiser les axes de b pour le rendre compatible :\n",
    "\n",
    "\n",
    "b2 = b.transpose(1, 2, 0)  # Exemple\n",
    "print(b2.shape)  # Vérifier si ça colle"
   ]
  },
  {
   "cell_type": "markdown",
   "metadata": {},
   "source": [
    "#### 9. Transposez *b* de telle sorte qu'il ait la même structure que *a* (i.e. devient un 2x3x5 array). Assignez le array transposé à la variable *c*."
   ]
  },
  {
   "cell_type": "code",
   "execution_count": 20,
   "metadata": {},
   "outputs": [
    {
     "name": "stdout",
     "output_type": "stream",
     "text": [
      "Shape de b : (5, 2, 3)\n",
      "Shape de c : (2, 3, 5)\n"
     ]
    }
   ],
   "source": [
    "# your code here\n",
    "\n",
    "\n",
    "# Exemple pour rappel\n",
    "b = np.ones((5, 2, 3))\n",
    "\n",
    "# Transposer les axes : de (5, 2, 3) --> (2, 3, 5)\n",
    "c = b.transpose(1, 2, 0)\n",
    "\n",
    "print(\"Shape de b :\", b.shape)\n",
    "print(\"Shape de c :\", c.shape)\n",
    "\n",
    "\n",
    "#b.transpose(1, 2, 0) :\n",
    "\n",
    "# 1 → premier axe devient le deuxième (2)\n",
    "\n",
    "# 2 → deuxième axe devient le troisième (3)\n",
    "\n",
    "# 0 → dernier axe devient le premier (5 → replacé à la fin)\n"
   ]
  },
  {
   "cell_type": "markdown",
   "metadata": {},
   "source": [
    "#### 10. Essayez d'additionner *a* & *c*. Mnt ça devrait marcher. Assignez la somme (sum) à la variable *d*. Mais PQ ça marche maintenant?"
   ]
  },
  {
   "cell_type": "code",
   "execution_count": 22,
   "metadata": {},
   "outputs": [
    {
     "name": "stdout",
     "output_type": "stream",
     "text": [
      "Shape de a : (2, 3, 5)\n",
      "Shape de c : (2, 3, 5)\n",
      "Shape de d : (2, 3, 5)\n",
      "\n",
      "Exemple de somme : [[[1.02384183 1.89311927 1.12321854 1.21679543 1.0067157 ]\n",
      "  [1.26016623 1.80977447 1.76360333 1.88528874 1.24175605]\n",
      "  [1.46112242 1.08604115 1.51481299 1.27866964 1.61674643]]\n",
      "\n",
      " [[1.4341355  1.56432659 1.34080839 1.42401045 1.42666898]\n",
      "  [1.38297597 1.09210511 1.07322965 1.25382633 1.88322828]\n",
      "  [1.19213064 1.73205576 1.53690295 1.05417198 1.04478365]]]\n"
     ]
    }
   ],
   "source": [
    "# your code/answer here\n",
    "\n",
    "import numpy as np\n",
    "\n",
    "# # Exemple : a et b comme avant\n",
    "# a = np.random.rand(2, 3, 5)\n",
    "# b = np.ones((5, 2, 3))\n",
    "\n",
    "# # Transposer b pour obtenir c\n",
    "# c = b.transpose(1, 2, 0)\n",
    "\n",
    "# Additionner a et c\n",
    "d = a + c\n",
    "\n",
    "print(\"Shape de a :\", a.shape)\n",
    "print(\"Shape de c :\", c.shape)\n",
    "print(\"Shape de d :\", d.shape)\n",
    "print(\"\\nExemple de somme :\", d)\n"
   ]
  },
  {
   "cell_type": "markdown",
   "metadata": {},
   "source": [
    "#### 11. Printez *a* and *d*. Remarquez la différence et la relation entre les deux arrays en termes de valeurs? Expliquez."
   ]
  },
  {
   "cell_type": "code",
   "execution_count": 23,
   "metadata": {},
   "outputs": [
    {
     "name": "stdout",
     "output_type": "stream",
     "text": [
      "a =\n",
      " [[[0.90506035 0.74456192 0.52437791 0.05909387 0.22316464]\n",
      "  [0.94208551 0.84805785 0.23636664 0.06782013 0.00269329]\n",
      "  [0.89234944 0.62832602 0.29106142 0.41405741 0.92001142]]\n",
      "\n",
      " [[0.93708009 0.51376295 0.31249466 0.13987897 0.8813758 ]\n",
      "  [0.54359205 0.96767765 0.20203487 0.59076269 0.83757736]\n",
      "  [0.09552003 0.06461275 0.9633701  0.86389538 0.04121499]]]\n",
      "\n",
      "d =\n",
      " [[[1.90506035 1.74456192 1.52437791 1.05909387 1.22316464]\n",
      "  [1.94208551 1.84805785 1.23636664 1.06782013 1.00269329]\n",
      "  [1.89234944 1.62832602 1.29106142 1.41405741 1.92001142]]\n",
      "\n",
      " [[1.93708009 1.51376295 1.31249466 1.13987897 1.8813758 ]\n",
      "  [1.54359205 1.96767765 1.20203487 1.59076269 1.83757736]\n",
      "  [1.09552003 1.06461275 1.9633701  1.86389538 1.04121499]]]\n"
     ]
    }
   ],
   "source": [
    "# your code/answer here\n",
    "import numpy as np\n",
    "\n",
    "# a (valeurs aléatoires)\n",
    "a = np.random.rand(2, 3, 5)\n",
    "\n",
    "#  b rempli de 1, puis le transposer\n",
    "b = np.ones((5, 2, 3))\n",
    "c = b.transpose(1, 2, 0)\n",
    "\n",
    "# Somme\n",
    "d = a + c\n",
    "\n",
    "# Afficher a et d\n",
    "print(\"a =\\n\", a)\n",
    "print(\"\\nd =\\n\", d)\n"
   ]
  },
  {
   "cell_type": "markdown",
   "metadata": {},
   "source": [
    "#### 12. Multipliez *a* et *c*. Assignez le résultats à *e*."
   ]
  },
  {
   "cell_type": "code",
   "execution_count": 25,
   "metadata": {},
   "outputs": [
    {
     "name": "stdout",
     "output_type": "stream",
     "text": [
      "[[[0.90506035 0.74456192 0.52437791 0.05909387 0.22316464]\n",
      "  [0.94208551 0.84805785 0.23636664 0.06782013 0.00269329]\n",
      "  [0.89234944 0.62832602 0.29106142 0.41405741 0.92001142]]\n",
      "\n",
      " [[0.93708009 0.51376295 0.31249466 0.13987897 0.8813758 ]\n",
      "  [0.54359205 0.96767765 0.20203487 0.59076269 0.83757736]\n",
      "  [0.09552003 0.06461275 0.9633701  0.86389538 0.04121499]]]\n",
      "[[[1. 1. 1. 1. 1.]\n",
      "  [1. 1. 1. 1. 1.]\n",
      "  [1. 1. 1. 1. 1.]]\n",
      "\n",
      " [[1. 1. 1. 1. 1.]\n",
      "  [1. 1. 1. 1. 1.]\n",
      "  [1. 1. 1. 1. 1.]]]\n",
      "[[[0.90506035 0.74456192 0.52437791 0.05909387 0.22316464]\n",
      "  [0.94208551 0.84805785 0.23636664 0.06782013 0.00269329]\n",
      "  [0.89234944 0.62832602 0.29106142 0.41405741 0.92001142]]\n",
      "\n",
      " [[0.93708009 0.51376295 0.31249466 0.13987897 0.8813758 ]\n",
      "  [0.54359205 0.96767765 0.20203487 0.59076269 0.83757736]\n",
      "  [0.09552003 0.06461275 0.9633701  0.86389538 0.04121499]]]\n"
     ]
    }
   ],
   "source": [
    "# your code here\n",
    "# Multiplication élément par élément\n",
    "e = a * c\n",
    "print(a)\n",
    "print(c)\n",
    "print(e)"
   ]
  },
  {
   "cell_type": "markdown",
   "metadata": {},
   "source": [
    "#### 13. Est ce que *e* égales à *a*? PQ ou PQ pas ?\n"
   ]
  },
  {
   "cell_type": "code",
   "execution_count": 26,
   "metadata": {},
   "outputs": [
    {
     "name": "stdout",
     "output_type": "stream",
     "text": [
      "True\n"
     ]
    }
   ],
   "source": [
    "# your code/answer here\n",
    "import numpy as np\n",
    "\n",
    "# Vérification : e et a sont-ils identiques ?\n",
    "print(np.array_equal(e, a))  # True\n"
   ]
  },
  {
   "cell_type": "markdown",
   "metadata": {},
   "source": [
    "#### 14. Identifiez le max, min, et la valeurs moyenne e, *d*. Assignez ces valeurs à la  variables *d_max*, *d_min* and *d_mean*."
   ]
  },
  {
   "cell_type": "code",
   "execution_count": 27,
   "metadata": {},
   "outputs": [
    {
     "name": "stdout",
     "output_type": "stream",
     "text": [
      "d_max : 1.967677647846433\n",
      "d_min : 1.0026932868846774\n",
      "d_mean : 1.5217979393047512\n"
     ]
    }
   ],
   "source": [
    "# your code here\n",
    "# Calculer max, min et moyenne\n",
    "d_max = d.max()\n",
    "d_min = d.min()\n",
    "d_mean = d.mean()\n",
    "\n",
    "print(\"d_max :\", d_max)\n",
    "print(\"d_min :\", d_min)\n",
    "print(\"d_mean :\", d_mean)"
   ]
  },
  {
   "cell_type": "markdown",
   "metadata": {},
   "source": [
    "#### 15. Maintenant on veut labelliser les valeurs en *d*. Premièrement, créez un array vide *f* avec la même shape (i.e. 2x3x5) que *d* utilisez `np.empty`.\n"
   ]
  },
  {
   "cell_type": "code",
   "execution_count": null,
   "metadata": {},
   "outputs": [
    {
     "name": "stdout",
     "output_type": "stream",
     "text": [
      "Shape de d : (2, 3, 5)\n",
      "Shape de f : (2, 3, 5)\n",
      "f =\n",
      " [[[0.90506035 0.74456192 0.52437791 0.05909387 0.22316464]\n",
      "  [0.94208551 0.84805785 0.23636664 0.06782013 0.00269329]\n",
      "  [0.89234944 0.62832602 0.29106142 0.41405741 0.92001142]]\n",
      "\n",
      " [[0.93708009 0.51376295 0.31249466 0.13987897 0.8813758 ]\n",
      "  [0.54359205 0.96767765 0.20203487 0.59076269 0.83757736]\n",
      "  [0.09552003 0.06461275 0.9633701  0.86389538 0.04121499]]]\n"
     ]
    }
   ],
   "source": [
    "# your code here\n",
    "import numpy as np\n",
    "\n",
    "\n",
    "# Créer un tableau vide f avec la même shape que d\n",
    "f = np.empty(d.shape)\n",
    "\n",
    "print(\"Shape de d :\", d.shape)\n",
    "print(\"Shape de f :\", f.shape)\n",
    "print(\"f =\\n\", f)\n"
   ]
  },
  {
   "cell_type": "markdown",
   "metadata": {},
   "source": [
    "#### 16. Remplissez les valeurs dans *f*.\n",
    "\n",
    "Pour chaque valeur dans *d* :  \n",
    "- Si elle est supérieure à *d_min* mais inférieure à *d_mean*, attribuez 25 à la valeur correspondante dans *f*.  \n",
    "- Si une valeur dans *d* est supérieure à *d_mean* mais inférieure à *d_max*, attribuez 75 à la valeur correspondante dans *f*.  \n",
    "- Si une valeur est égale à *d_mean*, attribuez 50 à la valeur correspondante dans *f*.  \n",
    "- Attribuez 0 à la (ou aux) valeur(s) correspondante(s) dans *f* pour *d_min* dans *d*.  \n",
    "- Attribuez 100 à la (ou aux) valeur(s) correspondante(s) dans *f* pour *d_max* dans *d*.\n",
    "\n",
    "À la fin, *f* ne doit contenir que les valeurs suivantes : 0, 25, 50, 75 et 100.\n",
    "\n",
    "**Remarque** : vous n’êtes pas obligé d’utiliser Numpy pour cette question.\n"
   ]
  },
  {
   "cell_type": "code",
   "execution_count": 1,
   "metadata": {},
   "outputs": [],
   "source": [
    "# your code here"
   ]
  },
  {
   "cell_type": "markdown",
   "metadata": {},
   "source": [
    "#### 17. Printez *d* et *f*. Avez vous obtenu ce que vous expectiez expected *f*?\n",
    "Par exemple, if your *d* is:\n",
    "```python\n",
    "[[[1.85836099, 1.67064465, 1.62576044, 1.40243961, 1.88454931],\n",
    "[1.75354326, 1.69403643, 1.36729252, 1.61415071, 1.12104981],\n",
    "[1.72201435, 1.1862918 , 1.87078449, 1.7726778 , 1.88180042]],\n",
    "[[1.44747908, 1.31673383, 1.02000951, 1.52218947, 1.97066381],\n",
    "[1.79129243, 1.74983003, 1.96028037, 1.85166831, 1.65450881],\n",
    "[1.18068344, 1.9587381 , 1.00656599, 1.93402165, 1.73514584]]]\n",
    "```\n",
    "Your *f* should be:\n",
    "```python\n",
    "[[[ 75.,  75.,  75.,  25.,  75.],\n",
    "[ 75.,  75.,  25.,  25.,  25.],\n",
    "[ 75.,  25.,  75.,  75.,  75.]],\n",
    "[[ 25.,  25.,  25.,  25., 100.],\n",
    "[ 75.,  75.,  75.,  75.,  75.],\n",
    "[ 25.,  75.,   0.,  75.,  75.]]]\n",
    "```"
   ]
  },
  {
   "cell_type": "code",
   "execution_count": null,
   "metadata": {},
   "outputs": [],
   "source": [
    "# your code here"
   ]
  },
  {
   "cell_type": "markdown",
   "metadata": {},
   "source": [
    "#### 18. Question bonus : au lieu d’utiliser des nombres (c’est-à-dire 0, 25, 50, 75 et 100), utilisez des valeurs sous forme de chaînes de caractères (\"A\", \"B\", \"C\", \"D\" et \"E\") pour étiqueter les éléments du tableau. Pour l’exemple ci-dessus, le résultat attendu est :\n",
    "\n",
    "\n",
    "```python\n",
    "[[[ 'D',  'D',  'D',  'B',  'D'],\n",
    "[ 'D',  'D',  'B',  'B',  'B'],\n",
    "[ 'D',  'B',  'D',  'D',  'D']],\n",
    "[[ 'B',  'B',  'B',  'B',  'E'],\n",
    "[ 'D',  'D',  'D',  'D',  'D'],\n",
    "[ 'B',  'D',   'A',  'D', 'D']]]\n",
    "```\n",
    "**Note**: you don't have to use Numpy in this question."
   ]
  },
  {
   "cell_type": "code",
   "execution_count": null,
   "metadata": {},
   "outputs": [],
   "source": [
    "# your code here"
   ]
  }
 ],
 "metadata": {
  "kernelspec": {
   "display_name": "base",
   "language": "python",
   "name": "python3"
  },
  "language_info": {
   "codemirror_mode": {
    "name": "ipython",
    "version": 3
   },
   "file_extension": ".py",
   "mimetype": "text/x-python",
   "name": "python",
   "nbconvert_exporter": "python",
   "pygments_lexer": "ipython3",
   "version": "3.12.3"
  }
 },
 "nbformat": 4,
 "nbformat_minor": 2
}
