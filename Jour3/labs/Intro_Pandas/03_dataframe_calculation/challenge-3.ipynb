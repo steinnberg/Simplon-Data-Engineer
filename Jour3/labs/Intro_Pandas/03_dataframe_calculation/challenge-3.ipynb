{
 "cells": [
  {
   "cell_type": "markdown",
   "metadata": {
    "toc": true
   },
   "source": [
    "# Table des Matières\n",
    "\n",
    "1. [Défi 3](#Défi-3)\n",
    "   1.1 [Q1 : Comment identifier les Clients VIP & Préférés ?](#Q1-:-Comment-identifier-les-Clients-VIP-&-Préférés-?)\n",
    "   1.2 [Comment étiqueter les clients dont le `amount_spent` cumulé se situe dans une plage de quantiles donnée ?](#Comment-étiqueter-les-clients-dont-le-amount_spent-cumulé-se-situe-dans-une-plage-de-quantiles-donnée-?)\n",
    "      - 1.2.0.1 [Sous-problème 1 : Comment agréger le `amount_spent` pour chaque client unique ?](#Sous-problème-1-:-Comment-agréger-le-amount_spent-pour-chaque-client-unique-?)\n",
    "      - 1.2.0.2 [Sous-problème 2 : Comment sélectionner les clients dont le `amount_spent` cumulé se situe dans une plage de quantiles donnée ?](#Sous-problème-2-:-Comment-sélectionner-les-clients-dont-le-amount_spent-cumulé-se-situe-dans-une-plage-de-quantiles-donnée-?)\n",
    "      - 1.2.0.3 [Sous-problème 3 : Comment étiqueter les clients sélectionnés comme « VIP » ou « Préféré » ?](#Sous-problème-3-:-Comment-étiqueter-les-clients-sélectionnés-comme-«-VIP-»-ou-«-Préféré-»-?)\n",
    "   1.3 [Q2 : Comment identifier le pays qui compte le plus de Clients VIP ?](#Q2-:-Comment-identifier-le-pays-qui-compte-le-plus-de-Clients-VIP-?)\n",
    "   1.4 [Q3 : Comment identifier le pays qui compte le plus de Clients VIP + Préférés combinés ?](#Q3-:-Comment-identifier-le-pays-qui-compte-le-plus-de-Clients-VIP-+-Préférés-combinés-?)\n"
   ]
  },
  {
   "cell_type": "markdown",
   "metadata": {},
   "source": [
    "# Défi 3\n",
    "\n",
    "Dans ce défi, nous allons travailler sur le jeu de données `Orders`.  \n",
    "Dans ce travail, vous allez appliquer la logique et le déroulé que nous vous avons montrés dans le Défi 2.\n",
    "\n",
    "Vous occupez le poste d’Analyste Business Intelligence au siège d’une chaîne internationale de magasins de mode.  \n",
    "Aujourd’hui, votre responsable vous demande deux choses :\n",
    "\n",
    "**Premièrement, identifiez deux groupes de clients à partir du jeu de données.**  \n",
    "Le premier groupe correspond aux **Clients VIP**, dont les **dépenses cumulées** dans l’ensemble de vos magasins sont **supérieures au 95e centile** (aussi appelé quantile 0.95).  \n",
    "Le deuxième groupe correspond aux **Clients Préférés**, dont les **dépenses cumulées** se situent **entre le 75e et le 95e centile**.\n",
    "\n",
    "**Deuxièmement, identifiez quel pays compte le plus de vos clients VIP, et quel pays compte le plus de vos clients VIP + Préférés combinés.**\n"
   ]
  },
  {
   "cell_type": "markdown",
   "metadata": {},
   "source": [
    "## Q1 : Comment identifier les Clients VIP & Préférés ?\n",
    "\n",
    "Nous commençons par importer toutes les bibliothèques nécessaires :\n"
   ]
  },
  {
   "cell_type": "code",
   "execution_count": null,
   "metadata": {},
   "outputs": [],
   "source": [
    "# import required libraries\n",
    "import numpy as np\n",
    "import pandas as pd"
   ]
  },
  {
   "cell_type": "markdown",
   "metadata": {},
   "source": [
    "Ensuite, importez le jeu de données `Orders` dans une variable de type DataFrame appelée `orders`.  \n",
    "Affichez l’aperçu avec `head()` pour avoir un aperçu des données :\n"
   ]
  },
  {
   "cell_type": "code",
   "execution_count": null,
   "metadata": {},
   "outputs": [],
   "source": [
    "# your code here"
   ]
  },
  {
   "cell_type": "markdown",
   "metadata": {},
   "source": [
    "---\n",
    "\n",
    "« Identifier les Clients VIP et Préférés » est l’objectif non technique formulé par votre responsable.  \n",
    "Vous devez traduire cet objectif en termes techniques utilisés par les analystes de données :\n",
    "\n",
    "## Comment étiqueter les clients dont le `amount_spent` cumulé se situe dans une plage de quantiles donnée ?\n"
   ]
  },
  {
   "cell_type": "markdown",
   "metadata": {},
   "source": [
    "Nous décomposons le problème principal en plusieurs sous-problèmes :\n",
    "\n",
    "#### Sous-problème 1 : Comment agréger le `amount_spent` pour chaque client unique ?\n",
    "\n",
    "#### Sous-problème 2 : Comment sélectionner les clients dont le `amount_spent` cumulé se situe dans une plage de quantiles donnée ?\n",
    "\n",
    "#### Sous-problème 3 : Comment étiqueter les clients sélectionnés comme « VIP » ou « Préféré » ?\n",
    "\n",
    "*Remarque : Si vous souhaitez décomposer le problème principal d’une autre manière, vous pouvez bien sûr modifier les sous-problèmes ci-dessus.*\n",
    "\n",
    "Maintenant, dans l’espace de travail ci-dessous, traitez chaque sous-problème en suivant le processus itératif de résolution de problème.  \n",
    "Ajoutez des cellules si nécessaire pour écrire votre code et expliquer vos étapes.\n"
   ]
  },
  {
   "cell_type": "code",
   "execution_count": null,
   "metadata": {},
   "outputs": [],
   "source": [
    "# your code here"
   ]
  },
  {
   "cell_type": "markdown",
   "metadata": {},
   "source": [
    "Nous vous laissons maintenant résoudre les questions Q2 et Q3 en vous appuyant sur votre solution pour Q1 :\n",
    "\n",
    "## Q2 : Comment identifier le pays qui compte le plus de Clients VIP ?\n"
   ]
  },
  {
   "cell_type": "code",
   "execution_count": null,
   "metadata": {},
   "outputs": [],
   "source": [
    "# your code here"
   ]
  },
  {
   "cell_type": "markdown",
   "metadata": {},
   "source": [
    "## Q3 : Comment identifier le pays qui compte le plus de Clients VIP + Préférés combinés ?\n"
   ]
  },
  {
   "cell_type": "code",
   "execution_count": null,
   "metadata": {},
   "outputs": [],
   "source": [
    "# your code here"
   ]
  }
 ],
 "metadata": {
  "kernelspec": {
   "display_name": "base",
   "language": "python",
   "name": "python3"
  },
  "language_info": {
   "codemirror_mode": {
    "name": "ipython",
    "version": 3
   },
   "file_extension": ".py",
   "mimetype": "text/x-python",
   "name": "python",
   "nbconvert_exporter": "python",
   "pygments_lexer": "ipython3",
   "version": "3.12.3"
  },
  "toc": {
   "base_numbering": 1,
   "nav_menu": {},
   "number_sections": true,
   "sideBar": true,
   "skip_h1_title": false,
   "title_cell": "Table of Contents",
   "title_sidebar": "Contents",
   "toc_cell": true,
   "toc_position": {},
   "toc_section_display": true,
   "toc_window_display": false
  }
 },
 "nbformat": 4,
 "nbformat_minor": 2
}
