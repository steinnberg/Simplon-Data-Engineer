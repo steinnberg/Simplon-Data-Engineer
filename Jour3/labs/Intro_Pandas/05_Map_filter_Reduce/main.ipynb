{
 "cells": [
  {
   "cell_type": "markdown",
   "metadata": {},
   "source": [
    "# Avant de commencer :\n",
    "\n",
    "- Lisez le fichier `README.md`\n",
    "- Commentez autant que possible et utilisez les ressources fournies dans le fichier `README.md`\n"
   ]
  },
  {
   "cell_type": "code",
   "execution_count": null,
   "metadata": {},
   "outputs": [],
   "source": [
    "# Import reduce from functools, numpy and pandas"
   ]
  },
  {
   "cell_type": "markdown",
   "metadata": {},
   "source": [
    "# Défi 1 - Mapping\n",
    "\n",
    "#### Nous allons utiliser la fonction `map` pour nettoyer des mots dans un livre.\n",
    "\n",
    "Dans la cellule suivante, nous allons lire un fichier texte contenant le livre *Le Prophète* de Khalil Gibran.\n"
   ]
  },
  {
   "cell_type": "code",
   "execution_count": null,
   "metadata": {},
   "outputs": [],
   "source": [
    "# Run this code:\n",
    "\n",
    "location = './data/58585-0.txt'\n",
    "with open(location, 'r', encoding=\"utf8\") as f:\n",
    "    prophet = f.read().split(' ')"
   ]
  },
  {
   "cell_type": "markdown",
   "metadata": {},
   "source": [
    "#### Supprimons les 568 premiers mots, car ils contiennent des informations sur le livre mais ne font pas partie du texte lui-même.\n",
    "\n",
    "Faites cela en supprimant les éléments 0 à 567 de la liste `prophet` (vous pouvez aussi le faire en conservant uniquement les éléments de l’index 568 jusqu’au dernier élément).\n"
   ]
  },
  {
   "cell_type": "code",
   "execution_count": null,
   "metadata": {},
   "outputs": [],
   "source": [
    "# your code here"
   ]
  },
  {
   "cell_type": "markdown",
   "metadata": {},
   "source": [
    "Si vous parcourez les mots, vous verrez que beaucoup d’entre eux ont une référence attachée.  \n",
    "Par exemple, examinons les mots de l’index 1 à 10.\n"
   ]
  },
  {
   "cell_type": "code",
   "execution_count": null,
   "metadata": {},
   "outputs": [],
   "source": [
    "# your code here"
   ]
  },
  {
   "cell_type": "markdown",
   "metadata": {},
   "source": [
    "#### L’étape suivante consiste à créer une fonction qui supprimera les références.\n",
    "\n",
    "Nous allons le faire en divisant chaque chaîne de caractères sur le caractère `{` et en gardant uniquement la partie avant ce caractère.  \n",
    "Écrivez votre fonction ci-dessous.\n"
   ]
  },
  {
   "cell_type": "code",
   "execution_count": null,
   "metadata": {},
   "outputs": [],
   "source": [
    "def reference(x):\n",
    "    '''\n",
    "    Input: A string\n",
    "    Output: The string with references removed\n",
    "    \n",
    "    Example:\n",
    "    Input: 'the{7}'\n",
    "    Output: 'the'\n",
    "    '''\n",
    "    \n",
    "    # your code here"
   ]
  },
  {
   "cell_type": "markdown",
   "metadata": {},
   "source": [
    "Maintenant que nous avons notre fonction, utilisez la fonction `map()` pour appliquer cette fonction à notre livre *Le Prophète*.  \n",
    "Stockez la liste résultante dans une nouvelle liste appelée `prophet_reference`.\n"
   ]
  },
  {
   "cell_type": "code",
   "execution_count": null,
   "metadata": {},
   "outputs": [],
   "source": [
    "# your code here"
   ]
  },
  {
   "cell_type": "markdown",
   "metadata": {},
   "source": [
    "Une autre chose que vous avez peut-être remarquée est que certains mots contiennent un saut de ligne.  \n",
    "Écrivons une fonction pour diviser ces mots.  \n",
    "Notre fonction renverra la chaîne de caractères découpée sur le caractère `\\n`.  \n",
    "Écrivez votre fonction dans la cellule ci-dessous.\n"
   ]
  },
  {
   "cell_type": "code",
   "execution_count": null,
   "metadata": {},
   "outputs": [],
   "source": [
    "def line_break(x):\n",
    "    '''\n",
    "    Input: A string\n",
    "    Output: A list of strings split on the line break (\\n) character\n",
    "        \n",
    "    Example:\n",
    "    Input: 'the\\nbeloved'\n",
    "    Output: ['the', 'beloved']\n",
    "    '''\n",
    "    \n",
    "    # your code here"
   ]
  },
  {
   "cell_type": "markdown",
   "metadata": {},
   "source": [
    "Appliquez la fonction `line_break` à la liste `prophet_reference`.  \n",
    "Nommez la nouvelle liste `prophet_line`.\n"
   ]
  },
  {
   "cell_type": "code",
   "execution_count": null,
   "metadata": {},
   "outputs": [],
   "source": [
    "# your code here"
   ]
  },
  {
   "cell_type": "markdown",
   "metadata": {},
   "source": [
    "Si vous regardez les éléments de `prophet_line`, vous verrez que la fonction a renvoyé des listes et non des chaînes de caractères.  \n",
    "Notre liste est maintenant une liste de listes.  \n",
    "Aplatissez cette liste en utilisant une **list comprehension**.  \n",
    "Assignez cette nouvelle liste à une variable appelée `prophet_flat`.\n"
   ]
  },
  {
   "cell_type": "code",
   "execution_count": null,
   "metadata": {},
   "outputs": [],
   "source": [
    "# your code here"
   ]
  },
  {
   "cell_type": "markdown",
   "metadata": {},
   "source": [
    "# Défi 2 - Filtrage\n",
    "\n",
    "En affichant quelques mots du livre, nous constatons qu’il y a des mots que nous ne souhaitons peut-être pas conserver si nous choisissons d’analyser le corpus de texte.  \n",
    "Ci-dessous se trouve une liste de mots que nous aimerions supprimer.  \n",
    "Créez une fonction qui renverra `False` si le mot contient un mot de la liste spécifiée et `True` sinon.\n"
   ]
  },
  {
   "cell_type": "code",
   "execution_count": null,
   "metadata": {},
   "outputs": [],
   "source": [
    "def word_filter(x):\n",
    "    '''\n",
    "    Input: A string\n",
    "    Output: True if the word is not in the specified list \n",
    "    and False if the word is in the list.\n",
    "        \n",
    "    Example:\n",
    "    word list = ['and', 'the']\n",
    "    Input: 'and'\n",
    "    Output: False\n",
    "    \n",
    "    Input: 'John'\n",
    "    Output: True\n",
    "    '''\n",
    "    \n",
    "    word_list = ['and', 'the', 'a', 'an']\n",
    "    \n",
    "    # your code here"
   ]
  },
  {
   "cell_type": "markdown",
   "metadata": {},
   "source": [
    "Utilisez la fonction `filter()` pour filtrer les mots spécifiés dans la fonction `word_filter()`.  \n",
    "Stockez la liste filtrée dans la variable `prophet_filter`.\n"
   ]
  },
  {
   "cell_type": "markdown",
   "metadata": {},
   "source": [
    "# Défi Bonus\n",
    "\n",
    "Réécrivez la fonction `word_filter` ci-dessus pour qu’elle ne soit pas sensible à la casse.\n"
   ]
  },
  {
   "cell_type": "code",
   "execution_count": null,
   "metadata": {},
   "outputs": [],
   "source": [
    "def word_filter_case(x):\n",
    "   \n",
    "    word_list = ['and', 'the', 'a', 'an']\n",
    "    \n",
    "    # your code here"
   ]
  },
  {
   "cell_type": "markdown",
   "metadata": {},
   "source": [
    "# Défi 3 - Réduction\n",
    "\n",
    "#### Maintenant que nous avons considérablement nettoyé notre corpus de texte, utilisons la fonction `reduce()` pour rassembler tous les mots en une seule longue chaîne de caractères séparée par des espaces.\n",
    "\n",
    "Nous allons commencer par écrire une fonction qui prend deux chaînes de caractères et les concatène avec un espace entre les deux.\n"
   ]
  },
  {
   "cell_type": "code",
   "execution_count": null,
   "metadata": {},
   "outputs": [],
   "source": [
    "def concat_space(a, b):\n",
    "    '''\n",
    "    Input:Two strings\n",
    "    Output: A single string separated by a space\n",
    "        \n",
    "    Example:\n",
    "    Input: 'John', 'Smith'\n",
    "    Output: 'John Smith'\n",
    "    '''\n",
    "    \n",
    "    # your code here"
   ]
  },
  {
   "cell_type": "markdown",
   "metadata": {},
   "source": [
    "Utilisez la fonction ci-dessus pour réduire le corpus de texte contenu dans la liste `prophet_filter` en une seule chaîne de caractères.  \n",
    "Assignez cette nouvelle chaîne à la variable `prophet_string`.\n"
   ]
  },
  {
   "cell_type": "code",
   "execution_count": null,
   "metadata": {},
   "outputs": [],
   "source": [
    "# your code here"
   ]
  },
  {
   "cell_type": "markdown",
   "metadata": {},
   "source": [
    "# Défi 4 - Appliquer des fonctions à des DataFrames\n",
    "\n",
    "#### Notre prochaine étape est d’utiliser la fonction `apply` sur un DataFrame pour transformer toutes les cellules.\n",
    "\n",
    "Pour cela, nous allons nous connecter à la base de données d’Ironhack et récupérer les données de la base *pollution*.  \n",
    "Sélectionnez la table *beijing_pollution* et récupérez ses données.\n"
   ]
  },
  {
   "cell_type": "code",
   "execution_count": null,
   "metadata": {},
   "outputs": [],
   "source": [
    "# your code here"
   ]
  },
  {
   "cell_type": "markdown",
   "metadata": {},
   "source": [
    "Let's look at the data using the `head()` function."
   ]
  },
  {
   "cell_type": "code",
   "execution_count": null,
   "metadata": {},
   "outputs": [],
   "source": [
    "# your code here"
   ]
  },
  {
   "cell_type": "markdown",
   "metadata": {},
   "source": [
    "L’étape suivante consiste à créer une fonction qui divise une cellule par 24 pour obtenir une valeur horaire.  \n",
    "Écrivez la fonction ci-dessous.\n"
   ]
  },
  {
   "cell_type": "code",
   "execution_count": null,
   "metadata": {},
   "outputs": [],
   "source": [
    "def hourly(x):\n",
    "    '''\n",
    "    Input: A numerical value\n",
    "    Output: The value divided by 24\n",
    "        \n",
    "    Example:\n",
    "    Input: 48\n",
    "    Output: 2.0\n",
    "    '''\n",
    "    \n",
    "    # your code here"
   ]
  },
  {
   "cell_type": "markdown",
   "metadata": {},
   "source": [
    "Appliquez cette fonction aux colonnes `Iws`, `Is` et `Ir`.  \n",
    "Stockez ce nouveau DataFrame dans la variable `pm25_hourly`.\n"
   ]
  },
  {
   "cell_type": "code",
   "execution_count": null,
   "metadata": {},
   "outputs": [],
   "source": [
    "# your code here"
   ]
  },
  {
   "cell_type": "markdown",
   "metadata": {},
   "source": [
    "#### Notre dernier défi sera de créer une fonction d’agrégation et de l’appliquer à un groupe spécifique de colonnes de notre DataFrame.\n",
    "\n",
    "Écrivez une fonction qui retourne l’écart-type d’une colonne divisé par la longueur de la colonne moins 1.  \n",
    "Puisque nous utilisons pandas, n’utilisez pas la fonction `len()`. Une alternative consiste à utiliser `count()`.  \n",
    "De plus, utilisez la version numpy de l’écart-type.\n"
   ]
  },
  {
   "cell_type": "code",
   "execution_count": null,
   "metadata": {},
   "outputs": [],
   "source": [
    "def sample_sd(x):\n",
    "    '''\n",
    "    Input: A Pandas series of values\n",
    "    Output: the standard deviation divided by the number of elements in the series\n",
    "        \n",
    "    Example:\n",
    "    Input: pd.Series([1,2,3,4])\n",
    "    Output: 0.3726779962\n",
    "    '''\n",
    "    \n",
    "    # your code here"
   ]
  }
 ],
 "metadata": {
  "kernelspec": {
   "display_name": "Python 3",
   "language": "python",
   "name": "python3"
  },
  "language_info": {
   "codemirror_mode": {
    "name": "ipython",
    "version": 3
   },
   "file_extension": ".py",
   "mimetype": "text/x-python",
   "name": "python",
   "nbconvert_exporter": "python",
   "pygments_lexer": "ipython3",
   "version": "3.7.2"
  }
 },
 "nbformat": 4,
 "nbformat_minor": 2
}
