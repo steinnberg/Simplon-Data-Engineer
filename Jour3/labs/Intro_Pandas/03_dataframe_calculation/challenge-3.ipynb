{
 "cells": [
  {
   "cell_type": "markdown",
   "metadata": {
    "toc": true
   },
   "source": [
    "# Table des Matières\n",
    "\n",
    "1. [Défi 3](#Défi-3)\n",
    "   1.1 [Q1 : Comment identifier les Clients VIP & Préférés ?](#Q1-:-Comment-identifier-les-Clients-VIP-&-Préférés-?)\n",
    "   1.2 [Comment étiqueter les clients dont le `amount_spent` cumulé se situe dans une plage de quantiles donnée ?](#Comment-étiqueter-les-clients-dont-le-amount_spent-cumulé-se-situe-dans-une-plage-de-quantiles-donnée-?)\n",
    "      - 1.2.0.1 [Sous-problème 1 : Comment agréger le `amount_spent` pour chaque client unique ?](#Sous-problème-1-:-Comment-agréger-le-amount_spent-pour-chaque-client-unique-?)\n",
    "      - 1.2.0.2 [Sous-problème 2 : Comment sélectionner les clients dont le `amount_spent` cumulé se situe dans une plage de quantiles donnée ?](#Sous-problème-2-:-Comment-sélectionner-les-clients-dont-le-amount_spent-cumulé-se-situe-dans-une-plage-de-quantiles-donnée-?)\n",
    "      - 1.2.0.3 [Sous-problème 3 : Comment étiqueter les clients sélectionnés comme « VIP » ou « Préféré » ?](#Sous-problème-3-:-Comment-étiqueter-les-clients-sélectionnés-comme-«-VIP-»-ou-«-Préféré-»-?)\n",
    "   1.3 [Q2 : Comment identifier le pays qui compte le plus de Clients VIP ?](#Q2-:-Comment-identifier-le-pays-qui-compte-le-plus-de-Clients-VIP-?)\n",
    "   1.4 [Q3 : Comment identifier le pays qui compte le plus de Clients VIP + Préférés combinés ?](#Q3-:-Comment-identifier-le-pays-qui-compte-le-plus-de-Clients-VIP-+-Préférés-combinés-?)\n"
   ]
  },
  {
   "cell_type": "markdown",
   "metadata": {},
   "source": [
    "# Défi 3\n",
    "\n",
    "Dans ce défi, nous allons travailler sur le jeu de données `Orders`.  \n",
    "Dans ce travail, vous allez appliquer la logique et le déroulé que nous vous avons montrés dans le Défi 2.\n",
    "\n",
    "Vous occupez le poste d’Analyste Business Intelligence au siège d’une chaîne internationale de magasins de mode.  \n",
    "Aujourd’hui, votre responsable vous demande deux choses :\n",
    "\n",
    "**Premièrement, identifiez deux groupes de clients à partir du jeu de données.**  \n",
    "Le premier groupe correspond aux **Clients VIP**, dont les **dépenses cumulées** dans l’ensemble de vos magasins sont **supérieures au 95e centile** (aussi appelé quantile 0.95).  \n",
    "Le deuxième groupe correspond aux **Clients Préférés**, dont les **dépenses cumulées** se situent **entre le 75e et le 95e centile**.\n",
    "\n",
    "**Deuxièmement, identifiez quel pays compte le plus de vos clients VIP, et quel pays compte le plus de vos clients VIP + Préférés combinés.**\n"
   ]
  },
  {
   "cell_type": "markdown",
   "metadata": {},
   "source": [
    "## Q1 : Comment identifier les Clients VIP & Préférés ?\n",
    "\n",
    "Nous commençons par importer toutes les bibliothèques nécessaires :\n"
   ]
  },
  {
   "cell_type": "code",
   "execution_count": 16,
   "metadata": {},
   "outputs": [],
   "source": [
    "# import required libraries\n",
    "import numpy as np\n",
    "import pandas as pd"
   ]
  },
  {
   "cell_type": "markdown",
   "metadata": {},
   "source": [
    "Ensuite, importez le jeu de données `Orders` dans une variable de type DataFrame appelée `orders`.  \n",
    "Affichez l’aperçu avec `head()` pour avoir un aperçu des données :\n"
   ]
  },
  {
   "cell_type": "code",
   "execution_count": 3,
   "metadata": {},
   "outputs": [
    {
     "data": {
      "text/html": [
       "<div>\n",
       "<style scoped>\n",
       "    .dataframe tbody tr th:only-of-type {\n",
       "        vertical-align: middle;\n",
       "    }\n",
       "\n",
       "    .dataframe tbody tr th {\n",
       "        vertical-align: top;\n",
       "    }\n",
       "\n",
       "    .dataframe thead th {\n",
       "        text-align: right;\n",
       "    }\n",
       "</style>\n",
       "<table border=\"1\" class=\"dataframe\">\n",
       "  <thead>\n",
       "    <tr style=\"text-align: right;\">\n",
       "      <th></th>\n",
       "      <th>Unnamed: 0</th>\n",
       "      <th>InvoiceNo</th>\n",
       "      <th>StockCode</th>\n",
       "      <th>year</th>\n",
       "      <th>month</th>\n",
       "      <th>day</th>\n",
       "      <th>hour</th>\n",
       "      <th>Description</th>\n",
       "      <th>Quantity</th>\n",
       "      <th>InvoiceDate</th>\n",
       "      <th>UnitPrice</th>\n",
       "      <th>CustomerID</th>\n",
       "      <th>Country</th>\n",
       "      <th>amount_spent</th>\n",
       "    </tr>\n",
       "  </thead>\n",
       "  <tbody>\n",
       "    <tr>\n",
       "      <th>0</th>\n",
       "      <td>0</td>\n",
       "      <td>536365</td>\n",
       "      <td>85123A</td>\n",
       "      <td>2010</td>\n",
       "      <td>12</td>\n",
       "      <td>3</td>\n",
       "      <td>8</td>\n",
       "      <td>white hanging heart t-light holder</td>\n",
       "      <td>6</td>\n",
       "      <td>2010-12-01 08:26:00</td>\n",
       "      <td>2.55</td>\n",
       "      <td>17850</td>\n",
       "      <td>United Kingdom</td>\n",
       "      <td>15.30</td>\n",
       "    </tr>\n",
       "    <tr>\n",
       "      <th>1</th>\n",
       "      <td>1</td>\n",
       "      <td>536365</td>\n",
       "      <td>71053</td>\n",
       "      <td>2010</td>\n",
       "      <td>12</td>\n",
       "      <td>3</td>\n",
       "      <td>8</td>\n",
       "      <td>white metal lantern</td>\n",
       "      <td>6</td>\n",
       "      <td>2010-12-01 08:26:00</td>\n",
       "      <td>3.39</td>\n",
       "      <td>17850</td>\n",
       "      <td>United Kingdom</td>\n",
       "      <td>20.34</td>\n",
       "    </tr>\n",
       "    <tr>\n",
       "      <th>2</th>\n",
       "      <td>2</td>\n",
       "      <td>536365</td>\n",
       "      <td>84406B</td>\n",
       "      <td>2010</td>\n",
       "      <td>12</td>\n",
       "      <td>3</td>\n",
       "      <td>8</td>\n",
       "      <td>cream cupid hearts coat hanger</td>\n",
       "      <td>8</td>\n",
       "      <td>2010-12-01 08:26:00</td>\n",
       "      <td>2.75</td>\n",
       "      <td>17850</td>\n",
       "      <td>United Kingdom</td>\n",
       "      <td>22.00</td>\n",
       "    </tr>\n",
       "    <tr>\n",
       "      <th>3</th>\n",
       "      <td>3</td>\n",
       "      <td>536365</td>\n",
       "      <td>84029G</td>\n",
       "      <td>2010</td>\n",
       "      <td>12</td>\n",
       "      <td>3</td>\n",
       "      <td>8</td>\n",
       "      <td>knitted union flag hot water bottle</td>\n",
       "      <td>6</td>\n",
       "      <td>2010-12-01 08:26:00</td>\n",
       "      <td>3.39</td>\n",
       "      <td>17850</td>\n",
       "      <td>United Kingdom</td>\n",
       "      <td>20.34</td>\n",
       "    </tr>\n",
       "    <tr>\n",
       "      <th>4</th>\n",
       "      <td>4</td>\n",
       "      <td>536365</td>\n",
       "      <td>84029E</td>\n",
       "      <td>2010</td>\n",
       "      <td>12</td>\n",
       "      <td>3</td>\n",
       "      <td>8</td>\n",
       "      <td>red woolly hottie white heart.</td>\n",
       "      <td>6</td>\n",
       "      <td>2010-12-01 08:26:00</td>\n",
       "      <td>3.39</td>\n",
       "      <td>17850</td>\n",
       "      <td>United Kingdom</td>\n",
       "      <td>20.34</td>\n",
       "    </tr>\n",
       "  </tbody>\n",
       "</table>\n",
       "</div>"
      ],
      "text/plain": [
       "   Unnamed: 0  InvoiceNo StockCode  year  month  day  hour  \\\n",
       "0           0     536365    85123A  2010     12    3     8   \n",
       "1           1     536365     71053  2010     12    3     8   \n",
       "2           2     536365    84406B  2010     12    3     8   \n",
       "3           3     536365    84029G  2010     12    3     8   \n",
       "4           4     536365    84029E  2010     12    3     8   \n",
       "\n",
       "                           Description  Quantity          InvoiceDate  \\\n",
       "0   white hanging heart t-light holder         6  2010-12-01 08:26:00   \n",
       "1                  white metal lantern         6  2010-12-01 08:26:00   \n",
       "2       cream cupid hearts coat hanger         8  2010-12-01 08:26:00   \n",
       "3  knitted union flag hot water bottle         6  2010-12-01 08:26:00   \n",
       "4       red woolly hottie white heart.         6  2010-12-01 08:26:00   \n",
       "\n",
       "   UnitPrice  CustomerID         Country  amount_spent  \n",
       "0       2.55       17850  United Kingdom         15.30  \n",
       "1       3.39       17850  United Kingdom         20.34  \n",
       "2       2.75       17850  United Kingdom         22.00  \n",
       "3       3.39       17850  United Kingdom         20.34  \n",
       "4       3.39       17850  United Kingdom         20.34  "
      ]
     },
     "execution_count": 3,
     "metadata": {},
     "output_type": "execute_result"
    }
   ],
   "source": [
    "# your code here\n",
    "orders=pd.read_csv('Orders.csv')\n",
    "orders.head()"
   ]
  },
  {
   "cell_type": "code",
   "execution_count": 18,
   "metadata": {},
   "outputs": [
    {
     "data": {
      "text/plain": [
       "(14,)"
      ]
     },
     "execution_count": 18,
     "metadata": {},
     "output_type": "execute_result"
    }
   ],
   "source": [
    "orders.columns.shape"
   ]
  },
  {
   "cell_type": "markdown",
   "metadata": {},
   "source": [
    "---\n",
    "\n",
    "« Identifier les Clients VIP et Préférés » est l’objectif non technique formulé par votre responsable.  \n",
    "Vous devez traduire cet objectif en termes techniques utilisés par les analystes de données :\n",
    "\n",
    "## Comment étiqueter les clients dont le `amount_spent` cumulé se situe dans une plage de quantiles donnée ?\n"
   ]
  },
  {
   "cell_type": "markdown",
   "metadata": {},
   "source": [
    "Nous décomposons le problème principal en plusieurs sous-problèmes :\n",
    "\n",
    "#### Sous-problème 1 : Comment agréger le `amount_spent` pour chaque client unique ?\n",
    "\n",
    "#### Sous-problème 2 : Comment sélectionner les clients dont le `amount_spent` cumulé se situe dans une plage de quantiles donnée ?\n",
    "\n",
    "#### Sous-problème 3 : Comment étiqueter les clients sélectionnés comme « VIP » ou « Préféré » ?\n",
    "\n",
    "*Remarque : Si vous souhaitez décomposer le problème principal d’une autre manière, vous pouvez bien sûr modifier les sous-problèmes ci-dessus.*\n",
    "\n",
    "Maintenant, dans l’espace de travail ci-dessous, traitez chaque sous-problème en suivant le processus itératif de résolution de problème.  \n",
    "Ajoutez des cellules si nécessaire pour écrire votre code et expliquer vos étapes.\n"
   ]
  },
  {
   "cell_type": "code",
   "execution_count": 20,
   "metadata": {},
   "outputs": [
    {
     "name": "stdout",
     "output_type": "stream",
     "text": [
      "CustomerID\n",
      "12346    77183.60\n",
      "12347     1187.18\n",
      "12348     1120.24\n",
      "12350      334.40\n",
      "12352     1281.15\n",
      "12356     2271.62\n",
      "12359     2386.41\n",
      "12361      189.90\n",
      "12362      479.10\n",
      "12365      641.38\n",
      "Name: amount_spent, dtype: float64\n"
     ]
    }
   ],
   "source": [
    "# your code here\n",
    "# Grouper par identifiant client (ex: 'CustomerID') et sommer 'amount_spent'\n",
    "# Remplace 'CustomerID' par le nom réel de la colonne identifiant unique\n",
    "agg_spent = orders.groupby('CustomerID')['amount_spent'].sum()#.reset_index()\n",
    "\n",
    "# Vérifier le résultat\n",
    "print(agg_spent.head(10))"
   ]
  },
  {
   "cell_type": "markdown",
   "metadata": {},
   "source": [
    "Nous vous laissons maintenant résoudre les questions Q2 et Q3 en vous appuyant sur votre solution pour Q1 :\n",
    "\n",
    "## Q2 : Comment identifier le pays qui compte le plus de Clients VIP ?\n"
   ]
  },
  {
   "cell_type": "code",
   "execution_count": 39,
   "metadata": {},
   "outputs": [
    {
     "name": "stdout",
     "output_type": "stream",
     "text": [
      "Pays avec le plus de Clients VIP :\n",
      "           Country  VIP_Count\n",
      "13  United Kingdom         69\n",
      "3           France          4\n",
      "4          Germany          3\n",
      "1             EIRE          2\n",
      "6            Japan          2\n",
      "10           Spain          2\n",
      "0        Australia          1\n",
      "2          Finland          1\n",
      "5           Greece          1\n",
      "7      Netherlands          1\n"
     ]
    }
   ],
   "source": [
    "# your code here\n",
    "\n",
    "# Étape 1 : agréger les dépenses par client\n",
    "agg_spent = orders.groupby(['CustomerID', 'Country'])['amount_spent'].sum().reset_index()\n",
    "#agg_spent.head(20)\n",
    "# # Étape 2 : calculer le 95e percentile\n",
    "q95 = agg_spent['amount_spent'].quantile(0.95)\n",
    "#print(q95)\n",
    "\n",
    "# Étape 3 : filtrer les clients VIP\n",
    "vip_customers = agg_spent[agg_spent['amount_spent'] > q95]\n",
    "#vip_customers.head()\n",
    "\n",
    "# Étape 4 : compter le nombre de VIP par pays\n",
    "vip_per_country = vip_customers.groupby('Country').size().reset_index(name='VIP_Count')\n",
    "#vip_per_country.head(10)\n",
    "\n",
    "#Étape 5 : trouver le pays avec le plus de VIP\n",
    "top_vip_country = vip_per_country.sort_values('VIP_Count', ascending=False).head(10)\n",
    "\n",
    "print(\"Pays avec le plus de Clients VIP :\")\n",
    "print(top_vip_country)\n"
   ]
  },
  {
   "cell_type": "markdown",
   "metadata": {},
   "source": [
    "## Q3 : Comment identifier le pays qui compte le plus de Clients VIP + Préférés combinés ?\n"
   ]
  },
  {
   "cell_type": "code",
   "execution_count": 41,
   "metadata": {},
   "outputs": [
    {
     "name": "stdout",
     "output_type": "stream",
     "text": [
      "Pays avec le plus de Clients VIP + Préférés combinés :\n",
      "           Country  VIP+Preferred_Count\n",
      "24  United Kingdom                  373\n",
      "8          Germany                   20\n",
      "7           France                   14\n"
     ]
    }
   ],
   "source": [
    "# your code here\n",
    "# 1 Agréger le amount_spent par client + pays\n",
    "agg_spent = orders.groupby(['CustomerID', 'Country'])['amount_spent'].sum().reset_index()\n",
    "\n",
    "# 2 Calculer les seuils des quantiles\n",
    "q95 = agg_spent['amount_spent'].quantile(0.95)\n",
    "q75 = agg_spent['amount_spent'].quantile(0.75)\n",
    "\n",
    "# 3 Ajouter une étiquette (VIP, Preferred ou Autre)\n",
    "def label_customer(spent):\n",
    "    if spent > q95:\n",
    "        return \"VIP\"\n",
    "    elif spent > q75:\n",
    "        return \"Preferred\"\n",
    "    else:\n",
    "        return \"Other\"\n",
    "\n",
    "agg_spent['Customer_Label'] = agg_spent['amount_spent'].apply(label_customer)\n",
    "\n",
    "# 4️⃣ Filtrer seulement VIP et Preferred\n",
    "vip_pref = agg_spent[agg_spent['Customer_Label'].isin(['VIP', 'Preferred'])]\n",
    "\n",
    "# 5️⃣ Compter par pays\n",
    "vip_pref_country = vip_pref.groupby('Country').size().reset_index(name='VIP+Preferred_Count')\n",
    "\n",
    "# 6️⃣ Trouver le pays avec le plus grand total\n",
    "top_vip_pref_country = vip_pref_country.sort_values('VIP+Preferred_Count', ascending=False).head(3)\n",
    "\n",
    "print(\"Pays avec le plus de Clients VIP + Préférés combinés :\")\n",
    "print(top_vip_pref_country)"
   ]
  }
 ],
 "metadata": {
  "kernelspec": {
   "display_name": "base",
   "language": "python",
   "name": "python3"
  },
  "language_info": {
   "codemirror_mode": {
    "name": "ipython",
    "version": 3
   },
   "file_extension": ".py",
   "mimetype": "text/x-python",
   "name": "python",
   "nbconvert_exporter": "python",
   "pygments_lexer": "ipython3",
   "version": "3.12.3"
  },
  "toc": {
   "base_numbering": 1,
   "nav_menu": {},
   "number_sections": true,
   "sideBar": true,
   "skip_h1_title": false,
   "title_cell": "Table of Contents",
   "title_sidebar": "Contents",
   "toc_cell": true,
   "toc_position": {},
   "toc_section_display": true,
   "toc_window_display": false
  }
 },
 "nbformat": 4,
 "nbformat_minor": 2
}
