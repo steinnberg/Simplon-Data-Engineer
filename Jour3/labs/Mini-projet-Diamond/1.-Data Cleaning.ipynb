{
 "cells": [
  {
   "cell_type": "markdown",
   "metadata": {},
   "source": [
    "# Descriptive Statistics Review"
   ]
  },
  {
   "cell_type": "markdown",
   "metadata": {},
   "source": [
    "## Avant de commencer :\n",
    "\n",
    "- Lisez le fichier `README.md`\n",
    "- Commentez autant que possible\n",
    "- Bon apprentissage !\n"
   ]
  },
  {
   "cell_type": "markdown",
   "metadata": {},
   "source": [
    "## Context"
   ]
  },
  {
   "cell_type": "markdown",
   "metadata": {},
   "source": [
    "![img](./diamonds.jpg)"
   ]
  },
  {
   "cell_type": "markdown",
   "metadata": {},
   "source": [
    "Dans ce laboratoire, nous allons travailler avec des données pour comprendre quelles caractéristiques d’un diamant ont le plus de chances d’influencer son prix.  \n",
    "Dans cette première partie du labo, nous allons explorer et nettoyer nos données.\n",
    "\n",
    "Le jeu de données que nous allons utiliser comprend environ 54 000 lignes et 11 colonnes différentes.  \n",
    "Comme toujours, une ligne représente une seule observation (dans ce cas, un diamant) et chaque colonne représente une caractéristique distincte du diamant.\n",
    "\n",
    "Le dictionnaire de données suivant (codebook) est fourni avec le jeu de données pour clarifier ce que chaque colonne représente :\n"
   ]
  },
  {
   "cell_type": "markdown",
   "metadata": {},
   "source": [
    "| Colonne  | Description  |\n",
    "|---|---|\n",
    "| Price  | Prix en dollars américains (326–18 823)  |\n",
    "| Carat  | Poids du diamant en carats (0,2–5,01)  |\n",
    "| Cut  | Qualité de la taille (Fair, Good, Very Good, Premium, Ideal)  |\n",
    "| Color  | Couleur du diamant, de J (pire) à D (meilleure)  |\n",
    "| Clarity  | Mesure de la pureté du diamant (I1 (pire), SI2, SI1, VS2, VS1, VVS2, VVS1, IF (meilleure))  |\n",
    "| x  | Longueur en mm (0–10,74)  |\n",
    "| y  | Largeur en mm (0–58,9)  |\n",
    "| z  | Profondeur en mm (0–31,8)  |\n",
    "| Depth  | Pourcentage de profondeur totale = z / moyenne(x, y) = 2 × z / (x + y) (43–79)  |\n",
    "| Table  | Largeur du sommet du diamant par rapport au point le plus large (43–95)  |\n"
   ]
  },
  {
   "cell_type": "markdown",
   "metadata": {},
   "source": [
    "## Bibliothèques\n",
    "\n",
    "Pandas et numpy seront nécessaires pour l’analyse des données.  \n",
    "Ne vous inquiétez pas pour l’import de seaborn et matplotlib pour le moment, vous en apprendrez davantage à leur sujet la semaine prochaine, mais nous utiliserons quand même certaines de leurs fonctionnalités.\n"
   ]
  },
  {
   "cell_type": "code",
   "execution_count": 9,
   "metadata": {},
   "outputs": [],
   "source": [
    "import pandas as pd\n",
    "import numpy as np\n",
    "import seaborn as sns\n",
    "import matplotlib.pyplot as plt"
   ]
  },
  {
   "cell_type": "markdown",
   "metadata": {},
   "source": [
    "Commencez par importer les données depuis le fichier `.csv` fourni et assignez-les à une variable nommée `diamonds`.  \n",
    "Supprimez ensuite la colonne contenant l’index.\n"
   ]
  },
  {
   "cell_type": "code",
   "execution_count": 2,
   "metadata": {},
   "outputs": [],
   "source": [
    "#your code here\n",
    "diamonds = pd.read_csv('diamonds.csv')"
   ]
  },
  {
   "cell_type": "markdown",
   "metadata": {},
   "source": [
    "# 1. Premier aperçu des données\n",
    "\n",
    "Voyons à quoi ressemblent les données en utilisant des méthodes pandas comme `head()`, `info()` et `describe()`.\n",
    "\n",
    "**Commencez par utiliser la méthode `head`.**\n"
   ]
  },
  {
   "cell_type": "code",
   "execution_count": 3,
   "metadata": {},
   "outputs": [
    {
     "data": {
      "text/html": [
       "<div>\n",
       "<style scoped>\n",
       "    .dataframe tbody tr th:only-of-type {\n",
       "        vertical-align: middle;\n",
       "    }\n",
       "\n",
       "    .dataframe tbody tr th {\n",
       "        vertical-align: top;\n",
       "    }\n",
       "\n",
       "    .dataframe thead th {\n",
       "        text-align: right;\n",
       "    }\n",
       "</style>\n",
       "<table border=\"1\" class=\"dataframe\">\n",
       "  <thead>\n",
       "    <tr style=\"text-align: right;\">\n",
       "      <th></th>\n",
       "      <th>Unnamed: 0</th>\n",
       "      <th>carat</th>\n",
       "      <th>cut</th>\n",
       "      <th>color</th>\n",
       "      <th>clarity</th>\n",
       "      <th>depth</th>\n",
       "      <th>table</th>\n",
       "      <th>price</th>\n",
       "      <th>x</th>\n",
       "      <th>y</th>\n",
       "      <th>z</th>\n",
       "    </tr>\n",
       "  </thead>\n",
       "  <tbody>\n",
       "    <tr>\n",
       "      <th>0</th>\n",
       "      <td>1</td>\n",
       "      <td>0.23</td>\n",
       "      <td>Ideal</td>\n",
       "      <td>E</td>\n",
       "      <td>SI2</td>\n",
       "      <td>61.5</td>\n",
       "      <td>55.0</td>\n",
       "      <td>326</td>\n",
       "      <td>3.95</td>\n",
       "      <td>3.98</td>\n",
       "      <td>2.43</td>\n",
       "    </tr>\n",
       "    <tr>\n",
       "      <th>1</th>\n",
       "      <td>2</td>\n",
       "      <td>0.21</td>\n",
       "      <td>Premium</td>\n",
       "      <td>E</td>\n",
       "      <td>SI1</td>\n",
       "      <td>59.8</td>\n",
       "      <td>61.0</td>\n",
       "      <td>326</td>\n",
       "      <td>3.89</td>\n",
       "      <td>3.84</td>\n",
       "      <td>2.31</td>\n",
       "    </tr>\n",
       "    <tr>\n",
       "      <th>2</th>\n",
       "      <td>3</td>\n",
       "      <td>0.23</td>\n",
       "      <td>Good</td>\n",
       "      <td>E</td>\n",
       "      <td>VS1</td>\n",
       "      <td>56.9</td>\n",
       "      <td>65.0</td>\n",
       "      <td>327</td>\n",
       "      <td>4.05</td>\n",
       "      <td>4.07</td>\n",
       "      <td>2.31</td>\n",
       "    </tr>\n",
       "    <tr>\n",
       "      <th>3</th>\n",
       "      <td>4</td>\n",
       "      <td>0.29</td>\n",
       "      <td>Premium</td>\n",
       "      <td>I</td>\n",
       "      <td>VS2</td>\n",
       "      <td>62.4</td>\n",
       "      <td>58.0</td>\n",
       "      <td>334</td>\n",
       "      <td>4.20</td>\n",
       "      <td>4.23</td>\n",
       "      <td>2.63</td>\n",
       "    </tr>\n",
       "    <tr>\n",
       "      <th>4</th>\n",
       "      <td>5</td>\n",
       "      <td>0.31</td>\n",
       "      <td>Good</td>\n",
       "      <td>J</td>\n",
       "      <td>SI2</td>\n",
       "      <td>63.3</td>\n",
       "      <td>58.0</td>\n",
       "      <td>335</td>\n",
       "      <td>4.34</td>\n",
       "      <td>4.35</td>\n",
       "      <td>2.75</td>\n",
       "    </tr>\n",
       "  </tbody>\n",
       "</table>\n",
       "</div>"
      ],
      "text/plain": [
       "   Unnamed: 0  carat      cut color clarity  depth  table  price     x     y  \\\n",
       "0           1   0.23    Ideal     E     SI2   61.5   55.0    326  3.95  3.98   \n",
       "1           2   0.21  Premium     E     SI1   59.8   61.0    326  3.89  3.84   \n",
       "2           3   0.23     Good     E     VS1   56.9   65.0    327  4.05  4.07   \n",
       "3           4   0.29  Premium     I     VS2   62.4   58.0    334  4.20  4.23   \n",
       "4           5   0.31     Good     J     SI2   63.3   58.0    335  4.34  4.35   \n",
       "\n",
       "      z  \n",
       "0  2.43  \n",
       "1  2.31  \n",
       "2  2.31  \n",
       "3  2.63  \n",
       "4  2.75  "
      ]
     },
     "execution_count": 3,
     "metadata": {},
     "output_type": "execute_result"
    }
   ],
   "source": [
    "#your code here\n",
    "diamonds.head()"
   ]
  },
  {
   "cell_type": "markdown",
   "metadata": {},
   "source": [
    "Nous pouvons afficher les 5 premières lignes du jeu de données en utilisant la méthode `head`.  \n",
    "Cela ne nous en dit pas encore beaucoup sur les données que nous avons, mais cela nous permet d’avoir un premier aperçu des variables (colonnes) et de quelques valeurs que chacune contient.\n",
    "\n",
    "**Que voyez-vous ? Faites quelques commentaires sur les valeurs que vous observez dans chaque colonne, en les comparant avec le dictionnaire de données (codebook). Est-ce que cela correspond à ce que vous attendiez pour ces variables ?**\n"
   ]
  },
  {
   "cell_type": "code",
   "execution_count": 6,
   "metadata": {},
   "outputs": [
    {
     "name": "stdout",
     "output_type": "stream",
     "text": [
      "<class 'pandas.core.frame.DataFrame'>\n",
      "RangeIndex: 53940 entries, 0 to 53939\n",
      "Data columns (total 11 columns):\n",
      " #   Column      Non-Null Count  Dtype  \n",
      "---  ------      --------------  -----  \n",
      " 0   Unnamed: 0  53940 non-null  int64  \n",
      " 1   carat       53940 non-null  float64\n",
      " 2   cut         53940 non-null  object \n",
      " 3   color       53940 non-null  object \n",
      " 4   clarity     53940 non-null  object \n",
      " 5   depth       53940 non-null  float64\n",
      " 6   table       53940 non-null  float64\n",
      " 7   price       53940 non-null  int64  \n",
      " 8   x           53940 non-null  float64\n",
      " 9   y           53940 non-null  float64\n",
      " 10  z           53940 non-null  float64\n",
      "dtypes: float64(6), int64(2), object(3)\n",
      "memory usage: 4.5+ MB\n"
     ]
    }
   ],
   "source": [
    "#your code here\n",
    "diamonds.info()"
   ]
  },
  {
   "cell_type": "markdown",
   "metadata": {},
   "source": [
    "Il est très important de connaître la quantité de données que nous avons, car tout en dépendra : de la qualité de l’analyse jusqu’au choix de notre infrastructure.\n",
    "\n",
    "**Vérifiez la dimension du jeu de données (`shape`).**\n"
   ]
  },
  {
   "cell_type": "code",
   "execution_count": 7,
   "metadata": {},
   "outputs": [
    {
     "data": {
      "text/html": [
       "<div>\n",
       "<style scoped>\n",
       "    .dataframe tbody tr th:only-of-type {\n",
       "        vertical-align: middle;\n",
       "    }\n",
       "\n",
       "    .dataframe tbody tr th {\n",
       "        vertical-align: top;\n",
       "    }\n",
       "\n",
       "    .dataframe thead th {\n",
       "        text-align: right;\n",
       "    }\n",
       "</style>\n",
       "<table border=\"1\" class=\"dataframe\">\n",
       "  <thead>\n",
       "    <tr style=\"text-align: right;\">\n",
       "      <th></th>\n",
       "      <th>Unnamed: 0</th>\n",
       "      <th>carat</th>\n",
       "      <th>depth</th>\n",
       "      <th>table</th>\n",
       "      <th>price</th>\n",
       "      <th>x</th>\n",
       "      <th>y</th>\n",
       "      <th>z</th>\n",
       "    </tr>\n",
       "  </thead>\n",
       "  <tbody>\n",
       "    <tr>\n",
       "      <th>count</th>\n",
       "      <td>53940.000000</td>\n",
       "      <td>53940.000000</td>\n",
       "      <td>53940.000000</td>\n",
       "      <td>53940.000000</td>\n",
       "      <td>53940.000000</td>\n",
       "      <td>53940.000000</td>\n",
       "      <td>53940.000000</td>\n",
       "      <td>53940.000000</td>\n",
       "    </tr>\n",
       "    <tr>\n",
       "      <th>mean</th>\n",
       "      <td>26970.500000</td>\n",
       "      <td>0.797940</td>\n",
       "      <td>61.749405</td>\n",
       "      <td>57.457184</td>\n",
       "      <td>3932.799722</td>\n",
       "      <td>5.731157</td>\n",
       "      <td>5.734526</td>\n",
       "      <td>3.538734</td>\n",
       "    </tr>\n",
       "    <tr>\n",
       "      <th>std</th>\n",
       "      <td>15571.281097</td>\n",
       "      <td>0.474011</td>\n",
       "      <td>1.432621</td>\n",
       "      <td>2.234491</td>\n",
       "      <td>3989.439738</td>\n",
       "      <td>1.121761</td>\n",
       "      <td>1.142135</td>\n",
       "      <td>0.705699</td>\n",
       "    </tr>\n",
       "    <tr>\n",
       "      <th>min</th>\n",
       "      <td>1.000000</td>\n",
       "      <td>0.200000</td>\n",
       "      <td>43.000000</td>\n",
       "      <td>43.000000</td>\n",
       "      <td>326.000000</td>\n",
       "      <td>0.000000</td>\n",
       "      <td>0.000000</td>\n",
       "      <td>0.000000</td>\n",
       "    </tr>\n",
       "    <tr>\n",
       "      <th>25%</th>\n",
       "      <td>13485.750000</td>\n",
       "      <td>0.400000</td>\n",
       "      <td>61.000000</td>\n",
       "      <td>56.000000</td>\n",
       "      <td>950.000000</td>\n",
       "      <td>4.710000</td>\n",
       "      <td>4.720000</td>\n",
       "      <td>2.910000</td>\n",
       "    </tr>\n",
       "    <tr>\n",
       "      <th>50%</th>\n",
       "      <td>26970.500000</td>\n",
       "      <td>0.700000</td>\n",
       "      <td>61.800000</td>\n",
       "      <td>57.000000</td>\n",
       "      <td>2401.000000</td>\n",
       "      <td>5.700000</td>\n",
       "      <td>5.710000</td>\n",
       "      <td>3.530000</td>\n",
       "    </tr>\n",
       "    <tr>\n",
       "      <th>75%</th>\n",
       "      <td>40455.250000</td>\n",
       "      <td>1.040000</td>\n",
       "      <td>62.500000</td>\n",
       "      <td>59.000000</td>\n",
       "      <td>5324.250000</td>\n",
       "      <td>6.540000</td>\n",
       "      <td>6.540000</td>\n",
       "      <td>4.040000</td>\n",
       "    </tr>\n",
       "    <tr>\n",
       "      <th>max</th>\n",
       "      <td>53940.000000</td>\n",
       "      <td>5.010000</td>\n",
       "      <td>79.000000</td>\n",
       "      <td>95.000000</td>\n",
       "      <td>18823.000000</td>\n",
       "      <td>10.740000</td>\n",
       "      <td>58.900000</td>\n",
       "      <td>31.800000</td>\n",
       "    </tr>\n",
       "  </tbody>\n",
       "</table>\n",
       "</div>"
      ],
      "text/plain": [
       "         Unnamed: 0         carat         depth         table         price  \\\n",
       "count  53940.000000  53940.000000  53940.000000  53940.000000  53940.000000   \n",
       "mean   26970.500000      0.797940     61.749405     57.457184   3932.799722   \n",
       "std    15571.281097      0.474011      1.432621      2.234491   3989.439738   \n",
       "min        1.000000      0.200000     43.000000     43.000000    326.000000   \n",
       "25%    13485.750000      0.400000     61.000000     56.000000    950.000000   \n",
       "50%    26970.500000      0.700000     61.800000     57.000000   2401.000000   \n",
       "75%    40455.250000      1.040000     62.500000     59.000000   5324.250000   \n",
       "max    53940.000000      5.010000     79.000000     95.000000  18823.000000   \n",
       "\n",
       "                  x             y             z  \n",
       "count  53940.000000  53940.000000  53940.000000  \n",
       "mean       5.731157      5.734526      3.538734  \n",
       "std        1.121761      1.142135      0.705699  \n",
       "min        0.000000      0.000000      0.000000  \n",
       "25%        4.710000      4.720000      2.910000  \n",
       "50%        5.700000      5.710000      3.530000  \n",
       "75%        6.540000      6.540000      4.040000  \n",
       "max       10.740000     58.900000     31.800000  "
      ]
     },
     "execution_count": 7,
     "metadata": {},
     "output_type": "execute_result"
    }
   ],
   "source": [
    "diamonds.describe()"
   ]
  },
  {
   "cell_type": "code",
   "execution_count": 5,
   "metadata": {},
   "outputs": [
    {
     "data": {
      "text/plain": [
       "(53940, 11)"
      ]
     },
     "execution_count": 5,
     "metadata": {},
     "output_type": "execute_result"
    }
   ],
   "source": [
    "#your code here\n",
    "diamonds.shape"
   ]
  },
  {
   "cell_type": "markdown",
   "metadata": {},
   "source": [
    "La colonne `clarity` est déroutante car nous ne sommes pas des experts en diamants.  \n",
    "Créons une nouvelle colonne avec une échelle plus facile à comprendre.\n",
    "\n",
    "**Créez une nouvelle colonne contenant des nombres de 0 à 7.  \n",
    "Le plus bas sera 0 pour la valeur `I1` et le plus haut sera 7 pour la valeur `IF`.**\n"
   ]
  },
  {
   "cell_type": "code",
   "execution_count": 8,
   "metadata": {},
   "outputs": [
    {
     "name": "stdout",
     "output_type": "stream",
     "text": [
      "  clarity  clarity_numeric\n",
      "0     SI2                1\n",
      "1     SI1                2\n",
      "2     VS1                4\n",
      "3     VS2                3\n",
      "4     SI2                1\n"
     ]
    }
   ],
   "source": [
    "#your code here\n",
    "# Définir l'ordre de clarté du pire au meilleur\n",
    "clarity_scale = {\n",
    "    'I1': 0,\n",
    "    'SI2': 1,\n",
    "    'SI1': 2,\n",
    "    'VS2': 3,\n",
    "    'VS1': 4,\n",
    "    'VVS2': 5,\n",
    "    'VVS1': 6,\n",
    "    'IF': 7\n",
    "}\n",
    "\n",
    "# Créer une nouvelle colonne avec le score numérique\n",
    "diamonds['clarity_numeric'] = diamonds['clarity'].map(clarity_scale)\n",
    "\n",
    "# Vérifier le résultat\n",
    "print(diamonds[['clarity', 'clarity_numeric']].head())"
   ]
  },
  {
   "cell_type": "markdown",
   "metadata": {},
   "source": [
    "Il est logique de faire la même chose pour la colonne `color`.\n",
    "\n",
    "**Faites de même avec des valeurs de 0 à 6. Consultez le dictionnaire de données pour connaître la correspondance.**\n"
   ]
  },
  {
   "cell_type": "code",
   "execution_count": null,
   "metadata": {},
   "outputs": [],
   "source": [
    "#your code here\n",
    "# Définir l'échelle de couleur du pire au meilleur\n",
    "color_scale = {\n",
    "    'J': 0,\n",
    "    'I': 1,\n",
    "    'H': 2,\n",
    "    'G': 3,\n",
    "    'F': 4,\n",
    "    'E': 5,\n",
    "    'D': 6\n",
    "}\n",
    "\n",
    "# Créer une nouvelle colonne avec l'échelle numérique\n",
    "diamonds['color_numeric'] = diamonds['color'].map(color_scale)\n",
    "\n",
    "# Vérifier le résultat\n",
    "print(diamonds[['color', 'color_numeric']].head())"
   ]
  },
  {
   "cell_type": "markdown",
   "metadata": {},
   "source": [
    "Avec la méthode `info`, nous pouvons voir les caractéristiques du jeu de données, le nombre d’observations (lignes) ayant une valeur non nulle et les types des colonnes.\n",
    "\n",
    "**Utilisez maintenant la méthode `info` et, en la comparant avec la dimension (`shape`), commentez ce que vous observez.**\n"
   ]
  },
  {
   "cell_type": "code",
   "execution_count": 10,
   "metadata": {},
   "outputs": [
    {
     "name": "stdout",
     "output_type": "stream",
     "text": [
      "<class 'pandas.core.frame.DataFrame'>\n",
      "RangeIndex: 53940 entries, 0 to 53939\n",
      "Data columns (total 12 columns):\n",
      " #   Column           Non-Null Count  Dtype  \n",
      "---  ------           --------------  -----  \n",
      " 0   Unnamed: 0       53940 non-null  int64  \n",
      " 1   carat            53940 non-null  float64\n",
      " 2   cut              53940 non-null  object \n",
      " 3   color            53940 non-null  object \n",
      " 4   clarity          53940 non-null  object \n",
      " 5   depth            53940 non-null  float64\n",
      " 6   table            53940 non-null  float64\n",
      " 7   price            53940 non-null  int64  \n",
      " 8   x                53940 non-null  float64\n",
      " 9   y                53940 non-null  float64\n",
      " 10  z                53940 non-null  float64\n",
      " 11  clarity_numeric  53940 non-null  int64  \n",
      "dtypes: float64(6), int64(3), object(3)\n",
      "memory usage: 4.9+ MB\n"
     ]
    }
   ],
   "source": [
    "#your code here\n",
    "diamonds.info()"
   ]
  },
  {
   "cell_type": "markdown",
   "metadata": {},
   "source": [
    "Dans la dernière ligne du résultat de la méthode `info`, vous trouvez des informations sur les types des colonnes.  \n",
    "Comme vous le savez, il est toujours recommandé de vérifier si le type de chaque colonne correspond bien à ce que vous attendez.  \n",
    "Si une colonne a le bon type, nous pourrons réaliser toutes les opérations que nous souhaitons.\n",
    "\n",
    "Par exemple, si nous avons une colonne `date` au format `string`, nous aurons bien la donnée mais nous ne pourrons pas réaliser d’opérations simples, comme reformater la date comme nous le voulons.\n",
    "\n",
    "Changer le type de données pour qu’il corresponde à ce dont nous avons besoin peut nous aider à résoudre de nombreux problèmes dans nos données.\n",
    "\n",
    "**Vérifiez le type de chaque colonne et commentez si cela correspond à ce qui est attendu.**\n"
   ]
  },
  {
   "cell_type": "code",
   "execution_count": null,
   "metadata": {},
   "outputs": [],
   "source": [
    "#your code here\n"
   ]
  },
  {
   "cell_type": "markdown",
   "metadata": {},
   "source": [
    "# 2. A deeper look: checking the basic statistics.\n",
    "\n",
    "The `describe` method gives us an overview of our data. From here we can see all the descriptive metrics for our variables.\n",
    "\n",
    "**Use the `describe` method and comment on what you see**"
   ]
  },
  {
   "cell_type": "code",
   "execution_count": 11,
   "metadata": {},
   "outputs": [
    {
     "data": {
      "text/plain": [
       "<bound method NDFrame.describe of        Unnamed: 0  carat        cut color clarity  depth  table  price     x  \\\n",
       "0               1   0.23      Ideal     E     SI2   61.5   55.0    326  3.95   \n",
       "1               2   0.21    Premium     E     SI1   59.8   61.0    326  3.89   \n",
       "2               3   0.23       Good     E     VS1   56.9   65.0    327  4.05   \n",
       "3               4   0.29    Premium     I     VS2   62.4   58.0    334  4.20   \n",
       "4               5   0.31       Good     J     SI2   63.3   58.0    335  4.34   \n",
       "...           ...    ...        ...   ...     ...    ...    ...    ...   ...   \n",
       "53935       53936   0.72      Ideal     D     SI1   60.8   57.0   2757  5.75   \n",
       "53936       53937   0.72       Good     D     SI1   63.1   55.0   2757  5.69   \n",
       "53937       53938   0.70  Very Good     D     SI1   62.8   60.0   2757  5.66   \n",
       "53938       53939   0.86    Premium     H     SI2   61.0   58.0   2757  6.15   \n",
       "53939       53940   0.75      Ideal     D     SI2   62.2   55.0   2757  5.83   \n",
       "\n",
       "          y     z  clarity_numeric  \n",
       "0      3.98  2.43                1  \n",
       "1      3.84  2.31                2  \n",
       "2      4.07  2.31                4  \n",
       "3      4.23  2.63                3  \n",
       "4      4.35  2.75                1  \n",
       "...     ...   ...              ...  \n",
       "53935  5.76  3.50                2  \n",
       "53936  5.75  3.61                2  \n",
       "53937  5.68  3.56                2  \n",
       "53938  6.12  3.74                1  \n",
       "53939  5.87  3.64                1  \n",
       "\n",
       "[53940 rows x 12 columns]>"
      ]
     },
     "execution_count": 11,
     "metadata": {},
     "output_type": "execute_result"
    }
   ],
   "source": [
    "#your code and comments here\n",
    "diamonds.describe"
   ]
  },
  {
   "cell_type": "markdown",
   "metadata": {},
   "source": [
    "Vous avez probablement remarqué que les colonnes `x`, `y` et `z` ont une valeur minimale de 0.  \n",
    "Cela signifie qu’il existe une ou plusieurs lignes (ou observations) dans notre jeu de données qui sont censées représenter un diamant ayant une longueur, une largeur ou une profondeur égale à 0.  \n",
    "Étant donné qu’il s’agit d’un objet physique, cela est impossible !\n",
    "\n",
    "Voyons maintenant quelles sont les lignes qui ont une valeur de 0 dans l’une des colonnes `x`, `y` ou `z`.  \n",
    "En faisant cela, nous voulons vérifier si les données manquantes peuvent être récupérées en utilisant les informations que nous avons déjà.\n",
    "\n",
    "**Vérifiez les lignes où `x`, `y` ou `z` ont une valeur de 0 et commentez ce que vous observez.**\n"
   ]
  },
  {
   "cell_type": "code",
   "execution_count": 12,
   "metadata": {},
   "outputs": [
    {
     "name": "stdout",
     "output_type": "stream",
     "text": [
      "       Unnamed: 0  carat        cut color clarity  depth  table  price     x  \\\n",
      "2207         2208   1.00    Premium     G     SI2   59.1   59.0   3142  6.55   \n",
      "2314         2315   1.01    Premium     H      I1   58.1   59.0   3167  6.66   \n",
      "4791         4792   1.10    Premium     G     SI2   63.0   59.0   3696  6.50   \n",
      "5471         5472   1.01    Premium     F     SI2   59.2   58.0   3837  6.50   \n",
      "10167       10168   1.50       Good     G      I1   64.0   61.0   4731  7.15   \n",
      "11182       11183   1.07      Ideal     F     SI2   61.6   56.0   4954  0.00   \n",
      "11963       11964   1.00  Very Good     H     VS2   63.3   53.0   5139  0.00   \n",
      "13601       13602   1.15      Ideal     G     VS2   59.2   56.0   5564  6.88   \n",
      "15951       15952   1.14       Fair     G     VS1   57.5   67.0   6381  0.00   \n",
      "24394       24395   2.18    Premium     H     SI2   59.4   61.0  12631  8.49   \n",
      "24520       24521   1.56      Ideal     G     VS2   62.2   54.0  12800  0.00   \n",
      "26123       26124   2.25    Premium     I     SI1   61.3   58.0  15397  8.52   \n",
      "26243       26244   1.20    Premium     D    VVS1   62.1   59.0  15686  0.00   \n",
      "27112       27113   2.20    Premium     H     SI1   61.2   59.0  17265  8.42   \n",
      "27429       27430   2.25    Premium     H     SI2   62.8   59.0  18034  0.00   \n",
      "27503       27504   2.02    Premium     H     VS2   62.7   53.0  18207  8.02   \n",
      "27739       27740   2.80       Good     G     SI2   63.8   58.0  18788  8.90   \n",
      "49556       49557   0.71       Good     F     SI2   64.1   60.0   2130  0.00   \n",
      "49557       49558   0.71       Good     F     SI2   64.1   60.0   2130  0.00   \n",
      "51506       51507   1.12    Premium     G      I1   60.4   59.0   2383  6.71   \n",
      "\n",
      "          y    z  clarity_numeric  \n",
      "2207   6.48  0.0                1  \n",
      "2314   6.60  0.0                0  \n",
      "4791   6.47  0.0                1  \n",
      "5471   6.47  0.0                1  \n",
      "10167  7.04  0.0                0  \n",
      "11182  6.62  0.0                1  \n",
      "11963  0.00  0.0                3  \n",
      "13601  6.83  0.0                3  \n",
      "15951  0.00  0.0                4  \n",
      "24394  8.45  0.0                1  \n",
      "24520  0.00  0.0                3  \n",
      "26123  8.42  0.0                2  \n",
      "26243  0.00  0.0                6  \n",
      "27112  8.37  0.0                2  \n",
      "27429  0.00  0.0                1  \n",
      "27503  7.95  0.0                3  \n",
      "27739  8.85  0.0                1  \n",
      "49556  0.00  0.0                1  \n",
      "49557  0.00  0.0                1  \n",
      "51506  6.67  0.0                0  \n",
      "Nombre de lignes avec x, y ou z = 0 : 20\n"
     ]
    }
   ],
   "source": [
    "#your code here\n",
    "diamonds_zero_xyz = diamonds[\n",
    "    (diamonds['x'] == 0) | (diamonds['y'] == 0) | (diamonds['z'] == 0)\n",
    "]\n",
    "\n",
    "# Afficher les lignes concernées\n",
    "print(diamonds_zero_xyz)\n",
    "\n",
    "# Afficher combien de lignes sont concernées\n",
    "print(f\"Nombre de lignes avec x, y ou z = 0 : {diamonds_zero_xyz.shape[0]}\")"
   ]
  },
  {
   "cell_type": "markdown",
   "metadata": {},
   "source": [
    "Comme vous pouvez le constater, nous avons 20 lignes qui ont une valeur de 0 dans certaines ou toutes les colonnes mentionnées ci-dessus.  \n",
    "La plupart d’entre elles (12) n’ont pas de valeur pour `z`, que nous pouvons obtenir en utilisant les colonnes `depth`, `x` et `y`.\n",
    "\n",
    "20 lignes problématiques représentent seulement 0,03 % de nos données (20 sur 53 940), donc ce ne serait pas un gros problème de les supprimer.  \n",
    "Cependant, essayons de conserver toutes les données que nous pouvons.\n",
    "\n",
    "Pour ces 12 lignes, nous allons créer une fonction qui applique la formule donnée dans le dictionnaire de données pour calculer la valeur de `z`.  \n",
    "Nous supprimerons les autres lignes (8), car elles manquent de toutes les 3 valeurs ou de 2 d’entre elles.\n",
    "\n",
    "**Créez une fonction nommée `calculate_z` qui applique la formule du dictionnaire de données à une seule ligne passée en argument.**\n"
   ]
  },
  {
   "cell_type": "markdown",
   "metadata": {},
   "source": [
    "- pour appliquer une fonction sur des lignes entières, utilisez apply avec axis=1 !\n",
    "- map ne s’utilise que sur une série unique (une colonne)."
   ]
  },
  {
   "cell_type": "code",
   "execution_count": 14,
   "metadata": {},
   "outputs": [],
   "source": [
    "#your code here\n",
    "# Créer une fonction pour calculer z à partir de depth, x et y\n",
    "def calculate_z(row):\n",
    "    \"\"\"\n",
    "    Calcule la profondeur z pour une ligne donnée en utilisant :\n",
    "    Depth = z / moyenne(x, y)  →  z = Depth * (x + y) / 2\n",
    "    \"\"\"\n",
    "    return row['depth'] * (row['x'] + row['y']) / 2\n"
   ]
  },
  {
   "cell_type": "markdown",
   "metadata": {},
   "source": [
    "**Apply it just to the rows with incorrect values**"
   ]
  },
  {
   "cell_type": "code",
   "execution_count": 20,
   "metadata": {},
   "outputs": [
    {
     "name": "stdout",
     "output_type": "stream",
     "text": [
      "Empty DataFrame\n",
      "Columns: [x, y, depth, z]\n",
      "Index: []\n"
     ]
    }
   ],
   "source": [
    "#your code here\n",
    "# Trouver les lignes avec z = 0 mais x et y valides\n",
    "find_missing_z = (diamonds['z'] == 0) & (diamonds['x'] > 0) & (diamonds['y'] > 0)\n",
    "\n",
    "# Appliquer uniquement à ces lignes pour remplacer z\n",
    "diamonds.loc[find_missing_z, 'z'] = diamonds[find_missing_z].apply(calculate_z, axis=1)\n",
    "\n",
    "# Vérifier\n",
    "print(diamonds.loc[find_missing_z, ['x', 'y', 'depth', 'z']].head())"
   ]
  },
  {
   "cell_type": "markdown",
   "metadata": {},
   "source": [
    "Si nous laissons les 8 autres valeurs telles quelles, cela affecterait négativement notre analyse car ces données n’ont aucun sens logique.  \n",
    "Il est donc préférable de considérer ces valeurs comme des valeurs `NaN`, car elles résultent probablement d’une erreur ou d’un problème lors du processus de mesure ou de stockage dans le jeu de données.\n",
    "\n",
    "Pour les remplacer, nous pouvons utiliser la méthode `.replace()` de pandas et `np.NaN`.\n",
    "\n",
    "**Remplacez les valeurs nulles (`0`) de la colonne `z` par `NaN`.**\n"
   ]
  },
  {
   "cell_type": "code",
   "execution_count": 21,
   "metadata": {},
   "outputs": [
    {
     "name": "stdout",
     "output_type": "stream",
     "text": [
      "8\n"
     ]
    }
   ],
   "source": [
    "#your code here\n",
    "# Remplacer les valeurs 0 dans la colonne 'z' par NaN\n",
    "diamonds['z'] = diamonds['z'].replace(0, np.NaN)\n",
    "\n",
    "# Vérifier le résultat\n",
    "print(diamonds['z'].isna().sum())"
   ]
  },
  {
   "cell_type": "markdown",
   "metadata": {},
   "source": [
    "----\n",
    "# Bonus : vérifier les nouvelles valeurs de z\n",
    "\n",
    "Puisque nous devons être sûrs à 100 % de nos données, créons une fonction qui valide nos valeurs de `z`.  \n",
    "Pour cela, nous allons utiliser la même formule, mais cette fois nous allons calculer la valeur de `depth` en utilisant la nouvelle valeur de `z`.\n",
    "\n",
    "**Créez une fonction nommée `validate_z` qui compare la valeur de `z` dans les lignes ci-dessus avec celle obtenue par la formule, puis exécutez-la sur les lignes que vous avez modifiées précédemment.**\n"
   ]
  },
  {
   "cell_type": "code",
   "execution_count": 22,
   "metadata": {},
   "outputs": [
    {
     "name": "stdout",
     "output_type": "stream",
     "text": [
      "Nombre de lignes validées : 12\n",
      "Nombre total vérifiées : 53932\n"
     ]
    }
   ],
   "source": [
    "#your code here\n",
    "# Définir la fonction de validation\n",
    "def validate_z(row):\n",
    "    \"\"\"\n",
    "    Vérifie si la profondeur calculée à partir du z actuel\n",
    "    correspond bien à la valeur de 'depth' enregistrée.\n",
    "    \"\"\"\n",
    "    # Éviter la division par zéro\n",
    "    if (row['x'] + row['y']) == 0:\n",
    "        return False\n",
    "    \n",
    "    # Calculer depth à partir de z\n",
    "    computed_depth = row['z'] / ((row['x'] + row['y']) / 2)\n",
    "    \n",
    "    # Autoriser une petite marge d'erreur\n",
    "    return abs(computed_depth - row['depth']) < 1e-6\n",
    "\n",
    "# Filtrer les lignes qu'on avait modifiées\n",
    "mask_replaced_z = (diamonds['z'].notna()) & (diamonds['x'] > 0) & (diamonds['y'] > 0)\n",
    "\n",
    "# Appliquer la vérification\n",
    "validation_results = diamonds[mask_replaced_z].apply(validate_z, axis=1)\n",
    "\n",
    "# Vérifier combien sont correctes\n",
    "print(f\"Nombre de lignes validées : {validation_results.sum()}\")\n",
    "print(f\"Nombre total vérifiées : {validation_results.shape[0]}\")\n"
   ]
  },
  {
   "cell_type": "markdown",
   "metadata": {},
   "source": [
    "Let's check the data again with the `describe()` method."
   ]
  },
  {
   "cell_type": "markdown",
   "metadata": {},
   "source": [
    "The minimum value for x, y and z should now be a positive number, as it should be for the physical measurements of an object."
   ]
  },
  {
   "cell_type": "markdown",
   "metadata": {},
   "source": [
    "Let's finish by checking for NaN values in the data. Since we introduced them ourselves using 'replace', we will surely find some, but there may be more that are unrelated to the x, y and z columns. Checking NaNs is a fundamental part of data cleaning and it's always better to do this kind of operations before proceeding with analysis.\n",
    "\n",
    "**Check how many NaNs do you have, comment what you would do with those values, and then do so**"
   ]
  },
  {
   "cell_type": "code",
   "execution_count": 24,
   "metadata": {},
   "outputs": [
    {
     "data": {
      "text/html": [
       "<div>\n",
       "<style scoped>\n",
       "    .dataframe tbody tr th:only-of-type {\n",
       "        vertical-align: middle;\n",
       "    }\n",
       "\n",
       "    .dataframe tbody tr th {\n",
       "        vertical-align: top;\n",
       "    }\n",
       "\n",
       "    .dataframe thead th {\n",
       "        text-align: right;\n",
       "    }\n",
       "</style>\n",
       "<table border=\"1\" class=\"dataframe\">\n",
       "  <thead>\n",
       "    <tr style=\"text-align: right;\">\n",
       "      <th></th>\n",
       "      <th>count</th>\n",
       "      <th>mean</th>\n",
       "      <th>std</th>\n",
       "      <th>min</th>\n",
       "      <th>25%</th>\n",
       "      <th>50%</th>\n",
       "      <th>75%</th>\n",
       "      <th>max</th>\n",
       "    </tr>\n",
       "  </thead>\n",
       "  <tbody>\n",
       "    <tr>\n",
       "      <th>Unnamed: 0</th>\n",
       "      <td>53940.00</td>\n",
       "      <td>26970.50</td>\n",
       "      <td>15571.28</td>\n",
       "      <td>1.00</td>\n",
       "      <td>13485.75</td>\n",
       "      <td>26970.50</td>\n",
       "      <td>40455.25</td>\n",
       "      <td>53940.00</td>\n",
       "    </tr>\n",
       "    <tr>\n",
       "      <th>carat</th>\n",
       "      <td>53940.00</td>\n",
       "      <td>0.80</td>\n",
       "      <td>0.47</td>\n",
       "      <td>0.20</td>\n",
       "      <td>0.40</td>\n",
       "      <td>0.70</td>\n",
       "      <td>1.04</td>\n",
       "      <td>5.01</td>\n",
       "    </tr>\n",
       "    <tr>\n",
       "      <th>depth</th>\n",
       "      <td>53940.00</td>\n",
       "      <td>61.75</td>\n",
       "      <td>1.43</td>\n",
       "      <td>43.00</td>\n",
       "      <td>61.00</td>\n",
       "      <td>61.80</td>\n",
       "      <td>62.50</td>\n",
       "      <td>79.00</td>\n",
       "    </tr>\n",
       "    <tr>\n",
       "      <th>table</th>\n",
       "      <td>53940.00</td>\n",
       "      <td>57.46</td>\n",
       "      <td>2.23</td>\n",
       "      <td>43.00</td>\n",
       "      <td>56.00</td>\n",
       "      <td>57.00</td>\n",
       "      <td>59.00</td>\n",
       "      <td>95.00</td>\n",
       "    </tr>\n",
       "    <tr>\n",
       "      <th>price</th>\n",
       "      <td>53940.00</td>\n",
       "      <td>3932.80</td>\n",
       "      <td>3989.44</td>\n",
       "      <td>326.00</td>\n",
       "      <td>950.00</td>\n",
       "      <td>2401.00</td>\n",
       "      <td>5324.25</td>\n",
       "      <td>18823.00</td>\n",
       "    </tr>\n",
       "    <tr>\n",
       "      <th>x</th>\n",
       "      <td>53940.00</td>\n",
       "      <td>5.73</td>\n",
       "      <td>1.12</td>\n",
       "      <td>0.00</td>\n",
       "      <td>4.71</td>\n",
       "      <td>5.70</td>\n",
       "      <td>6.54</td>\n",
       "      <td>10.74</td>\n",
       "    </tr>\n",
       "    <tr>\n",
       "      <th>y</th>\n",
       "      <td>53940.00</td>\n",
       "      <td>5.73</td>\n",
       "      <td>1.14</td>\n",
       "      <td>0.00</td>\n",
       "      <td>4.72</td>\n",
       "      <td>5.71</td>\n",
       "      <td>6.54</td>\n",
       "      <td>58.90</td>\n",
       "    </tr>\n",
       "    <tr>\n",
       "      <th>z</th>\n",
       "      <td>53932.00</td>\n",
       "      <td>3.64</td>\n",
       "      <td>6.80</td>\n",
       "      <td>1.07</td>\n",
       "      <td>2.91</td>\n",
       "      <td>3.53</td>\n",
       "      <td>4.04</td>\n",
       "      <td>566.23</td>\n",
       "    </tr>\n",
       "    <tr>\n",
       "      <th>clarity_numeric</th>\n",
       "      <td>53940.00</td>\n",
       "      <td>3.05</td>\n",
       "      <td>1.65</td>\n",
       "      <td>0.00</td>\n",
       "      <td>2.00</td>\n",
       "      <td>3.00</td>\n",
       "      <td>4.00</td>\n",
       "      <td>7.00</td>\n",
       "    </tr>\n",
       "  </tbody>\n",
       "</table>\n",
       "</div>"
      ],
      "text/plain": [
       "                   count     mean      std    min      25%      50%      75%  \\\n",
       "Unnamed: 0      53940.00 26970.50 15571.28   1.00 13485.75 26970.50 40455.25   \n",
       "carat           53940.00     0.80     0.47   0.20     0.40     0.70     1.04   \n",
       "depth           53940.00    61.75     1.43  43.00    61.00    61.80    62.50   \n",
       "table           53940.00    57.46     2.23  43.00    56.00    57.00    59.00   \n",
       "price           53940.00  3932.80  3989.44 326.00   950.00  2401.00  5324.25   \n",
       "x               53940.00     5.73     1.12   0.00     4.71     5.70     6.54   \n",
       "y               53940.00     5.73     1.14   0.00     4.72     5.71     6.54   \n",
       "z               53932.00     3.64     6.80   1.07     2.91     3.53     4.04   \n",
       "clarity_numeric 53940.00     3.05     1.65   0.00     2.00     3.00     4.00   \n",
       "\n",
       "                     max  \n",
       "Unnamed: 0      53940.00  \n",
       "carat               5.01  \n",
       "depth              79.00  \n",
       "table              95.00  \n",
       "price           18823.00  \n",
       "x                  10.74  \n",
       "y                  58.90  \n",
       "z                 566.23  \n",
       "clarity_numeric     7.00  "
      ]
     },
     "execution_count": 24,
     "metadata": {},
     "output_type": "execute_result"
    }
   ],
   "source": [
    "#your code here\n",
    "# Plus de décimales et transposé\n",
    "pd.set_option('display.float_format', '{:.2f}'.format)\n",
    "\n",
    "# Résumé statistique transposé pour meilleure lecture\n",
    "diamonds.describe().T"
   ]
  },
  {
   "cell_type": "code",
   "execution_count": 25,
   "metadata": {},
   "outputs": [
    {
     "data": {
      "text/html": [
       "<style type=\"text/css\">\n",
       "#T_4e81a_row0_col0, #T_4e81a_row0_col1, #T_4e81a_row0_col2, #T_4e81a_row0_col4, #T_4e81a_row0_col5, #T_4e81a_row0_col6, #T_4e81a_row0_col7, #T_4e81a_row1_col0, #T_4e81a_row2_col0, #T_4e81a_row3_col0, #T_4e81a_row4_col0, #T_4e81a_row4_col3, #T_4e81a_row5_col0, #T_4e81a_row6_col0, #T_4e81a_row8_col0 {\n",
       "  background-color: #08306b;\n",
       "  color: #f1f1f1;\n",
       "}\n",
       "#T_4e81a_row0_col3, #T_4e81a_row1_col1, #T_4e81a_row1_col2, #T_4e81a_row1_col3, #T_4e81a_row1_col4, #T_4e81a_row1_col5, #T_4e81a_row1_col6, #T_4e81a_row1_col7, #T_4e81a_row2_col1, #T_4e81a_row2_col2, #T_4e81a_row2_col5, #T_4e81a_row2_col6, #T_4e81a_row2_col7, #T_4e81a_row3_col1, #T_4e81a_row3_col2, #T_4e81a_row3_col5, #T_4e81a_row3_col6, #T_4e81a_row3_col7, #T_4e81a_row5_col1, #T_4e81a_row5_col2, #T_4e81a_row5_col3, #T_4e81a_row5_col4, #T_4e81a_row5_col5, #T_4e81a_row5_col6, #T_4e81a_row5_col7, #T_4e81a_row6_col1, #T_4e81a_row6_col2, #T_4e81a_row6_col3, #T_4e81a_row6_col4, #T_4e81a_row6_col5, #T_4e81a_row6_col6, #T_4e81a_row6_col7, #T_4e81a_row7_col0, #T_4e81a_row7_col1, #T_4e81a_row7_col2, #T_4e81a_row7_col3, #T_4e81a_row7_col4, #T_4e81a_row7_col5, #T_4e81a_row7_col6, #T_4e81a_row8_col1, #T_4e81a_row8_col2, #T_4e81a_row8_col3, #T_4e81a_row8_col4, #T_4e81a_row8_col5, #T_4e81a_row8_col6, #T_4e81a_row8_col7 {\n",
       "  background-color: #f7fbff;\n",
       "  color: #000000;\n",
       "}\n",
       "#T_4e81a_row2_col3, #T_4e81a_row3_col3, #T_4e81a_row4_col6 {\n",
       "  background-color: #ddeaf7;\n",
       "  color: #000000;\n",
       "}\n",
       "#T_4e81a_row2_col4, #T_4e81a_row3_col4 {\n",
       "  background-color: #f6faff;\n",
       "  color: #000000;\n",
       "}\n",
       "#T_4e81a_row4_col1 {\n",
       "  background-color: #dae8f6;\n",
       "  color: #000000;\n",
       "}\n",
       "#T_4e81a_row4_col2 {\n",
       "  background-color: #c4daee;\n",
       "  color: #000000;\n",
       "}\n",
       "#T_4e81a_row4_col4 {\n",
       "  background-color: #e9f2fa;\n",
       "  color: #000000;\n",
       "}\n",
       "#T_4e81a_row4_col5 {\n",
       "  background-color: #e6f0f9;\n",
       "  color: #000000;\n",
       "}\n",
       "#T_4e81a_row4_col7 {\n",
       "  background-color: #a6cee4;\n",
       "  color: #000000;\n",
       "}\n",
       "#T_4e81a_row7_col7 {\n",
       "  background-color: #f5fafe;\n",
       "  color: #000000;\n",
       "}\n",
       "</style>\n",
       "<table id=\"T_4e81a\">\n",
       "  <thead>\n",
       "    <tr>\n",
       "      <th class=\"blank level0\" >&nbsp;</th>\n",
       "      <th id=\"T_4e81a_level0_col0\" class=\"col_heading level0 col0\" >count</th>\n",
       "      <th id=\"T_4e81a_level0_col1\" class=\"col_heading level0 col1\" >mean</th>\n",
       "      <th id=\"T_4e81a_level0_col2\" class=\"col_heading level0 col2\" >std</th>\n",
       "      <th id=\"T_4e81a_level0_col3\" class=\"col_heading level0 col3\" >min</th>\n",
       "      <th id=\"T_4e81a_level0_col4\" class=\"col_heading level0 col4\" >25%</th>\n",
       "      <th id=\"T_4e81a_level0_col5\" class=\"col_heading level0 col5\" >50%</th>\n",
       "      <th id=\"T_4e81a_level0_col6\" class=\"col_heading level0 col6\" >75%</th>\n",
       "      <th id=\"T_4e81a_level0_col7\" class=\"col_heading level0 col7\" >max</th>\n",
       "    </tr>\n",
       "  </thead>\n",
       "  <tbody>\n",
       "    <tr>\n",
       "      <th id=\"T_4e81a_level0_row0\" class=\"row_heading level0 row0\" >Unnamed: 0</th>\n",
       "      <td id=\"T_4e81a_row0_col0\" class=\"data row0 col0\" >53940.000000</td>\n",
       "      <td id=\"T_4e81a_row0_col1\" class=\"data row0 col1\" >26970.500000</td>\n",
       "      <td id=\"T_4e81a_row0_col2\" class=\"data row0 col2\" >15571.281097</td>\n",
       "      <td id=\"T_4e81a_row0_col3\" class=\"data row0 col3\" >1.000000</td>\n",
       "      <td id=\"T_4e81a_row0_col4\" class=\"data row0 col4\" >13485.750000</td>\n",
       "      <td id=\"T_4e81a_row0_col5\" class=\"data row0 col5\" >26970.500000</td>\n",
       "      <td id=\"T_4e81a_row0_col6\" class=\"data row0 col6\" >40455.250000</td>\n",
       "      <td id=\"T_4e81a_row0_col7\" class=\"data row0 col7\" >53940.000000</td>\n",
       "    </tr>\n",
       "    <tr>\n",
       "      <th id=\"T_4e81a_level0_row1\" class=\"row_heading level0 row1\" >carat</th>\n",
       "      <td id=\"T_4e81a_row1_col0\" class=\"data row1 col0\" >53940.000000</td>\n",
       "      <td id=\"T_4e81a_row1_col1\" class=\"data row1 col1\" >0.797940</td>\n",
       "      <td id=\"T_4e81a_row1_col2\" class=\"data row1 col2\" >0.474011</td>\n",
       "      <td id=\"T_4e81a_row1_col3\" class=\"data row1 col3\" >0.200000</td>\n",
       "      <td id=\"T_4e81a_row1_col4\" class=\"data row1 col4\" >0.400000</td>\n",
       "      <td id=\"T_4e81a_row1_col5\" class=\"data row1 col5\" >0.700000</td>\n",
       "      <td id=\"T_4e81a_row1_col6\" class=\"data row1 col6\" >1.040000</td>\n",
       "      <td id=\"T_4e81a_row1_col7\" class=\"data row1 col7\" >5.010000</td>\n",
       "    </tr>\n",
       "    <tr>\n",
       "      <th id=\"T_4e81a_level0_row2\" class=\"row_heading level0 row2\" >depth</th>\n",
       "      <td id=\"T_4e81a_row2_col0\" class=\"data row2 col0\" >53940.000000</td>\n",
       "      <td id=\"T_4e81a_row2_col1\" class=\"data row2 col1\" >61.749405</td>\n",
       "      <td id=\"T_4e81a_row2_col2\" class=\"data row2 col2\" >1.432621</td>\n",
       "      <td id=\"T_4e81a_row2_col3\" class=\"data row2 col3\" >43.000000</td>\n",
       "      <td id=\"T_4e81a_row2_col4\" class=\"data row2 col4\" >61.000000</td>\n",
       "      <td id=\"T_4e81a_row2_col5\" class=\"data row2 col5\" >61.800000</td>\n",
       "      <td id=\"T_4e81a_row2_col6\" class=\"data row2 col6\" >62.500000</td>\n",
       "      <td id=\"T_4e81a_row2_col7\" class=\"data row2 col7\" >79.000000</td>\n",
       "    </tr>\n",
       "    <tr>\n",
       "      <th id=\"T_4e81a_level0_row3\" class=\"row_heading level0 row3\" >table</th>\n",
       "      <td id=\"T_4e81a_row3_col0\" class=\"data row3 col0\" >53940.000000</td>\n",
       "      <td id=\"T_4e81a_row3_col1\" class=\"data row3 col1\" >57.457184</td>\n",
       "      <td id=\"T_4e81a_row3_col2\" class=\"data row3 col2\" >2.234491</td>\n",
       "      <td id=\"T_4e81a_row3_col3\" class=\"data row3 col3\" >43.000000</td>\n",
       "      <td id=\"T_4e81a_row3_col4\" class=\"data row3 col4\" >56.000000</td>\n",
       "      <td id=\"T_4e81a_row3_col5\" class=\"data row3 col5\" >57.000000</td>\n",
       "      <td id=\"T_4e81a_row3_col6\" class=\"data row3 col6\" >59.000000</td>\n",
       "      <td id=\"T_4e81a_row3_col7\" class=\"data row3 col7\" >95.000000</td>\n",
       "    </tr>\n",
       "    <tr>\n",
       "      <th id=\"T_4e81a_level0_row4\" class=\"row_heading level0 row4\" >price</th>\n",
       "      <td id=\"T_4e81a_row4_col0\" class=\"data row4 col0\" >53940.000000</td>\n",
       "      <td id=\"T_4e81a_row4_col1\" class=\"data row4 col1\" >3932.799722</td>\n",
       "      <td id=\"T_4e81a_row4_col2\" class=\"data row4 col2\" >3989.439738</td>\n",
       "      <td id=\"T_4e81a_row4_col3\" class=\"data row4 col3\" >326.000000</td>\n",
       "      <td id=\"T_4e81a_row4_col4\" class=\"data row4 col4\" >950.000000</td>\n",
       "      <td id=\"T_4e81a_row4_col5\" class=\"data row4 col5\" >2401.000000</td>\n",
       "      <td id=\"T_4e81a_row4_col6\" class=\"data row4 col6\" >5324.250000</td>\n",
       "      <td id=\"T_4e81a_row4_col7\" class=\"data row4 col7\" >18823.000000</td>\n",
       "    </tr>\n",
       "    <tr>\n",
       "      <th id=\"T_4e81a_level0_row5\" class=\"row_heading level0 row5\" >x</th>\n",
       "      <td id=\"T_4e81a_row5_col0\" class=\"data row5 col0\" >53940.000000</td>\n",
       "      <td id=\"T_4e81a_row5_col1\" class=\"data row5 col1\" >5.731157</td>\n",
       "      <td id=\"T_4e81a_row5_col2\" class=\"data row5 col2\" >1.121761</td>\n",
       "      <td id=\"T_4e81a_row5_col3\" class=\"data row5 col3\" >0.000000</td>\n",
       "      <td id=\"T_4e81a_row5_col4\" class=\"data row5 col4\" >4.710000</td>\n",
       "      <td id=\"T_4e81a_row5_col5\" class=\"data row5 col5\" >5.700000</td>\n",
       "      <td id=\"T_4e81a_row5_col6\" class=\"data row5 col6\" >6.540000</td>\n",
       "      <td id=\"T_4e81a_row5_col7\" class=\"data row5 col7\" >10.740000</td>\n",
       "    </tr>\n",
       "    <tr>\n",
       "      <th id=\"T_4e81a_level0_row6\" class=\"row_heading level0 row6\" >y</th>\n",
       "      <td id=\"T_4e81a_row6_col0\" class=\"data row6 col0\" >53940.000000</td>\n",
       "      <td id=\"T_4e81a_row6_col1\" class=\"data row6 col1\" >5.734526</td>\n",
       "      <td id=\"T_4e81a_row6_col2\" class=\"data row6 col2\" >1.142135</td>\n",
       "      <td id=\"T_4e81a_row6_col3\" class=\"data row6 col3\" >0.000000</td>\n",
       "      <td id=\"T_4e81a_row6_col4\" class=\"data row6 col4\" >4.720000</td>\n",
       "      <td id=\"T_4e81a_row6_col5\" class=\"data row6 col5\" >5.710000</td>\n",
       "      <td id=\"T_4e81a_row6_col6\" class=\"data row6 col6\" >6.540000</td>\n",
       "      <td id=\"T_4e81a_row6_col7\" class=\"data row6 col7\" >58.900000</td>\n",
       "    </tr>\n",
       "    <tr>\n",
       "      <th id=\"T_4e81a_level0_row7\" class=\"row_heading level0 row7\" >z</th>\n",
       "      <td id=\"T_4e81a_row7_col0\" class=\"data row7 col0\" >53932.000000</td>\n",
       "      <td id=\"T_4e81a_row7_col1\" class=\"data row7 col1\" >3.639935</td>\n",
       "      <td id=\"T_4e81a_row7_col2\" class=\"data row7 col2\" >6.795973</td>\n",
       "      <td id=\"T_4e81a_row7_col3\" class=\"data row7 col3\" >1.070000</td>\n",
       "      <td id=\"T_4e81a_row7_col4\" class=\"data row7 col4\" >2.910000</td>\n",
       "      <td id=\"T_4e81a_row7_col5\" class=\"data row7 col5\" >3.530000</td>\n",
       "      <td id=\"T_4e81a_row7_col6\" class=\"data row7 col6\" >4.040000</td>\n",
       "      <td id=\"T_4e81a_row7_col7\" class=\"data row7 col7\" >566.225000</td>\n",
       "    </tr>\n",
       "    <tr>\n",
       "      <th id=\"T_4e81a_level0_row8\" class=\"row_heading level0 row8\" >clarity_numeric</th>\n",
       "      <td id=\"T_4e81a_row8_col0\" class=\"data row8 col0\" >53940.000000</td>\n",
       "      <td id=\"T_4e81a_row8_col1\" class=\"data row8 col1\" >3.051020</td>\n",
       "      <td id=\"T_4e81a_row8_col2\" class=\"data row8 col2\" >1.647136</td>\n",
       "      <td id=\"T_4e81a_row8_col3\" class=\"data row8 col3\" >0.000000</td>\n",
       "      <td id=\"T_4e81a_row8_col4\" class=\"data row8 col4\" >2.000000</td>\n",
       "      <td id=\"T_4e81a_row8_col5\" class=\"data row8 col5\" >3.000000</td>\n",
       "      <td id=\"T_4e81a_row8_col6\" class=\"data row8 col6\" >4.000000</td>\n",
       "      <td id=\"T_4e81a_row8_col7\" class=\"data row8 col7\" >7.000000</td>\n",
       "    </tr>\n",
       "  </tbody>\n",
       "</table>\n"
      ],
      "text/plain": [
       "<pandas.io.formats.style.Styler at 0x20145abbc20>"
      ]
     },
     "execution_count": 25,
     "metadata": {},
     "output_type": "execute_result"
    }
   ],
   "source": [
    "diamonds.describe().T.style.background_gradient(cmap='Blues')\n"
   ]
  },
  {
   "cell_type": "markdown",
   "metadata": {},
   "source": [
    "# 3. Vérification des valeurs aberrantes\n",
    "\n",
    "Nous allons maintenant revenir au tableau récapitulatif pour vérifier la présence de valeurs aberrantes.\n",
    "\n",
    "**Utilisez à nouveau la méthode `describe` et commentez ce que vous observez.  \n",
    "Ensuite, vérifiez si vous avez des valeurs aberrantes.**\n"
   ]
  },
  {
   "cell_type": "code",
   "execution_count": 26,
   "metadata": {},
   "outputs": [
    {
     "data": {
      "text/html": [
       "<style type=\"text/css\">\n",
       "#T_08584_row0_col0, #T_08584_row0_col1, #T_08584_row0_col2, #T_08584_row0_col4, #T_08584_row0_col5, #T_08584_row0_col6, #T_08584_row0_col7, #T_08584_row0_col8, #T_08584_row0_col9, #T_08584_row1_col0, #T_08584_row2_col0, #T_08584_row3_col0, #T_08584_row4_col0, #T_08584_row4_col3, #T_08584_row5_col0, #T_08584_row6_col0, #T_08584_row8_col0 {\n",
       "  background-color: #081d58;\n",
       "  color: #f1f1f1;\n",
       "}\n",
       "#T_08584_row0_col3, #T_08584_row1_col1, #T_08584_row1_col2, #T_08584_row1_col3, #T_08584_row1_col4, #T_08584_row1_col5, #T_08584_row1_col6, #T_08584_row1_col7, #T_08584_row1_col8, #T_08584_row1_col9, #T_08584_row2_col1, #T_08584_row2_col2, #T_08584_row2_col6, #T_08584_row2_col7, #T_08584_row2_col8, #T_08584_row2_col9, #T_08584_row3_col1, #T_08584_row3_col2, #T_08584_row3_col6, #T_08584_row3_col7, #T_08584_row3_col8, #T_08584_row3_col9, #T_08584_row5_col1, #T_08584_row5_col2, #T_08584_row5_col3, #T_08584_row5_col5, #T_08584_row5_col6, #T_08584_row5_col7, #T_08584_row5_col8, #T_08584_row5_col9, #T_08584_row6_col1, #T_08584_row6_col2, #T_08584_row6_col3, #T_08584_row6_col5, #T_08584_row6_col6, #T_08584_row6_col7, #T_08584_row6_col8, #T_08584_row6_col9, #T_08584_row7_col0, #T_08584_row7_col1, #T_08584_row7_col2, #T_08584_row7_col3, #T_08584_row7_col5, #T_08584_row7_col6, #T_08584_row7_col7, #T_08584_row7_col8, #T_08584_row8_col1, #T_08584_row8_col2, #T_08584_row8_col3, #T_08584_row8_col4, #T_08584_row8_col5, #T_08584_row8_col6, #T_08584_row8_col7, #T_08584_row8_col8, #T_08584_row8_col9 {\n",
       "  background-color: #ffffd9;\n",
       "  color: #000000;\n",
       "}\n",
       "#T_08584_row2_col3, #T_08584_row3_col3, #T_08584_row4_col7 {\n",
       "  background-color: #ecf7b1;\n",
       "  color: #000000;\n",
       "}\n",
       "#T_08584_row2_col4 {\n",
       "  background-color: #f0f9b7;\n",
       "  color: #000000;\n",
       "}\n",
       "#T_08584_row2_col5, #T_08584_row3_col5, #T_08584_row5_col4, #T_08584_row6_col4, #T_08584_row7_col4 {\n",
       "  background-color: #feffd8;\n",
       "  color: #000000;\n",
       "}\n",
       "#T_08584_row3_col4 {\n",
       "  background-color: #f1faba;\n",
       "  color: #000000;\n",
       "}\n",
       "#T_08584_row4_col1 {\n",
       "  background-color: #e7f6b1;\n",
       "  color: #000000;\n",
       "}\n",
       "#T_08584_row4_col2 {\n",
       "  background-color: #c4e8b4;\n",
       "  color: #000000;\n",
       "}\n",
       "#T_08584_row4_col4 {\n",
       "  background-color: #234fa1;\n",
       "  color: #f1f1f1;\n",
       "}\n",
       "#T_08584_row4_col5 {\n",
       "  background-color: #f5fbc2;\n",
       "  color: #000000;\n",
       "}\n",
       "#T_08584_row4_col6 {\n",
       "  background-color: #f3fabd;\n",
       "  color: #000000;\n",
       "}\n",
       "#T_08584_row4_col8 {\n",
       "  background-color: #9cd8b8;\n",
       "  color: #000000;\n",
       "}\n",
       "#T_08584_row4_col9 {\n",
       "  background-color: #8ed3ba;\n",
       "  color: #000000;\n",
       "}\n",
       "#T_08584_row7_col9 {\n",
       "  background-color: #feffd6;\n",
       "  color: #000000;\n",
       "}\n",
       "</style>\n",
       "<table id=\"T_08584\">\n",
       "  <thead>\n",
       "    <tr>\n",
       "      <th class=\"blank level0\" >&nbsp;</th>\n",
       "      <th id=\"T_08584_level0_col0\" class=\"col_heading level0 col0\" >count</th>\n",
       "      <th id=\"T_08584_level0_col1\" class=\"col_heading level0 col1\" >mean</th>\n",
       "      <th id=\"T_08584_level0_col2\" class=\"col_heading level0 col2\" >std</th>\n",
       "      <th id=\"T_08584_level0_col3\" class=\"col_heading level0 col3\" >min</th>\n",
       "      <th id=\"T_08584_level0_col4\" class=\"col_heading level0 col4\" >1%</th>\n",
       "      <th id=\"T_08584_level0_col5\" class=\"col_heading level0 col5\" >25%</th>\n",
       "      <th id=\"T_08584_level0_col6\" class=\"col_heading level0 col6\" >50%</th>\n",
       "      <th id=\"T_08584_level0_col7\" class=\"col_heading level0 col7\" >75%</th>\n",
       "      <th id=\"T_08584_level0_col8\" class=\"col_heading level0 col8\" >99%</th>\n",
       "      <th id=\"T_08584_level0_col9\" class=\"col_heading level0 col9\" >max</th>\n",
       "    </tr>\n",
       "  </thead>\n",
       "  <tbody>\n",
       "    <tr>\n",
       "      <th id=\"T_08584_level0_row0\" class=\"row_heading level0 row0\" >Unnamed: 0</th>\n",
       "      <td id=\"T_08584_row0_col0\" class=\"data row0 col0\" >53940.000000</td>\n",
       "      <td id=\"T_08584_row0_col1\" class=\"data row0 col1\" >26970.500000</td>\n",
       "      <td id=\"T_08584_row0_col2\" class=\"data row0 col2\" >15571.281097</td>\n",
       "      <td id=\"T_08584_row0_col3\" class=\"data row0 col3\" >1.000000</td>\n",
       "      <td id=\"T_08584_row0_col4\" class=\"data row0 col4\" >540.390000</td>\n",
       "      <td id=\"T_08584_row0_col5\" class=\"data row0 col5\" >13485.750000</td>\n",
       "      <td id=\"T_08584_row0_col6\" class=\"data row0 col6\" >26970.500000</td>\n",
       "      <td id=\"T_08584_row0_col7\" class=\"data row0 col7\" >40455.250000</td>\n",
       "      <td id=\"T_08584_row0_col8\" class=\"data row0 col8\" >53400.610000</td>\n",
       "      <td id=\"T_08584_row0_col9\" class=\"data row0 col9\" >53940.000000</td>\n",
       "    </tr>\n",
       "    <tr>\n",
       "      <th id=\"T_08584_level0_row1\" class=\"row_heading level0 row1\" >carat</th>\n",
       "      <td id=\"T_08584_row1_col0\" class=\"data row1 col0\" >53940.000000</td>\n",
       "      <td id=\"T_08584_row1_col1\" class=\"data row1 col1\" >0.797940</td>\n",
       "      <td id=\"T_08584_row1_col2\" class=\"data row1 col2\" >0.474011</td>\n",
       "      <td id=\"T_08584_row1_col3\" class=\"data row1 col3\" >0.200000</td>\n",
       "      <td id=\"T_08584_row1_col4\" class=\"data row1 col4\" >0.240000</td>\n",
       "      <td id=\"T_08584_row1_col5\" class=\"data row1 col5\" >0.400000</td>\n",
       "      <td id=\"T_08584_row1_col6\" class=\"data row1 col6\" >0.700000</td>\n",
       "      <td id=\"T_08584_row1_col7\" class=\"data row1 col7\" >1.040000</td>\n",
       "      <td id=\"T_08584_row1_col8\" class=\"data row1 col8\" >2.180000</td>\n",
       "      <td id=\"T_08584_row1_col9\" class=\"data row1 col9\" >5.010000</td>\n",
       "    </tr>\n",
       "    <tr>\n",
       "      <th id=\"T_08584_level0_row2\" class=\"row_heading level0 row2\" >depth</th>\n",
       "      <td id=\"T_08584_row2_col0\" class=\"data row2 col0\" >53940.000000</td>\n",
       "      <td id=\"T_08584_row2_col1\" class=\"data row2 col1\" >61.749405</td>\n",
       "      <td id=\"T_08584_row2_col2\" class=\"data row2 col2\" >1.432621</td>\n",
       "      <td id=\"T_08584_row2_col3\" class=\"data row2 col3\" >43.000000</td>\n",
       "      <td id=\"T_08584_row2_col4\" class=\"data row2 col4\" >57.900000</td>\n",
       "      <td id=\"T_08584_row2_col5\" class=\"data row2 col5\" >61.000000</td>\n",
       "      <td id=\"T_08584_row2_col6\" class=\"data row2 col6\" >61.800000</td>\n",
       "      <td id=\"T_08584_row2_col7\" class=\"data row2 col7\" >62.500000</td>\n",
       "      <td id=\"T_08584_row2_col8\" class=\"data row2 col8\" >65.600000</td>\n",
       "      <td id=\"T_08584_row2_col9\" class=\"data row2 col9\" >79.000000</td>\n",
       "    </tr>\n",
       "    <tr>\n",
       "      <th id=\"T_08584_level0_row3\" class=\"row_heading level0 row3\" >table</th>\n",
       "      <td id=\"T_08584_row3_col0\" class=\"data row3 col0\" >53940.000000</td>\n",
       "      <td id=\"T_08584_row3_col1\" class=\"data row3 col1\" >57.457184</td>\n",
       "      <td id=\"T_08584_row3_col2\" class=\"data row3 col2\" >2.234491</td>\n",
       "      <td id=\"T_08584_row3_col3\" class=\"data row3 col3\" >43.000000</td>\n",
       "      <td id=\"T_08584_row3_col4\" class=\"data row3 col4\" >53.000000</td>\n",
       "      <td id=\"T_08584_row3_col5\" class=\"data row3 col5\" >56.000000</td>\n",
       "      <td id=\"T_08584_row3_col6\" class=\"data row3 col6\" >57.000000</td>\n",
       "      <td id=\"T_08584_row3_col7\" class=\"data row3 col7\" >59.000000</td>\n",
       "      <td id=\"T_08584_row3_col8\" class=\"data row3 col8\" >64.000000</td>\n",
       "      <td id=\"T_08584_row3_col9\" class=\"data row3 col9\" >95.000000</td>\n",
       "    </tr>\n",
       "    <tr>\n",
       "      <th id=\"T_08584_level0_row4\" class=\"row_heading level0 row4\" >price</th>\n",
       "      <td id=\"T_08584_row4_col0\" class=\"data row4 col0\" >53940.000000</td>\n",
       "      <td id=\"T_08584_row4_col1\" class=\"data row4 col1\" >3932.799722</td>\n",
       "      <td id=\"T_08584_row4_col2\" class=\"data row4 col2\" >3989.439738</td>\n",
       "      <td id=\"T_08584_row4_col3\" class=\"data row4 col3\" >326.000000</td>\n",
       "      <td id=\"T_08584_row4_col4\" class=\"data row4 col4\" >429.000000</td>\n",
       "      <td id=\"T_08584_row4_col5\" class=\"data row4 col5\" >950.000000</td>\n",
       "      <td id=\"T_08584_row4_col6\" class=\"data row4 col6\" >2401.000000</td>\n",
       "      <td id=\"T_08584_row4_col7\" class=\"data row4 col7\" >5324.250000</td>\n",
       "      <td id=\"T_08584_row4_col8\" class=\"data row4 col8\" >17378.220000</td>\n",
       "      <td id=\"T_08584_row4_col9\" class=\"data row4 col9\" >18823.000000</td>\n",
       "    </tr>\n",
       "    <tr>\n",
       "      <th id=\"T_08584_level0_row5\" class=\"row_heading level0 row5\" >x</th>\n",
       "      <td id=\"T_08584_row5_col0\" class=\"data row5 col0\" >53940.000000</td>\n",
       "      <td id=\"T_08584_row5_col1\" class=\"data row5 col1\" >5.731157</td>\n",
       "      <td id=\"T_08584_row5_col2\" class=\"data row5 col2\" >1.121761</td>\n",
       "      <td id=\"T_08584_row5_col3\" class=\"data row5 col3\" >0.000000</td>\n",
       "      <td id=\"T_08584_row5_col4\" class=\"data row5 col4\" >4.020000</td>\n",
       "      <td id=\"T_08584_row5_col5\" class=\"data row5 col5\" >4.710000</td>\n",
       "      <td id=\"T_08584_row5_col6\" class=\"data row5 col6\" >5.700000</td>\n",
       "      <td id=\"T_08584_row5_col7\" class=\"data row5 col7\" >6.540000</td>\n",
       "      <td id=\"T_08584_row5_col8\" class=\"data row5 col8\" >8.360000</td>\n",
       "      <td id=\"T_08584_row5_col9\" class=\"data row5 col9\" >10.740000</td>\n",
       "    </tr>\n",
       "    <tr>\n",
       "      <th id=\"T_08584_level0_row6\" class=\"row_heading level0 row6\" >y</th>\n",
       "      <td id=\"T_08584_row6_col0\" class=\"data row6 col0\" >53940.000000</td>\n",
       "      <td id=\"T_08584_row6_col1\" class=\"data row6 col1\" >5.734526</td>\n",
       "      <td id=\"T_08584_row6_col2\" class=\"data row6 col2\" >1.142135</td>\n",
       "      <td id=\"T_08584_row6_col3\" class=\"data row6 col3\" >0.000000</td>\n",
       "      <td id=\"T_08584_row6_col4\" class=\"data row6 col4\" >4.040000</td>\n",
       "      <td id=\"T_08584_row6_col5\" class=\"data row6 col5\" >4.720000</td>\n",
       "      <td id=\"T_08584_row6_col6\" class=\"data row6 col6\" >5.710000</td>\n",
       "      <td id=\"T_08584_row6_col7\" class=\"data row6 col7\" >6.540000</td>\n",
       "      <td id=\"T_08584_row6_col8\" class=\"data row6 col8\" >8.340000</td>\n",
       "      <td id=\"T_08584_row6_col9\" class=\"data row6 col9\" >58.900000</td>\n",
       "    </tr>\n",
       "    <tr>\n",
       "      <th id=\"T_08584_level0_row7\" class=\"row_heading level0 row7\" >z</th>\n",
       "      <td id=\"T_08584_row7_col0\" class=\"data row7 col0\" >53932.000000</td>\n",
       "      <td id=\"T_08584_row7_col1\" class=\"data row7 col1\" >3.639935</td>\n",
       "      <td id=\"T_08584_row7_col2\" class=\"data row7 col2\" >6.795973</td>\n",
       "      <td id=\"T_08584_row7_col3\" class=\"data row7 col3\" >1.070000</td>\n",
       "      <td id=\"T_08584_row7_col4\" class=\"data row7 col4\" >2.480000</td>\n",
       "      <td id=\"T_08584_row7_col5\" class=\"data row7 col5\" >2.910000</td>\n",
       "      <td id=\"T_08584_row7_col6\" class=\"data row7 col6\" >3.530000</td>\n",
       "      <td id=\"T_08584_row7_col7\" class=\"data row7 col7\" >4.040000</td>\n",
       "      <td id=\"T_08584_row7_col8\" class=\"data row7 col8\" >5.150000</td>\n",
       "      <td id=\"T_08584_row7_col9\" class=\"data row7 col9\" >566.225000</td>\n",
       "    </tr>\n",
       "    <tr>\n",
       "      <th id=\"T_08584_level0_row8\" class=\"row_heading level0 row8\" >clarity_numeric</th>\n",
       "      <td id=\"T_08584_row8_col0\" class=\"data row8 col0\" >53940.000000</td>\n",
       "      <td id=\"T_08584_row8_col1\" class=\"data row8 col1\" >3.051020</td>\n",
       "      <td id=\"T_08584_row8_col2\" class=\"data row8 col2\" >1.647136</td>\n",
       "      <td id=\"T_08584_row8_col3\" class=\"data row8 col3\" >0.000000</td>\n",
       "      <td id=\"T_08584_row8_col4\" class=\"data row8 col4\" >0.000000</td>\n",
       "      <td id=\"T_08584_row8_col5\" class=\"data row8 col5\" >2.000000</td>\n",
       "      <td id=\"T_08584_row8_col6\" class=\"data row8 col6\" >3.000000</td>\n",
       "      <td id=\"T_08584_row8_col7\" class=\"data row8 col7\" >4.000000</td>\n",
       "      <td id=\"T_08584_row8_col8\" class=\"data row8 col8\" >7.000000</td>\n",
       "      <td id=\"T_08584_row8_col9\" class=\"data row8 col9\" >7.000000</td>\n",
       "    </tr>\n",
       "  </tbody>\n",
       "</table>\n"
      ],
      "text/plain": [
       "<pandas.io.formats.style.Styler at 0x2014593c710>"
      ]
     },
     "execution_count": 26,
     "metadata": {},
     "output_type": "execute_result"
    }
   ],
   "source": [
    "#your code here\n",
    "# Afficher plus de décimales\n",
    "pd.set_option('display.float_format', '{:.2f}'.format)\n",
    "\n",
    "# Ajouter des percentiles, transposer et styliser\n",
    "desc = diamonds.describe(percentiles=[.01, .25, .5, .75, .99]).T\n",
    "\n",
    "# Affichage joli avec un gradient de couleur\n",
    "desc.style.background_gradient(cmap='YlGnBu')"
   ]
  },
  {
   "cell_type": "code",
   "execution_count": 33,
   "metadata": {},
   "outputs": [],
   "source": [
    "#your comments here"
   ]
  },
  {
   "cell_type": "markdown",
   "metadata": {},
   "source": [
    "To manage these outliers, we are going to filter our DataFrame, we're going to take all the values that have a price higher than the 75th percentile.\n",
    "\n",
    "**Look for that quantile and filter the dataframe to clearly see the outliers. What do you think?**"
   ]
  },
  {
   "cell_type": "code",
   "execution_count": 35,
   "metadata": {},
   "outputs": [],
   "source": [
    "#your code here"
   ]
  },
  {
   "cell_type": "markdown",
   "metadata": {},
   "source": [
    "Our dataset is really big and the outliers are really far apart from the rest of the values. To see this more clearly we will use a boxplot, which plots the median, 25th and 75th quartile, the maximum and minimum, as well as any outliers."
   ]
  },
  {
   "cell_type": "code",
   "execution_count": 38,
   "metadata": {},
   "outputs": [
    {
     "data": {
      "image/png": "[encoded data removed]",
      "text/plain": [
       "<Figure size 720x360 with 2 Axes>"
      ]
     },
     "metadata": {
      "needs_background": "light"
     },
     "output_type": "display_data"
    }
   ],
   "source": [
    "#Run this code\n",
    "fig, ax = plt.subplots(1,2, figsize=(10, 5))\n",
    "sns.boxplot(y=diamonds.y, ax=ax[0])\n",
    "sns.boxplot(y=diamonds.z, ax=ax[1])\n",
    "plt.subplots_adjust(wspace=0.5)"
   ]
  },
  {
   "cell_type": "markdown",
   "metadata": {},
   "source": [
    "Now we can see that all the values are within an acceptable range, but we have 2 big outliers in y and 1 in z. Now we know that our max values for y should be around 10 and the values for z should be around 6, so let's filter our dataset to find values higher than 10 in it.\n"
   ]
  },
  {
   "cell_type": "code",
   "execution_count": 39,
   "metadata": {},
   "outputs": [
    {
     "data": {
      "text/html": [
       "<div>\n",
       "<style scoped>\n",
       "    .dataframe tbody tr th:only-of-type {\n",
       "        vertical-align: middle;\n",
       "    }\n",
       "\n",
       "    .dataframe tbody tr th {\n",
       "        vertical-align: top;\n",
       "    }\n",
       "\n",
       "    .dataframe thead th {\n",
       "        text-align: right;\n",
       "    }\n",
       "</style>\n",
       "<table border=\"1\" class=\"dataframe\">\n",
       "  <thead>\n",
       "    <tr style=\"text-align: right;\">\n",
       "      <th></th>\n",
       "      <th>carat</th>\n",
       "      <th>cut</th>\n",
       "      <th>color</th>\n",
       "      <th>clarity</th>\n",
       "      <th>depth</th>\n",
       "      <th>table</th>\n",
       "      <th>price</th>\n",
       "      <th>x</th>\n",
       "      <th>y</th>\n",
       "      <th>z</th>\n",
       "    </tr>\n",
       "  </thead>\n",
       "  <tbody>\n",
       "    <tr>\n",
       "      <th>48410</th>\n",
       "      <td>0.51</td>\n",
       "      <td>Very Good</td>\n",
       "      <td>5.0</td>\n",
       "      <td>4.0</td>\n",
       "      <td>61.8</td>\n",
       "      <td>54.7</td>\n",
       "      <td>1970.0</td>\n",
       "      <td>5.12</td>\n",
       "      <td>5.15</td>\n",
       "      <td>31.8</td>\n",
       "    </tr>\n",
       "  </tbody>\n",
       "</table>\n",
       "</div>"
      ],
      "text/plain": [
       "       carat        cut  color  clarity  depth  table   price     x     y  \\\n",
       "48410   0.51  Very Good    5.0      4.0   61.8   54.7  1970.0  5.12  5.15   \n",
       "\n",
       "          z  \n",
       "48410  31.8  "
      ]
     },
     "execution_count": 39,
     "metadata": {},
     "output_type": "execute_result"
    }
   ],
   "source": [
    "#your code here"
   ]
  },
  {
   "cell_type": "markdown",
   "metadata": {},
   "source": [
    "Now that we have found the outlier, let's use the function we defined earlier to correct this value. First, we need to change the value to 0 (because that's how we defined the function before) and then we will apply it.\n",
    "\n",
    "**Apply `calculate_z` for the row with the outlier**"
   ]
  },
  {
   "cell_type": "code",
   "execution_count": 40,
   "metadata": {},
   "outputs": [],
   "source": [
    "#your code here"
   ]
  },
  {
   "cell_type": "markdown",
   "metadata": {},
   "source": [
    "Let's check if we actually corrected the outlier."
   ]
  },
  {
   "cell_type": "code",
   "execution_count": 42,
   "metadata": {},
   "outputs": [
    {
     "data": {
      "text/plain": [
       "carat           0.51\n",
       "cut        Very Good\n",
       "color              5\n",
       "clarity            4\n",
       "depth           61.8\n",
       "table           54.7\n",
       "price           1970\n",
       "x               5.12\n",
       "y               5.15\n",
       "z               3.17\n",
       "Name: 48410, dtype: object"
      ]
     },
     "execution_count": 42,
     "metadata": {},
     "output_type": "execute_result"
    }
   ],
   "source": [
    "diamonds.loc[48410]"
   ]
  },
  {
   "cell_type": "markdown",
   "metadata": {},
   "source": [
    "Cool! Now let's validate our new `z`. We will check if we obtain the same value of depth using our validate function. If the formula applies, this means could approximate the real value of `z`.\n",
    "\n",
    "**Apply `validate_z` to the row used earlier**"
   ]
  },
  {
   "cell_type": "code",
   "execution_count": 43,
   "metadata": {},
   "outputs": [],
   "source": [
    "#your code here"
   ]
  },
  {
   "cell_type": "markdown",
   "metadata": {},
   "source": [
    "Now let's do the same for `y`. First, let's filter the DataFrame to find the outliers. We said that the maximum values should be around 10, so let's check what are the values above 10.\n",
    "\n",
    "**Check the values greater than 10 in the `y` column** "
   ]
  },
  {
   "cell_type": "code",
   "execution_count": 48,
   "metadata": {},
   "outputs": [],
   "source": [
    "#your code here"
   ]
  },
  {
   "cell_type": "markdown",
   "metadata": {},
   "source": [
    "We can clearly see that the 31.8 in row 49189 is an outlier for the y value. Also, we can see that the 58.9 value for `y` in row 24067 is actually its depth, so it was a mistake when they introduced the data. Let's create a function to fix these outliers.\n",
    "\n",
    "**Create a function named `calculate_y` to calculate `y` using `z` and `x` the same way you did above**"
   ]
  },
  {
   "cell_type": "code",
   "execution_count": 50,
   "metadata": {},
   "outputs": [],
   "source": [
    "#your code here"
   ]
  },
  {
   "cell_type": "markdown",
   "metadata": {},
   "source": [
    "We will check the rows that had an outlier in `y`, to check that the values were changed.\n",
    "\n",
    "**Check those rows (also validating with your function) and comment what you see**"
   ]
  },
  {
   "cell_type": "markdown",
   "metadata": {},
   "source": [
    "Now that we have corrected or dropped all of our outliers, lets plot another box plot to double check."
   ]
  },
  {
   "cell_type": "code",
   "execution_count": 60,
   "metadata": {},
   "outputs": [
    {
     "data": {
      "image/png": "[encoded data removed]",
      "text/plain": [
       "<Figure size 720x360 with 2 Axes>"
      ]
     },
     "metadata": {
      "needs_background": "light"
     },
     "output_type": "display_data"
    }
   ],
   "source": [
    "#Run this code\n",
    "fig, ax = plt.subplots(1,2, figsize=(10, 5))\n",
    "sns.boxplot(y=diamonds.y, ax=ax[0])\n",
    "sns.boxplot(y=diamonds.z, ax=ax[1])\n",
    "plt.subplots_adjust(wspace=0.5)"
   ]
  },
  {
   "cell_type": "markdown",
   "metadata": {},
   "source": [
    "**What do you think? Are these values more reasonable?**\n"
   ]
  },
  {
   "cell_type": "code",
   "execution_count": 61,
   "metadata": {},
   "outputs": [],
   "source": [
    "#your thoughts here"
   ]
  },
  {
   "cell_type": "markdown",
   "metadata": {},
   "source": [
    "**Once you are happy with your cleaning, save the cleaned data and continue to csv. Your new csv should be named ``diamonds_clean``**"
   ]
  },
  {
   "cell_type": "code",
   "execution_count": 62,
   "metadata": {},
   "outputs": [],
   "source": [
    "#your code here"
   ]
  }
 ],
 "metadata": {
  "kernelspec": {
   "display_name": "base",
   "language": "python",
   "name": "python3"
  },
  "language_info": {
   "codemirror_mode": {
    "name": "ipython",
    "version": 3
   },
   "file_extension": ".py",
   "mimetype": "text/x-python",
   "name": "python",
   "nbconvert_exporter": "python",
   "pygments_lexer": "ipython3",
   "version": "3.12.3"
  }
 },
 "nbformat": 4,
 "nbformat_minor": 2
}
