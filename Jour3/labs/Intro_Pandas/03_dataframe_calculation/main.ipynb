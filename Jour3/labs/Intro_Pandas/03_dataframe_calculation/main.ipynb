{
 "cells": [
  {
   "cell_type": "markdown",
   "metadata": {},
   "source": [
    "# Défi Obligatoire\n",
    "\n",
    "## Contexte\n",
    "\n",
    "Vous travaillez dans l’équipe d’analyse de données d’une entreprise très importante. Lundi, l’entreprise vous annonce une bonne nouvelle : vous venez d’être embauché par une grande entreprise de distribution ! Alors, préparez-vous à une grosse charge de travail !\n",
    "\n",
    "Vous rejoignez votre équipe et vous définissez les tâches suivantes :  \n",
    "1. Vous devez commencer votre analyse en utilisant les données du passé.  \n",
    "2. Vous devez définir un processus qui prend en entrée vos données quotidiennes et les intègre.\n",
    "\n",
    "Vous êtes responsable de la deuxième partie. On vous fournit donc un fichier exemple que vous devrez lire quotidiennement.  \n",
    "Pour réaliser votre tâche, vous devez produire les agrégats suivants :\n",
    "* Un agrégat par magasin qui additionne le reste des valeurs.\n",
    "* Un agrégat par produit qui additionne le reste des valeurs.\n",
    "\n",
    "Vous pouvez importer le dataset `online_retail` .\n",
    "\n",
    "## Votre mission\n",
    "\n",
    "Votre processus consistera donc aux étapes suivantes :\n",
    "1. Lire le fichier exemple qu’un processus quotidien enregistrera dans votre dossier.\n",
    "2. Nettoyer les données.\n",
    "3. Créer les agrégats.\n",
    "4. Écrire trois tables dans votre base de données locale :  \n",
    "   - Une table pour les données nettoyées.\n",
    "   - Une table pour l’agrégat par magasin.\n",
    "   - Une table pour l’agrégat par produit.\n",
    "\n",
    "## Instructions\n",
    "\n",
    "* Lisez le fichier CSV que vous trouverez dans les differentes bases de données.\n",
    "* Nettoyez les données et créez les agrégats comme vous le jugez nécessaire.\n",
    "* Créez les tables dans votre base de données locale.\n",
    "* Alimentez-les avec votre processus.\n"
   ]
  },
  {
   "cell_type": "code",
   "execution_count": null,
   "metadata": {},
   "outputs": [],
   "source": [
    "# your code here"
   ]
  }
 ],
 "metadata": {
  "kernelspec": {
   "display_name": "ironhack-3.7",
   "language": "python",
   "name": "ironhack-3.7"
  }
 },
 "nbformat": 4,
 "nbformat_minor": 2
}
