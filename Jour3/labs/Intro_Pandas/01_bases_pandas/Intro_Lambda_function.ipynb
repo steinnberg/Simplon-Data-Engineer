{
 "cells": [
  {
   "cell_type": "markdown",
   "metadata": {},
   "source": [
    "# Avant de commencer :\n",
    "\n",
    "- Lisez le fichier README.md\n",
    "- Commentez autant que possible et utilisez les ressources indiquées dans le fichier README.md\n",
    "- Bon apprentissage !\n"
   ]
  },
  {
   "cell_type": "markdown",
   "metadata": {},
   "source": [
    "# Défi — Passer une expression Lambda à une fonction\n",
    "\n",
    "Dans le prochain exercice, vous allez créer une fonction qui retourne une expression lambda.  \n",
    "Créez une fonction appelée `modify_list`.  \n",
    "Cette fonction prend deux arguments : une liste et une expression lambda.  \n",
    "La fonction parcourt la liste et applique l’expression lambda à chaque élément de la liste.\n"
   ]
  },
  {
   "cell_type": "code",
   "execution_count": 21,
   "metadata": {},
   "outputs": [
    {
     "name": "stdout",
     "output_type": "stream",
     "text": [
      "[1, 32, 243, 1024]\n"
     ]
    }
   ],
   "source": [
    "def modify_list(lst, lm):\n",
    "    \"\"\"\n",
    "    Input: list and lambda expression\n",
    "    Output: the transformed list\n",
    "    \"\"\"\n",
    "    \n",
    "    # your code here\n",
    "    return [lm(x) for x in lst]\n",
    "    \n",
    "numbers = [1, 2, 3, 4]\n",
    "result = modify_list(numbers, lambda x: x **5)\n",
    "print(result) "
   ]
  },
  {
   "cell_type": "markdown",
   "metadata": {},
   "source": [
    "#### Maintenant, nous allons définir une expression lambda qui transformera les éléments de la liste.\n",
    "\n",
    "Dans la cellule ci-dessous, créez une expression lambda qui convertit des degrés Celsius en Kelvin.  \n",
    "Rappel : 0 °C + 273,15 = 273,15 K\n"
   ]
  },
  {
   "cell_type": "code",
   "execution_count": 23,
   "metadata": {},
   "outputs": [
    {
     "name": "stdout",
     "output_type": "stream",
     "text": [
      "298.15\n"
     ]
    }
   ],
   "source": [
    "# your code here\n",
    "# Définir la lambda\n",
    "celsius_to_kelvin = lambda t: t + 273.15\n",
    "\n",
    "# Exemple d'utilisation\n",
    "print(celsius_to_kelvin(25))   "
   ]
  },
  {
   "cell_type": "markdown",
   "metadata": {},
   "source": [
    "#### Enfin, convertissez la liste de températures ci-dessous de Celsius en Kelvin.\n"
   ]
  },
  {
   "cell_type": "code",
   "execution_count": 24,
   "metadata": {},
   "outputs": [
    {
     "name": "stdout",
     "output_type": "stream",
     "text": [
      "[285.15, 296.15, 311.15, 218.14999999999998, 297.15]\n"
     ]
    }
   ],
   "source": [
    "temps = [12, 23, 38, -55, 24]\n",
    "\n",
    "# your code here\n",
    "result = modify_list(temps, celsius_to_kelvin)\n",
    "print(result) \n",
    "\n"
   ]
  },
  {
   "cell_type": "markdown",
   "metadata": {},
   "source": [
    "#### Dans cette partie, nous allons définir une fonction qui retourne une expression lambda\n",
    "\n",
    "Dans la cellule ci-dessous, écrivez une expression lambda qui prend deux nombres et retourne 1 si l’un est divisible par l’autre, et 0 sinon.  \n",
    "Appelez cette expression lambda `mod`.\n"
   ]
  },
  {
   "cell_type": "code",
   "execution_count": null,
   "metadata": {},
   "outputs": [
    {
     "name": "stdout",
     "output_type": "stream",
     "text": [
      "1\n"
     ]
    }
   ],
   "source": [
    "# your code here\n",
    "# Définir la lambda\n",
    "mod = lambda x, y: 1 if (x % y == 0 or y % x == 0) else 0\n",
    "\n",
    "# Exemple d'utilisation\n",
    "print(mod(10, 2))"
   ]
  },
  {
   "cell_type": "markdown",
   "metadata": {},
   "source": [
    "#### Maintenant, créez une fonction qui retourne `mod`.  \n",
    "Cette fonction ne prend qu’un seul argument : le premier nombre utilisé dans la fonction lambda `mod`.\n",
    "\n",
    "Remarque : la fonction lambda ci-dessus prenait deux arguments.  \n",
    "La fonction lambda dans l’instruction `return` ne prend qu’un argument,  \n",
    "mais elle utilise aussi l’argument passé à la fonction.\n"
   ]
  },
  {
   "cell_type": "code",
   "execution_count": 7,
   "metadata": {},
   "outputs": [
    {
     "name": "stdout",
     "output_type": "stream",
     "text": [
      "1\n",
      "0\n",
      "1\n"
     ]
    }
   ],
   "source": [
    "def divisor(x):\n",
    "    \"\"\"\n",
    "    Input: a number\n",
    "    Output: a function that returns 1 if the number is \n",
    "    divisible by another number (to be passed later) and zero otherwise.\n",
    "    \"\"\"\n",
    "    return lambda y: 1 if (x % y == 0 or y % x == 0) else 0\n",
    "\n",
    "\n",
    "\n",
    "# Exemple d'utilisation\n",
    "mod5 = divisor(5)\n",
    "\n",
    "print(mod5(10))  # 👉 1 (10 est divisible par 5)\n",
    "print(mod5(3))   # 👉 0 (aucun n'est divisible par l'autre)\n",
    "print(mod5(1))   # 👉 1 (1 divise toujours tout)\n",
    "\n",
    "    \n",
    "    # your code here"
   ]
  },
  {
   "cell_type": "markdown",
   "metadata": {},
   "source": [
    "#### Enfin, passez le nombre 5 à `divisor`.  \n",
    "Maintenant, la fonction vérifiera si un nombre est divisible par 5.  \n",
    "Affectez cette fonction à `divisible5`.\n"
   ]
  },
  {
   "cell_type": "code",
   "execution_count": 9,
   "metadata": {},
   "outputs": [
    {
     "name": "stdout",
     "output_type": "stream",
     "text": [
      "1\n"
     ]
    }
   ],
   "source": [
    "# your code here\n",
    "# On passe le nombre 5\n",
    "divisible5 = divisor(5)\n",
    "\n",
    "# Test\n",
    "print(divisible5(10))  "
   ]
  },
  {
   "cell_type": "markdown",
   "metadata": {},
   "source": [
    "Testez votre   function dans les cas suivants:"
   ]
  },
  {
   "cell_type": "code",
   "execution_count": 10,
   "metadata": {},
   "outputs": [
    {
     "name": "stdout",
     "output_type": "stream",
     "text": [
      "1\n"
     ]
    }
   ],
   "source": [
    "divisible5(10)\n",
    "print(divisible5(10)) "
   ]
  },
  {
   "cell_type": "code",
   "execution_count": 11,
   "metadata": {},
   "outputs": [
    {
     "name": "stdout",
     "output_type": "stream",
     "text": [
      "0\n"
     ]
    }
   ],
   "source": [
    "divisible5(8)\n",
    "print(divisible5(8)) "
   ]
  },
  {
   "cell_type": "markdown",
   "metadata": {},
   "source": [
    "# Défi Bonus — Utiliser des expressions Lambda dans des compréhensions de liste\n",
    "\n",
    "Dans ce défi, nous allons combiner deux listes en utilisant une expression lambda à l’intérieur d’une compréhension de liste.\n",
    "\n",
    "Pour cela, nous allons introduire la fonction `zip`.  \n",
    "La fonction `zip` retourne un itérateur de tuples.\n"
   ]
  },
  {
   "cell_type": "code",
   "execution_count": 10,
   "metadata": {},
   "outputs": [
    {
     "data": {
      "text/plain": [
       "[(1,), (2,), (3,), (4,), (5,)]"
      ]
     },
     "execution_count": 10,
     "metadata": {},
     "output_type": "execute_result"
    }
   ],
   "source": [
    "# Here is an example of passing one list to the zip function. \n",
    "# Since the zip function returns an iterator, we need to evaluate the iterator by using a list comprehension.\n",
    "\n",
    "l = [1,2,3,4,5]\n",
    "[x for x in zip(l)]"
   ]
  },
  {
   "cell_type": "markdown",
   "metadata": {},
   "source": [
    "Usage  de `zip` function, iteratons à travers les deux listes and ajoutons les  elements par position.\n",
    "Parcourir list1 et list2 en parallèle, et ajouter les éléments de même position (par exemple concaténer des chaînes)."
   ]
  },
  {
   "cell_type": "code",
   "execution_count": 12,
   "metadata": {},
   "outputs": [
    {
     "name": "stdout",
     "output_type": "stream",
     "text": [
      "['Green eggs', 'cheese cheese', 'English cucumber', 'tomato tomato']\n"
     ]
    }
   ],
   "source": [
    "list1 = ['Green', 'cheese', 'English', 'tomato']\n",
    "list2 = ['eggs', 'cheese', 'cucumber', 'tomato']\n",
    "\n",
    "# your code here\n",
    "\n",
    "\n",
    "# Utiliser zip pour parcourir les deux listes en parallèle\n",
    "result = [a + ' ' + b for a, b in zip(list1, list2)]\n",
    "\n",
    "print(result)\n"
   ]
  },
  {
   "cell_type": "markdown",
   "metadata": {},
   "source": [
    "# Défi Bonus — Utiliser des expressions Lambda comme arguments\n",
    "\n",
    "#### Dans ce défi, nous allons associer deux listes avec `zip` et trier le résultat selon le tuple obtenu.\n",
    "\n",
    "Dans la cellule ci-dessous, prenez les deux listes fournies, associez-les avec `zip` puis triez-les en fonction de la première lettre du deuxième élément de chaque tuple.  \n",
    "Faites cela en utilisant une fonction lambda.\n"
   ]
  },
  {
   "cell_type": "code",
   "execution_count": null,
   "metadata": {},
   "outputs": [
    {
     "name": "stdout",
     "output_type": "stream",
     "text": [
      "[('Political Science', 'Essay'), ('Computer Science', 'Homework'), ('Engineering', 'Lab'), ('Mathematics', 'Module')]\n"
     ]
    }
   ],
   "source": [
    "list1 = ['Engineering', 'Computer Science', 'Political Science', 'Mathematics']\n",
    "list2 = ['Lab', 'Homework', 'Essay', 'Module']\n",
    "\n",
    "# your code here\n",
    "\n",
    "# Aprenez les deux listes fournies, associez-les avec `zip`\n",
    "pairing = list(zip(list1, list2))\n",
    "\n",
    "# triez-les en fonction de la première lettre du deuxième élément de chaque tuple.\n",
    "sorted_pairs = sorted(pairing, key=lambda x: x[1][0])\n",
    "\n",
    "print(sorted_pairs)\n",
    "\n"
   ]
  },
  {
   "cell_type": "markdown",
   "metadata": {},
   "source": [
    "# Défi Bonus — Trier un dictionnaire par valeurs\n",
    "\n",
    "À partir du dictionnaire ci-dessous, triez-le par valeurs plutôt que par clés.  \n",
    "Utilisez une expression lambda pour spécifier que la clé de tri est la valeur.\n",
    "\n",
    "\n"
   ]
  },
  {
   "cell_type": "code",
   "execution_count": 28,
   "metadata": {},
   "outputs": [
    {
     "name": "stdout",
     "output_type": "stream",
     "text": [
      "{'Toyota': 1995, 'Honda': 1997, 'Audi': 2001, 'BMW': 2005}\n"
     ]
    }
   ],
   "source": [
    "d = {'Honda': 1997,\n",
    "    'Toyota': 1995,\n",
    "    'Audi': 2001,\n",
    "    'BMW': 2005}\n",
    "\n",
    "# your code here\n",
    "\n",
    "# Trier par valeurs en utilisant une lambda\n",
    "sorted_d = dict(sorted(d.items(), key=lambda x: x[1], reverse=False))\n",
    "\n",
    "print(sorted_d)"
   ]
  },
  {
   "cell_type": "code",
   "execution_count": 30,
   "metadata": {},
   "outputs": [
    {
     "name": "stdout",
     "output_type": "stream",
     "text": [
      "       nom  note  mention\n",
      "0    Alice    12    Admis\n",
      "1      Bob    17    Admis\n",
      "2  Charlie     9  Ajourné\n"
     ]
    }
   ],
   "source": [
    "import pandas as pd\n",
    "\n",
    "# DataFrame d'exemple\n",
    "df = pd.DataFrame({\n",
    "    \"nom\": [\"Alice\", \"Bob\", \"Charlie\"],\n",
    "    \"note\": [12, 17, 9]\n",
    "})\n",
    "df.head()\n",
    "# Créer une nouvelle colonne d'entête  'mention' en regardant la colonne ['note']\n",
    "df = df.assign(\n",
    "    mention =lambda d: d[\"note\"].apply(lambda x: \"Admis\" if x >= 10 else \"Ajourné\")\n",
    ")\n",
    "\n",
    "print(df)"
   ]
  },
  {
   "cell_type": "code",
   "execution_count": 16,
   "metadata": {},
   "outputs": [
    {
     "name": "stdout",
     "output_type": "stream",
     "text": [
      "[2, 4, 6, 8, 10]\n",
      "[2, 4]\n"
     ]
    }
   ],
   "source": [
    "nombres = [1, 2, 3, 4, 5]\n",
    "\n",
    "#### Doubler chaque élément\n",
    "resultat = list(map(lambda x: x * 2, nombres))\n",
    "print(resultat)  # [2, 4, 6, 8, 10]\n",
    "\n",
    "#### ✅ map() applique la lambda à chaque élément.\n",
    "\n",
    "##➜ B) filter() — Filtrer une liste\n",
    "\n",
    "\n",
    "# Garder seulement les nombres pairs\n",
    "pairs = list(filter(lambda x: x % 2 == 0, nombres))\n",
    "print(pairs)  # [2, 4]"
   ]
  }
 ],
 "metadata": {
  "kernelspec": {
   "display_name": "base",
   "language": "python",
   "name": "python3"
  },
  "language_info": {
   "codemirror_mode": {
    "name": "ipython",
    "version": 3
   },
   "file_extension": ".py",
   "mimetype": "text/x-python",
   "name": "python",
   "nbconvert_exporter": "python",
   "pygments_lexer": "ipython3",
   "version": "3.12.3"
  }
 },
 "nbformat": 4,
 "nbformat_minor": 2
}
