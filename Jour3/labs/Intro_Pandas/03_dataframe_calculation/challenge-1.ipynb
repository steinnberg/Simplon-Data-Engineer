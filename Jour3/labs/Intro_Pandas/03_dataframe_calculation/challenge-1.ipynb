{
 "cells": [
  {
   "cell_type": "markdown",
   "metadata": {
    "toc": true
   },
   "source": [
    "<h1>Table of Contents<span class=\"tocSkip\"></span></h1>\n",
    "<div class=\"toc\"><ul class=\"toc-item\"><li><span><a href=\"#Challenge-1\" data-toc-modified-id=\"Challenge-1-1\"><span class=\"toc-item-num\">1&nbsp;&nbsp;</span>Challenge 1</a></span><ul class=\"toc-item\"><li><ul class=\"toc-item\"><li><ul class=\"toc-item\"><li><span><a href=\"#Import-all-required-libraries.\" data-toc-modified-id=\"Import-all-required-libraries.-1.0.0.1\"><span class=\"toc-item-num\">1.0.0.1&nbsp;&nbsp;</span>Import all required libraries.</a></span></li><li><span><a href=\"#Import-data-set.\" data-toc-modified-id=\"Import-data-set.-1.0.0.2\"><span class=\"toc-item-num\">1.0.0.2&nbsp;&nbsp;</span>Import data set.</a></span></li><li><span><a href=\"#Print-first-10-rows-of-pokemon.\" data-toc-modified-id=\"Print-first-10-rows-of-pokemon.-1.0.0.3\"><span class=\"toc-item-num\">1.0.0.3&nbsp;&nbsp;</span>Print first 10 rows of <code>pokemon</code>.</a></span></li><li><span><a href=\"#Obtain-the-distinct-values-across-Type-1-and-Type-2.\" data-toc-modified-id=\"Obtain-the-distinct-values-across-Type-1-and-Type-2.-1.0.0.4\"><span class=\"toc-item-num\">1.0.0.4&nbsp;&nbsp;</span>Obtain the distinct values across <code>Type 1</code> and <code>Type 2</code>.</a></span></li><li><span><a href=\"#Cleanup-Name-that-contain-&quot;Mega&quot;.\" data-toc-modified-id=\"Cleanup-Name-that-contain-&quot;Mega&quot;.-1.0.0.5\"><span class=\"toc-item-num\">1.0.0.5&nbsp;&nbsp;</span>Cleanup <code>Name</code> that contain \"Mega\".</a></span></li><li><span><a href=\"#Create-a-new-column-called-A/D-Ratio-whose-value-equals-to-Attack-devided-by-Defense.\" data-toc-modified-id=\"Create-a-new-column-called-A/D-Ratio-whose-value-equals-to-Attack-devided-by-Defense.-1.0.0.6\"><span class=\"toc-item-num\">1.0.0.6&nbsp;&nbsp;</span>Create a new column called <code>A/D Ratio</code> whose value equals to <code>Attack</code> devided by <code>Defense</code>.</a></span></li><li><span><a href=\"#Identify-the-pokemon-with-the-highest-A/D-Ratio.\" data-toc-modified-id=\"Identify-the-pokemon-with-the-highest-A/D-Ratio.-1.0.0.7\"><span class=\"toc-item-num\">1.0.0.7&nbsp;&nbsp;</span>Identify the pokemon with the highest <code>A/D Ratio</code>.</a></span></li><li><span><a href=\"#Identify-the-pokemon-with-the-lowest-A/D-Ratio.\" data-toc-modified-id=\"Identify-the-pokemon-with-the-lowest-A/D-Ratio.-1.0.0.8\"><span class=\"toc-item-num\">1.0.0.8&nbsp;&nbsp;</span>Identify the pokemon with the lowest A/D Ratio.</a></span></li><li><span><a href=\"#Create-a-new-column-called-Combo-Type-whose-value-combines-Type-1-and-Type-2.\" data-toc-modified-id=\"Create-a-new-column-called-Combo-Type-whose-value-combines-Type-1-and-Type-2.-1.0.0.9\"><span class=\"toc-item-num\">1.0.0.9&nbsp;&nbsp;</span>Create a new column called <code>Combo Type</code> whose value combines <code>Type 1</code> and <code>Type 2</code>.</a></span></li><li><span><a href=\"#Identify-the-pokemon-whose-A/D-Ratio-are-among-the-top-5.\" data-toc-modified-id=\"Identify-the-pokemon-whose-A/D-Ratio-are-among-the-top-5.-1.0.0.10\"><span class=\"toc-item-num\">1.0.0.10&nbsp;&nbsp;</span>Identify the pokemon whose <code>A/D Ratio</code> are among the top 5.</a></span></li><li><span><a href=\"#For-the-5-pokemon-printed-above,-aggregate-Combo-Type-and-use-a-list-to-store-the-unique-values.\" data-toc-modified-id=\"For-the-5-pokemon-printed-above,-aggregate-Combo-Type-and-use-a-list-to-store-the-unique-values.-1.0.0.11\"><span class=\"toc-item-num\">1.0.0.11&nbsp;&nbsp;</span>For the 5 pokemon printed above, aggregate <code>Combo Type</code> and use a list to store the unique values.</a></span></li><li><span><a href=\"#For-each-of-the-Combo-Type-values-obtained-from-the-previous-question,-calculate-the-mean-scores-of-all-numeric-fields-across-all-pokemon.\" data-toc-modified-id=\"For-each-of-the-Combo-Type-values-obtained-from-the-previous-question,-calculate-the-mean-scores-of-all-numeric-fields-across-all-pokemon.-1.0.0.12\"><span class=\"toc-item-num\">1.0.0.12&nbsp;&nbsp;</span>For each of the <code>Combo Type</code> values obtained from the previous question, calculate the mean scores of all numeric fields across all pokemon.</a></span></li></ul></li></ul></li></ul></li></ul></div>"
   ]
  },
  {
   "cell_type": "markdown",
   "metadata": {},
   "source": [
    "# Challenge 1\n",
    "\n",
    "In this challenge you will be working on **Pokemon**. You will answer a series of questions in order to practice dataframe calculation, aggregation, and transformation.\n",
    "\n",
    "![Pokemon](../images/pokemon.jpg)\n",
    "\n",
    "Follow the instructions below and enter your code.\n",
    "\n",
    "#### Import all required libraries."
   ]
  },
  {
   "cell_type": "code",
   "execution_count": 6,
   "metadata": {},
   "outputs": [],
   "source": [
    "# import libraries\n",
    "import pandas as pd\n",
    "import numpy as np"
   ]
  },
  {
   "cell_type": "markdown",
   "metadata": {},
   "source": [
    "#### Import data set.\n",
    "\n",
    "Import data set `Pokemon` . Read the data into a dataframe called `pokemon`.\n",
    "\n",
    "*Data set attributed to [Alberto Barradas](https://www.kaggle.com/abcsds/pokemon/)*"
   ]
  },
  {
   "cell_type": "code",
   "execution_count": 2,
   "metadata": {},
   "outputs": [],
   "source": [
    "# import data set from Ironhack's database\n",
    "df=pd.read_csv('Pokemon.csv')"
   ]
  },
  {
   "cell_type": "markdown",
   "metadata": {},
   "source": [
    "#### Print first 10 rows of `pokemon`."
   ]
  },
  {
   "cell_type": "code",
   "execution_count": 3,
   "metadata": {},
   "outputs": [
    {
     "data": {
      "text/html": [
       "<div>\n",
       "<style scoped>\n",
       "    .dataframe tbody tr th:only-of-type {\n",
       "        vertical-align: middle;\n",
       "    }\n",
       "\n",
       "    .dataframe tbody tr th {\n",
       "        vertical-align: top;\n",
       "    }\n",
       "\n",
       "    .dataframe thead th {\n",
       "        text-align: right;\n",
       "    }\n",
       "</style>\n",
       "<table border=\"1\" class=\"dataframe\">\n",
       "  <thead>\n",
       "    <tr style=\"text-align: right;\">\n",
       "      <th></th>\n",
       "      <th>#</th>\n",
       "      <th>Name</th>\n",
       "      <th>Type 1</th>\n",
       "      <th>Type 2</th>\n",
       "      <th>Total</th>\n",
       "      <th>HP</th>\n",
       "      <th>Attack</th>\n",
       "      <th>Defense</th>\n",
       "      <th>Sp. Atk</th>\n",
       "      <th>Sp. Def</th>\n",
       "      <th>Speed</th>\n",
       "      <th>Generation</th>\n",
       "      <th>Legendary</th>\n",
       "    </tr>\n",
       "  </thead>\n",
       "  <tbody>\n",
       "    <tr>\n",
       "      <th>0</th>\n",
       "      <td>1</td>\n",
       "      <td>Bulbasaur</td>\n",
       "      <td>Grass</td>\n",
       "      <td>Poison</td>\n",
       "      <td>318</td>\n",
       "      <td>45</td>\n",
       "      <td>49</td>\n",
       "      <td>49</td>\n",
       "      <td>65</td>\n",
       "      <td>65</td>\n",
       "      <td>45</td>\n",
       "      <td>1</td>\n",
       "      <td>False</td>\n",
       "    </tr>\n",
       "    <tr>\n",
       "      <th>1</th>\n",
       "      <td>2</td>\n",
       "      <td>Ivysaur</td>\n",
       "      <td>Grass</td>\n",
       "      <td>Poison</td>\n",
       "      <td>405</td>\n",
       "      <td>60</td>\n",
       "      <td>62</td>\n",
       "      <td>63</td>\n",
       "      <td>80</td>\n",
       "      <td>80</td>\n",
       "      <td>60</td>\n",
       "      <td>1</td>\n",
       "      <td>False</td>\n",
       "    </tr>\n",
       "    <tr>\n",
       "      <th>2</th>\n",
       "      <td>3</td>\n",
       "      <td>Venusaur</td>\n",
       "      <td>Grass</td>\n",
       "      <td>Poison</td>\n",
       "      <td>525</td>\n",
       "      <td>80</td>\n",
       "      <td>82</td>\n",
       "      <td>83</td>\n",
       "      <td>100</td>\n",
       "      <td>100</td>\n",
       "      <td>80</td>\n",
       "      <td>1</td>\n",
       "      <td>False</td>\n",
       "    </tr>\n",
       "    <tr>\n",
       "      <th>3</th>\n",
       "      <td>3</td>\n",
       "      <td>VenusaurMega Venusaur</td>\n",
       "      <td>Grass</td>\n",
       "      <td>Poison</td>\n",
       "      <td>625</td>\n",
       "      <td>80</td>\n",
       "      <td>100</td>\n",
       "      <td>123</td>\n",
       "      <td>122</td>\n",
       "      <td>120</td>\n",
       "      <td>80</td>\n",
       "      <td>1</td>\n",
       "      <td>False</td>\n",
       "    </tr>\n",
       "    <tr>\n",
       "      <th>4</th>\n",
       "      <td>4</td>\n",
       "      <td>Charmander</td>\n",
       "      <td>Fire</td>\n",
       "      <td>NaN</td>\n",
       "      <td>309</td>\n",
       "      <td>39</td>\n",
       "      <td>52</td>\n",
       "      <td>43</td>\n",
       "      <td>60</td>\n",
       "      <td>50</td>\n",
       "      <td>65</td>\n",
       "      <td>1</td>\n",
       "      <td>False</td>\n",
       "    </tr>\n",
       "    <tr>\n",
       "      <th>5</th>\n",
       "      <td>5</td>\n",
       "      <td>Charmeleon</td>\n",
       "      <td>Fire</td>\n",
       "      <td>NaN</td>\n",
       "      <td>405</td>\n",
       "      <td>58</td>\n",
       "      <td>64</td>\n",
       "      <td>58</td>\n",
       "      <td>80</td>\n",
       "      <td>65</td>\n",
       "      <td>80</td>\n",
       "      <td>1</td>\n",
       "      <td>False</td>\n",
       "    </tr>\n",
       "    <tr>\n",
       "      <th>6</th>\n",
       "      <td>6</td>\n",
       "      <td>Charizard</td>\n",
       "      <td>Fire</td>\n",
       "      <td>Flying</td>\n",
       "      <td>534</td>\n",
       "      <td>78</td>\n",
       "      <td>84</td>\n",
       "      <td>78</td>\n",
       "      <td>109</td>\n",
       "      <td>85</td>\n",
       "      <td>100</td>\n",
       "      <td>1</td>\n",
       "      <td>False</td>\n",
       "    </tr>\n",
       "    <tr>\n",
       "      <th>7</th>\n",
       "      <td>6</td>\n",
       "      <td>CharizardMega Charizard X</td>\n",
       "      <td>Fire</td>\n",
       "      <td>Dragon</td>\n",
       "      <td>634</td>\n",
       "      <td>78</td>\n",
       "      <td>130</td>\n",
       "      <td>111</td>\n",
       "      <td>130</td>\n",
       "      <td>85</td>\n",
       "      <td>100</td>\n",
       "      <td>1</td>\n",
       "      <td>False</td>\n",
       "    </tr>\n",
       "    <tr>\n",
       "      <th>8</th>\n",
       "      <td>6</td>\n",
       "      <td>CharizardMega Charizard Y</td>\n",
       "      <td>Fire</td>\n",
       "      <td>Flying</td>\n",
       "      <td>634</td>\n",
       "      <td>78</td>\n",
       "      <td>104</td>\n",
       "      <td>78</td>\n",
       "      <td>159</td>\n",
       "      <td>115</td>\n",
       "      <td>100</td>\n",
       "      <td>1</td>\n",
       "      <td>False</td>\n",
       "    </tr>\n",
       "    <tr>\n",
       "      <th>9</th>\n",
       "      <td>7</td>\n",
       "      <td>Squirtle</td>\n",
       "      <td>Water</td>\n",
       "      <td>NaN</td>\n",
       "      <td>314</td>\n",
       "      <td>44</td>\n",
       "      <td>48</td>\n",
       "      <td>65</td>\n",
       "      <td>50</td>\n",
       "      <td>64</td>\n",
       "      <td>43</td>\n",
       "      <td>1</td>\n",
       "      <td>False</td>\n",
       "    </tr>\n",
       "  </tbody>\n",
       "</table>\n",
       "</div>"
      ],
      "text/plain": [
       "   #                       Name Type 1  Type 2  Total  HP  Attack  Defense  \\\n",
       "0  1                  Bulbasaur  Grass  Poison    318  45      49       49   \n",
       "1  2                    Ivysaur  Grass  Poison    405  60      62       63   \n",
       "2  3                   Venusaur  Grass  Poison    525  80      82       83   \n",
       "3  3      VenusaurMega Venusaur  Grass  Poison    625  80     100      123   \n",
       "4  4                 Charmander   Fire     NaN    309  39      52       43   \n",
       "5  5                 Charmeleon   Fire     NaN    405  58      64       58   \n",
       "6  6                  Charizard   Fire  Flying    534  78      84       78   \n",
       "7  6  CharizardMega Charizard X   Fire  Dragon    634  78     130      111   \n",
       "8  6  CharizardMega Charizard Y   Fire  Flying    634  78     104       78   \n",
       "9  7                   Squirtle  Water     NaN    314  44      48       65   \n",
       "\n",
       "   Sp. Atk  Sp. Def  Speed  Generation  Legendary  \n",
       "0       65       65     45           1      False  \n",
       "1       80       80     60           1      False  \n",
       "2      100      100     80           1      False  \n",
       "3      122      120     80           1      False  \n",
       "4       60       50     65           1      False  \n",
       "5       80       65     80           1      False  \n",
       "6      109       85    100           1      False  \n",
       "7      130       85    100           1      False  \n",
       "8      159      115    100           1      False  \n",
       "9       50       64     43           1      False  "
      ]
     },
     "execution_count": 3,
     "metadata": {},
     "output_type": "execute_result"
    }
   ],
   "source": [
    "# your code here\n",
    "df.head(n=10)\n"
   ]
  },
  {
   "cell_type": "markdown",
   "metadata": {},
   "source": [
    "Lorsque vous consultez un jeu de données, vous vous demandez souvent ce que signifie chaque colonne. Certains jeux de données open source fournissent des descriptions détaillées du jeu de données. Dans de nombreux cas, ces descriptions sont extrêmement utiles pour que les analystes de données puissent travailler de manière efficace et pertinente.\n",
    "\n",
    "Pour le jeu de données `Pokemon.csv`, heureusement, le propriétaire a fourni des descriptions que vous pouvez consulter [ici](https://www.kaggle.com/abcsds/pokemon/home). Pour vous faciliter la tâche, nous incluons les descriptions ci-dessous. Lisez-les attentivement et comprenez la signification de chaque colonne. Ces informations vous seront précieuses pour travailler avec ces données.\n",
    "\n",
    "| Colonne | Description |\n",
    "| --- | --- |\n",
    "| # | Identifiant pour chaque Pokémon |\n",
    "| Name | Nom de chaque Pokémon |\n",
    "| Type 1 | Chaque Pokémon a un type, ce qui détermine ses faiblesses/résistances aux attaques |\n",
    "| Type 2 | Certains Pokémon ont un double type et donc deux types |\n",
    "| Total | Indication générale de la puissance globale d’un Pokémon |\n",
    "| HP | Points de vie, ou santé, indiquent combien de dégâts un Pokémon peut encaisser avant de s’évanouir |\n",
    "| Attack | Modificateur de base pour les attaques normales (ex. Griffe, Coup de poing) |\n",
    "| Defense | Résistance de base aux dégâts infligés par les attaques normales |\n",
    "| SP Atk | Attaque spéciale, modificateur de base pour les attaques spéciales (ex. Déflagration, Hydrocanon) |\n",
    "| SP Def | Résistance de base aux dégâts infligés par les attaques spéciales |\n",
    "| Speed | Détermine quel Pokémon attaque le premier à chaque tour |\n",
    "| Generation | Numéro de la génération |\n",
    "| Legendary | Vrai si le Pokémon est Légendaire, Faux sinon |\n"
   ]
  },
  {
   "cell_type": "markdown",
   "metadata": {},
   "source": [
    "#### Obtenez les valeurs distinctes pour `Type 1` et `Type 2`.\n",
    "\n",
    "Extrayez toutes les valeurs présentes dans `Type 1` et `Type 2`. Ensuite, créez un tableau contenant toutes les valeurs distinctes présentes dans ces deux colonnes.\n"
   ]
  },
  {
   "cell_type": "code",
   "execution_count": 7,
   "metadata": {},
   "outputs": [
    {
     "name": "stdout",
     "output_type": "stream",
     "text": [
      "['Bug' 'Dark' 'Dragon' 'Electric' 'Fairy' 'Fighting' 'Fire' 'Flying'\n",
      " 'Ghost' 'Grass' 'Ground' 'Ice' 'Normal' 'Poison' 'Psychic' 'Rock' 'Steel'\n",
      " 'Water']\n"
     ]
    }
   ],
   "source": [
    "# your code here\n",
    "types1 = df['Type 1'].dropna().unique()\n",
    "types2 = df['Type 2'].dropna().unique()\n",
    "\n",
    "# Combiner les deux, puis rendre unique\n",
    "distinct_types = np.unique(np.concatenate((types1, types2)))\n",
    "\n",
    "print(distinct_types)"
   ]
  },
  {
   "cell_type": "markdown",
   "metadata": {},
   "source": [
    "#### Nettoyer les `Name` contenant \"Mega\".\n",
    "\n",
    "Si vous avez examiné attentivement les noms des Pokémon, vous avez dû remarquer qu’il existe des textes parasites dans les noms qui contiennent \"Mega\". Nous voulons nettoyer ces noms de Pokémon.  \n",
    "Par exemple, \"VenusaurMega Venusaur\" devrait devenir \"Mega Venusaur\", et \"CharizardMega Charizard X\" devrait devenir \"Mega Charizard X\".\n"
   ]
  },
  {
   "cell_type": "code",
   "execution_count": 8,
   "metadata": {},
   "outputs": [
    {
     "name": "stdout",
     "output_type": "stream",
     "text": [
      "     #              Name Type 1  Type 2  Total  HP  Attack  Defense  Sp. Atk  \\\n",
      "3    3     Mega Venusaur  Grass  Poison    625  80     100      123      122   \n",
      "7    6  Mega Charizard X   Fire  Dragon    634  78     130      111      130   \n",
      "8    6  Mega Charizard Y   Fire  Flying    634  78     104       78      159   \n",
      "12   9    Mega Blastoise  Water     NaN    630  79     103      120      135   \n",
      "19  15     Mega Beedrill    Bug  Poison    495  65     150       40       15   \n",
      "\n",
      "    Sp. Def  Speed  Generation  Legendary  \n",
      "3       120     80           1      False  \n",
      "7        85    100           1      False  \n",
      "8       115    100           1      False  \n",
      "12      115     78           1      False  \n",
      "19       80    145           1      False  \n"
     ]
    }
   ],
   "source": [
    "# your code here\n",
    "# Fonction de nettoyage\n",
    "def clean_mega_name(name):\n",
    "    if \"Mega\" in name:\n",
    "        # Trouver la partie \"Mega\" et tout ce qui suit\n",
    "        idx = name.find(\"Mega\")\n",
    "        return name[idx:]\n",
    "    else:\n",
    "        return name\n",
    "\n",
    "# Appliquer à la colonne 'Name'\n",
    "df['Name'] = df['Name'].apply(clean_mega_name)\n",
    "\n",
    "# Vérifier le résultat\n",
    "print(df[df['Name'].str.contains('Mega')].head())"
   ]
  },
  {
   "cell_type": "markdown",
   "metadata": {},
   "source": [
    "#### Créez une nouvelle colonne appelée `A/D Ratio` dont la valeur est égale à `Attack` divisé par `Defense`.\n",
    "\n",
    "Par exemple, si un Pokémon a un score d’Attack de 49 et un score de Defense de 49, le `A/D Ratio` correspondant est 49/49 = 1.\n"
   ]
  },
  {
   "cell_type": "code",
   "execution_count": 9,
   "metadata": {},
   "outputs": [
    {
     "name": "stdout",
     "output_type": "stream",
     "text": [
      "            Name  Attack  Defense  A/D Ratio\n",
      "0      Bulbasaur      49       49   1.000000\n",
      "1        Ivysaur      62       63   0.984127\n",
      "2       Venusaur      82       83   0.987952\n",
      "3  Mega Venusaur     100      123   0.813008\n",
      "4     Charmander      52       43   1.209302\n"
     ]
    }
   ],
   "source": [
    "# your code here\n",
    "import pandas as pd\n",
    "\n",
    "\n",
    "# Créer la colonne A/D Ratio\n",
    "df['A/D Ratio'] = df['Attack'] / df['Defense']\n",
    "\n",
    "# Afficher quelques exemples\n",
    "print(df[['Name', 'Attack', 'Defense', 'A/D Ratio']].head())\n"
   ]
  },
  {
   "cell_type": "markdown",
   "metadata": {},
   "source": [
    "#### Identifier le Pokémon ayant le `A/D Ratio` le plus élevé.\n"
   ]
  },
  {
   "cell_type": "code",
   "execution_count": 10,
   "metadata": {},
   "outputs": [
    {
     "name": "stdout",
     "output_type": "stream",
     "text": [
      "Name         DeoxysAttack Forme\n",
      "Attack                      180\n",
      "Defense                      20\n",
      "A/D Ratio                   9.0\n",
      "Name: 429, dtype: object\n"
     ]
    }
   ],
   "source": [
    "# your code here\n",
    "import pandas as pd\n",
    "\n",
    "\n",
    "\n",
    "# Trouver l'indice du Pokémon avec le ratio maximum\n",
    "idx_max = df['A/D Ratio'].idxmax()\n",
    "\n",
    "# Afficher le Pokémon correspondant\n",
    "print(df.loc[idx_max, ['Name', 'Attack', 'Defense', 'A/D Ratio']])\n"
   ]
  },
  {
   "cell_type": "markdown",
   "metadata": {},
   "source": [
    "#### Identifiez le pokemon avec le plus faible A/D Ratio."
   ]
  },
  {
   "cell_type": "code",
   "execution_count": 11,
   "metadata": {},
   "outputs": [
    {
     "name": "stdout",
     "output_type": "stream",
     "text": [
      "Name          Shuckle\n",
      "Attack             10\n",
      "Defense           230\n",
      "A/D Ratio    0.043478\n",
      "Name: 230, dtype: object\n"
     ]
    }
   ],
   "source": [
    "# your code here\n",
    "import pandas as pd\n",
    "\n",
    "\n",
    "\n",
    "# Trouver l'indice du Pokémon avec le ratio maximum\n",
    "idx_min = df['A/D Ratio'].idxmin()\n",
    "\n",
    "# Afficher le Pokémon correspondant\n",
    "print(df.loc[idx_min, ['Name', 'Attack', 'Defense', 'A/D Ratio']])"
   ]
  },
  {
   "cell_type": "markdown",
   "metadata": {},
   "source": [
    "#### Créez une nouvelle colonne appelée `Combo Type` dont la valeur combine `Type 1` et `Type 2`.\n",
    "\n",
    "**Règles :**\n",
    "\n",
    "* Si `Type 1` et `Type 2` ont tous les deux une valeur valide, la valeur de `Combo Type` doit contenir les deux sous la forme `<Type 1>-<Type 2>`.  \n",
    "  Par exemple, si `Type 1` est `Grass` et `Type 2` est `Poison`, alors `Combo Type` sera `Grass-Poison`.\n",
    "\n",
    "* Si `Type 1` a une valeur valide mais pas `Type 2`, alors `Combo Type` sera simplement égal à `Type 1`.  \n",
    "  Par exemple, si `Type 1` est `Fire` et `Type 2` est `NaN`, alors `Combo Type` sera `Fire`.\n"
   ]
  },
  {
   "cell_type": "code",
   "execution_count": 12,
   "metadata": {},
   "outputs": [
    {
     "name": "stdout",
     "output_type": "stream",
     "text": [
      "            Name Type 1  Type 2    Combo Type\n",
      "0      Bulbasaur  Grass  Poison  Grass-Poison\n",
      "1        Ivysaur  Grass  Poison  Grass-Poison\n",
      "2       Venusaur  Grass  Poison  Grass-Poison\n",
      "3  Mega Venusaur  Grass  Poison  Grass-Poison\n",
      "4     Charmander   Fire     NaN          Fire\n"
     ]
    }
   ],
   "source": [
    "# your code here\n",
    "import pandas as pd\n",
    "\n",
    "# Créer Combo Type\n",
    "df['Combo Type'] = df.apply(\n",
    "    lambda row: f\"{row['Type 1']}-{row['Type 2']}\" if pd.notnull(row['Type 2']) else row['Type 1'],\n",
    "    axis=1\n",
    ")\n",
    "\n",
    "# Vérifier le résultat\n",
    "print(df[['Name', 'Type 1', 'Type 2', 'Combo Type']].head())\n"
   ]
  },
  {
   "cell_type": "markdown",
   "metadata": {},
   "source": [
    "#### Identifier les Pokémon dont le `A/D Ratio` fait partie des 5 plus élevés.\n"
   ]
  },
  {
   "cell_type": "code",
   "execution_count": 13,
   "metadata": {},
   "outputs": [
    {
     "name": "stdout",
     "output_type": "stream",
     "text": [
      "                   Name  Attack  Defense  A/D Ratio\n",
      "429  DeoxysAttack Forme     180       20      9.000\n",
      "347            Carvanha      90       20      4.500\n",
      "19        Mega Beedrill     150       40      3.750\n",
      "453            Cranidos     125       40      3.125\n",
      "348            Sharpedo     120       40      3.000\n"
     ]
    }
   ],
   "source": [
    "# your code here\n",
    "import pandas as pd\n",
    "\n",
    "\n",
    "# Trier par A/D Ratio décroissant\n",
    "top5 = df.sort_values(by='A/D Ratio', ascending=False).head(5)\n",
    "\n",
    "# Afficher les 5 premiers\n",
    "print(top5[['Name', 'Attack', 'Defense', 'A/D Ratio']])\n",
    "\n",
    "\n"
   ]
  },
  {
   "cell_type": "markdown",
   "metadata": {},
   "source": [
    "#### Pour les 5 Pokémon affichés ci-dessus, agrégerez les `Combo Type` et utilisez une liste pour stocker les valeurs uniques.\n",
    "\n",
    "Votre résultat final est une liste contenant les valeurs distinctes de `Combo Type` des 5 Pokémon ayant le `A/D Ratio` le plus élevé.\n"
   ]
  },
  {
   "cell_type": "code",
   "execution_count": 17,
   "metadata": {},
   "outputs": [
    {
     "name": "stdout",
     "output_type": "stream",
     "text": [
      "['Psychic', 'Water-Dark', 'Bug-Poison', 'Rock']\n"
     ]
    }
   ],
   "source": [
    "# your code here\n",
    "\n",
    "top5 = df.sort_values(by='A/D Ratio', ascending=False).head(5)\n",
    "# Extraire Combo Type unique\n",
    "distinct_combo_types = top5['Combo Type'].unique().tolist()\n",
    "\n",
    "print(distinct_combo_types)"
   ]
  },
  {
   "cell_type": "markdown",
   "metadata": {},
   "source": [
    "#### Pour chacune des valeurs de `Combo Type` obtenues à la question précédente, calculez la moyenne de tous les champs numériques pour l’ensemble des Pokémon.\n",
    "\n",
    "\n"
   ]
  },
  {
   "cell_type": "code",
   "execution_count": 18,
   "metadata": {},
   "outputs": [
    {
     "name": "stdout",
     "output_type": "stream",
     "text": [
      "                     #       Total         HP      Attack     Defense  \\\n",
      "Combo Type                                                              \n",
      "Bug-Poison  199.166667  347.916667  53.750000   68.333333   58.083333   \n",
      "Psychic     381.973684  464.552632  72.552632   64.947368   67.236842   \n",
      "Rock        410.111111  409.444444  67.111111  103.333333  107.222222   \n",
      "Water-Dark  347.666667  493.833333  69.166667  120.000000   65.166667   \n",
      "\n",
      "              Sp. Atk    Sp. Def      Speed  Generation  Legendary  A/D Ratio  \n",
      "Combo Type                                                                     \n",
      "Bug-Poison  42.500000  59.333333  65.916667    2.333333   0.000000   1.315989  \n",
      "Psychic     98.552632  82.394737  78.868421    3.342105   0.236842   1.164196  \n",
      "Rock        40.555556  58.333333  32.888889    3.888889   0.111111   1.260091  \n",
      "Water-Dark  88.833333  63.500000  87.166667    3.166667   0.000000   2.291949  \n"
     ]
    }
   ],
   "source": [
    "# your code here\n",
    "# Filtrer pour chaque Combo Type et calculer les moyennes\n",
    "mean_stats = df[df['Combo Type'].isin(distinct_combo_types)].groupby('Combo Type').mean(numeric_only=True)\n",
    "\n",
    "print(mean_stats)"
   ]
  }
 ],
 "metadata": {
  "kernelspec": {
   "display_name": "base",
   "language": "python",
   "name": "python3"
  },
  "language_info": {
   "codemirror_mode": {
    "name": "ipython",
    "version": 3
   },
   "file_extension": ".py",
   "mimetype": "text/x-python",
   "name": "python",
   "nbconvert_exporter": "python",
   "pygments_lexer": "ipython3",
   "version": "3.12.3"
  },
  "toc": {
   "base_numbering": 1,
   "nav_menu": {},
   "number_sections": true,
   "sideBar": true,
   "skip_h1_title": false,
   "title_cell": "Table of Contents",
   "title_sidebar": "Contents",
   "toc_cell": true,
   "toc_position": {},
   "toc_section_display": true,
   "toc_window_display": false
  }
 },
 "nbformat": 4,
 "nbformat_minor": 2
}
