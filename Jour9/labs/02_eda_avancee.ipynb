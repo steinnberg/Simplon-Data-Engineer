{
 "cells": [
  {
   "cell_type": "markdown",
   "id": "872c20b9",
   "metadata": {},
   "source": [
    "## EDA_avancee "
   ]
  },
  {
   "cell_type": "code",
   "execution_count": 1,
   "id": "980c6e56",
   "metadata": {},
   "outputs": [],
   "source": [
    "\n",
    "\n",
    "import pandas as pd\n",
    "import matplotlib.pyplot as plt\n",
    "import seaborn as sns\n",
    "plt.style.use(\"ggplot\")\n",
    "\n"
   ]
  },
  {
   "cell_type": "markdown",
   "id": "5976d727",
   "metadata": {},
   "source": [
    "### 1. Charger le jeu de données"
   ]
  },
  {
   "cell_type": "code",
   "execution_count": 4,
   "id": "55a34a2b",
   "metadata": {},
   "outputs": [],
   "source": [
    "\n",
    "df = pd.read_csv(r\"C:\\Users\\Kered\\Simplon-Data-Engineer\\Jour9\\labs\\ressources\\publications.csv\")\n",
    "\n"
   ]
  },
  {
   "cell_type": "markdown",
   "id": "f6ab8a8e",
   "metadata": {},
   "source": [
    "## # 2. Nettoyage rapide"
   ]
  },
  {
   "cell_type": "code",
   "execution_count": 5,
   "id": "18cf9bc1",
   "metadata": {},
   "outputs": [],
   "source": [
    "\n",
    "\n",
    "df.drop_duplicates(inplace=True)\n",
    "numeric_cols = df.select_dtypes(\"number\").columns\n",
    "\n"
   ]
  },
  {
   "cell_type": "markdown",
   "id": "831a2290",
   "metadata": {},
   "source": [
    "## # 3. Statistiques descriptives avancées"
   ]
  },
  {
   "cell_type": "code",
   "execution_count": null,
   "id": "66271913",
   "metadata": {},
   "outputs": [],
   "source": [
    "\n",
    "df[numeric_cols].describe(percentiles=[.01,.05,.95,.99]).round(2).head()\n",
    "\n"
   ]
  },
  {
   "cell_type": "code",
   "execution_count": null,
   "id": "2670a7c9",
   "metadata": {},
   "outputs": [],
   "source": [
    "df[numeric_cols].describe().style.background_gradient(cmap='Blues')"
   ]
  },
  {
   "cell_type": "markdown",
   "id": "11f77961",
   "metadata": {},
   "source": [
    "## # 4. Détection rapide d’outliers (IQR)"
   ]
  },
  {
   "cell_type": "code",
   "execution_count": null,
   "id": "126b5445",
   "metadata": {},
   "outputs": [],
   "source": [
    "\n",
    "Q1 = df[numeric_cols].quantile(0.25)\n",
    "Q3 = df[numeric_cols].quantile(0.75)\n",
    "IQR = Q3 - Q1\n",
    "outliers = ((df[numeric_cols] < (Q1 - 1.5*IQR)) |\n",
    "            (df[numeric_cols] > (Q3 + 1.5*IQR))).any(axis=1)\n",
    "print(f\"Nb outliers détectés : {outliers.sum()}\")\n",
    "\n"
   ]
  },
  {
   "cell_type": "markdown",
   "id": "e74aec39",
   "metadata": {},
   "source": [
    "## 5. Matrice de corrélation"
   ]
  },
  {
   "cell_type": "code",
   "execution_count": null,
   "id": "aaef89d5",
   "metadata": {},
   "outputs": [],
   "source": [
    "\n",
    "corr = df[numeric_cols].corr()\n",
    "plt.figure(figsize=(10,8))\n",
    "sns.heatmap(corr, annot=True, cmap=\"coolwarm\", fmt=\".2f\", square=True)\n",
    "plt.title(\"Heatmap des corrélations\")\n",
    "#plt.tight_layout()\n",
    "plt.savefig(\"heatmap_correlations.png\")\n",
    "plt.show()\n"
   ]
  },
  {
   "cell_type": "markdown",
   "id": "557b4452",
   "metadata": {},
   "source": [
    "## 6. Pairplot (échantillon pour lisibilité)"
   ]
  },
  {
   "cell_type": "code",
   "execution_count": null,
   "id": "5931ede1",
   "metadata": {},
   "outputs": [],
   "source": [
    "\n",
    "sample = df.sample(min(len(df), 300))\n",
    "sns.pairplot(sample[numeric_cols])\n",
    "plt.savefig(\"pairplot_numeric.png\")\n",
    "plt.show()"
   ]
  }
 ],
 "metadata": {
  "kernelspec": {
   "display_name": "base",
   "language": "python",
   "name": "python3"
  },
  "language_info": {
   "codemirror_mode": {
    "name": "ipython",
    "version": 3
   },
   "file_extension": ".py",
   "mimetype": "text/x-python",
   "name": "python",
   "nbconvert_exporter": "python",
   "pygments_lexer": "ipython3",
   "version": "3.12.3"
  }
 },
 "nbformat": 4,
 "nbformat_minor": 5
}
