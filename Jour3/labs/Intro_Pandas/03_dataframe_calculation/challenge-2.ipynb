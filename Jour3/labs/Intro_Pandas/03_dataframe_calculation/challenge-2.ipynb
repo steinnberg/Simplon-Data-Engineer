{
 "cells": [
  {
   "cell_type": "markdown",
   "metadata": {
    "toc": true
   },
   "source": [
    "<h1>Table of Contents<span class=\"tocSkip\"></span></h1>\n",
    "<div class=\"toc\"><ul class=\"toc-item\"><li><span><a href=\"#Challenge-2\" data-toc-modified-id=\"Challenge-2-1\"><span class=\"toc-item-num\">1&nbsp;&nbsp;</span>Challenge 2</a></span><ul class=\"toc-item\"><li><span><a href=\"#Problem-Solving-Iteration-1\" data-toc-modified-id=\"Problem-Solving-Iteration-1-1.1\"><span class=\"toc-item-num\">1.1&nbsp;&nbsp;</span>Problem Solving Iteration 1</a></span><ul class=\"toc-item\"><li><ul class=\"toc-item\"><li><span><a href=\"#The-Total-field-is-computed-based-on-HP,-Attack,-Defense,-Sp.-Atk,-Sp.-Def,-and-Speed.\" data-toc-modified-id=\"The-Total-field-is-computed-based-on-HP,-Attack,-Defense,-Sp.-Atk,-Sp.-Def,-and-Speed.-1.1.0.1\"><span class=\"toc-item-num\">1.1.0.1&nbsp;&nbsp;</span>The <code>Total</code> field is computed based on <code>HP</code>, <code>Attack</code>, <code>Defense</code>, <code>Sp. Atk</code>, <code>Sp. Def</code>, and <code>Speed</code>.</a></span></li></ul></li></ul></li><li><span><a href=\"#Problem-Solving-Iteration-2\" data-toc-modified-id=\"Problem-Solving-Iteration-2-1.2\"><span class=\"toc-item-num\">1.2&nbsp;&nbsp;</span>Problem Solving Iteration 2</a></span><ul class=\"toc-item\"><li><span><a href=\"#Which-pokemon-type-is-most-likely-to-have-the-highest-Total-value?\" data-toc-modified-id=\"Which-pokemon-type-is-most-likely-to-have-the-highest-Total-value?-1.2.1\"><span class=\"toc-item-num\">1.2.1&nbsp;&nbsp;</span>Which pokemon type is most likely to have the highest <code>Total</code> value?</a></span><ul class=\"toc-item\"><li><span><a href=\"#Type-1-and-Type-2-string-variables-need-to-be-converted-to-numerical-variables-in-order-to-identify-the-relationship-between-Total-and-the-pokemon-type.\" data-toc-modified-id=\"Type-1-and-Type-2-string-variables-need-to-be-converted-to-numerical-variables-in-order-to-identify-the-relationship-between-Total-and-the-pokemon-type.-1.2.1.1\"><span class=\"toc-item-num\">1.2.1.1&nbsp;&nbsp;</span><code>Type 1</code> and <code>Type 2</code> string variables need to be converted to numerical variables in order to identify the relationship between <code>Total</code> and the pokemon type.</a></span></li><li><span><a href=\"#How-to-convert-two-string-variables-to-numerical?\" data-toc-modified-id=\"How-to-convert-two-string-variables-to-numerical?-1.2.1.2\"><span class=\"toc-item-num\">1.2.1.2&nbsp;&nbsp;</span>How to convert two string variables to numerical?</a></span></li><li><span><a href=\"#In-the-next-cell,-use-One-Hot-Encoding-to-encode-Type-1-and-Type-2.-Use-the-pokemon-type-values-as-the-names-of-the-numerical-fields-you-create.\" data-toc-modified-id=\"In-the-next-cell,-use-One-Hot-Encoding-to-encode-Type-1-and-Type-2.-Use-the-pokemon-type-values-as-the-names-of-the-numerical-fields-you-create.-1.2.1.3\"><span class=\"toc-item-num\">1.2.1.3&nbsp;&nbsp;</span>In the next cell, use One Hot Encoding to encode <code>Type 1</code> and <code>Type 2</code>. Use the pokemon type values as the names of the numerical fields you create.</a></span></li></ul></li></ul></li><li><span><a href=\"#Problem-Solving-Iteration-3\" data-toc-modified-id=\"Problem-Solving-Iteration-3-1.3\"><span class=\"toc-item-num\">1.3&nbsp;&nbsp;</span>Problem Solving Iteration 3</a></span><ul class=\"toc-item\"><li><ul class=\"toc-item\"><li><span><a href=\"#There-are-relationships-between-Total-and-the-encoded-pokemon-type-variables-and-we-need-to-identify-the-correlations.\" data-toc-modified-id=\"There-are-relationships-between-Total-and-the-encoded-pokemon-type-variables-and-we-need-to-identify-the-correlations.-1.3.0.1\"><span class=\"toc-item-num\">1.3.0.1&nbsp;&nbsp;</span>There are relationships between <code>Total</code> and the encoded pokemon type variables and we need to identify the correlations.</a></span></li><li><span><a href=\"#How-to-identify-the-relationship-between-Total-and-the-encoded-pokemon-type-fields?\" data-toc-modified-id=\"How-to-identify-the-relationship-between-Total-and-the-encoded-pokemon-type-fields?-1.3.0.2\"><span class=\"toc-item-num\">1.3.0.2&nbsp;&nbsp;</span>How to identify the relationship between <code>Total</code> and the encoded pokemon type fields?</a></span></li></ul></li></ul></li></ul></li><li><span><a href=\"#Bonus-Question\" data-toc-modified-id=\"Bonus-Question-2\"><span class=\"toc-item-num\">2&nbsp;&nbsp;</span>Bonus Question</a></span></li></ul></div>"
   ]
  },
  {
   "cell_type": "markdown",
   "metadata": {},
   "source": [
    "# Défi 2\n",
    "\n",
    "Dans ce défi, nous allons continuer à travailler avec le jeu de données `Pokemon`. Nous allons tenter de résoudre un problème un peu plus complexe, qui nous permettra de pratiquer le processus d’analyse de données itératif que vous avez appris dans [cette vidéo](https://www.youtube.com/watch?v=xOomNicqbkk).\n",
    "\n",
    "L’énoncé du problème est le suivant :\n",
    "\n",
    "**Vous êtes dans un marché noir de Pokémon et vous prévoyez d’acheter un Pokémon pour combattre. Tous les Pokémon sont vendus au même prix et vous ne pouvez vous permettre d’en acheter qu’un seul. Vous ne pouvez pas choisir le Pokémon spécifique que vous allez acheter. Cependant, vous pouvez spécifier le type du Pokémon — un type qui existe dans `Type 1` ou `Type 2`. Quel type devez-vous choisir pour maximiser vos chances d’obtenir un bon Pokémon ?**\n",
    "\n",
    "Pour vous rappeler les 3 étapes du processus d’analyse de données itératif, les voici :\n",
    "\n",
    "1. Définir les attentes\n",
    "2. Collecter des informations\n",
    "3. Réagir aux données / Réviser les attentes\n",
    "\n",
    "En suivant ce processus itératif, nous allons vous guider pour réaliser ce défi.\n"
   ]
  },
  {
   "cell_type": "markdown",
   "metadata": {},
   "source": [
    "## Itération 1 - Résolution du Problème\n",
    "\n",
    "Dans cette première itération, nous allons analyser le problème et identifier le point clé.  \n",
    "L’énoncé original est un peu vague car nous ne savons pas vraiment ce qu’est un *bon Pokémon* tel qu’il est représenté dans les données.  \n",
    "Nous allons commencer par mieux comprendre le jeu de données et voir si nous pouvons en tirer quelques enseignements.\n"
   ]
  },
  {
   "cell_type": "code",
   "execution_count": null,
   "metadata": {},
   "outputs": [],
   "source": [
    "# Import libraries\n",
    "import numpy as np\n",
    "import pandas as pd"
   ]
  },
  {
   "cell_type": "code",
   "execution_count": null,
   "metadata": {
    "scrolled": true
   },
   "outputs": [],
   "source": [
    "# Importing the dataset \n",
    "df=pd.read_csv('../../Pokemon.csv')"
   ]
  },
  {
   "cell_type": "markdown",
   "metadata": {},
   "source": [
    "D’après les données, il semble qu’un bon Pokémon se définit par ses capacités, représentées par les champs `HP`, `Attack`, `Defense`, `Sp. Atk`, `Sp. Def`, `Speed` et `Total`.  \n",
    "Nous ne sommes pas sûrs pour `Generation` et `Legendary` car ils ne sont pas nécessairement des facteurs décisifs des capacités d’un Pokémon.\n",
    "\n",
    "Mais `HP`, `Attack`, `Defense`, `Sp. Atk`, `Sp. Def`, `Speed` et `Total`, ça fait beaucoup de champs !  \n",
    "Si nous les regardons tous en même temps, cela devient très complexe. Ce n’est pas Mission Impossible mais c’est le genre de problème qu’il serait plus logique de traiter après avoir appris le Machine Learning (ce que vous ferez dans le Module 3).  \n",
    "Pour l’instant, existe-t-il un moyen de **consolider** les champs que nous devons étudier ?\n",
    "\n",
    "Heureusement, il semble qu’il y ait un moyen. Il apparaît que le champ `Total` est calculé à partir des 6 autres champs. Mais nous devons prouver cette hypothèse.  \n",
    "Si nous pouvons confirmer qu’il existe une formule pour calculer `Total` à partir des 6 capacités, alors nous n’aurons plus qu’à nous intéresser à `Total`.\n",
    "\n",
    "Nous avons donc l’attente suivante :\n",
    "\n",
    "#### Le champ `Total` est calculé à partir de `HP`, `Attack`, `Defense`, `Sp. Atk`, `Sp. Def` et `Speed`.\n",
    "\n",
    "Nous devons collecter les informations suivantes :\n",
    "\n",
    "* **Quelle est la formule pour calculer `Total` ?**\n",
    "* **Est-ce que cette formule fonctionne pour tous les Pokémon ?**\n",
    "\n",
    "Dans la cellule ci-dessous, formulez une hypothèse sur la manière dont `Total` est calculé et testez votre hypothèse.\n"
   ]
  },
  {
   "cell_type": "code",
   "execution_count": null,
   "metadata": {},
   "outputs": [],
   "source": [
    "# your code here\n"
   ]
  },
  {
   "cell_type": "markdown",
   "metadata": {},
   "source": [
    "Comment: Yeah, Total is just a sum of all those columns"
   ]
  },
  {
   "cell_type": "markdown",
   "metadata": {},
   "source": [
    "## Itération 2 - Résolution du Problème\n",
    "\n",
    "Maintenant que nous avons consolidé les champs liés aux capacités, nous pouvons reformuler l’énoncé du problème. Le nouvel énoncé est le suivant :\n",
    "\n",
    "### Quel type de Pokémon a le plus de chances d’avoir la valeur `Total` la plus élevée ?\n",
    "\n",
    "Dans cette version mise à jour, nous supposons qu’il existe une certaine relation entre le `Total` et le type de Pokémon.  \n",
    "Mais nous avons deux champs *type* (`Type 1` et `Type 2`) qui contiennent des valeurs sous forme de chaînes de caractères.  \n",
    "En analyse de données, les champs de type chaîne doivent être transformés en format numérique pour pouvoir être analysés.\n",
    "\n",
    "De plus, gardez à l’esprit que `Type 1` a toujours une valeur, mais `Type 2` est parfois vide (`NaN`).  \n",
    "Aussi, le type de Pokémon que nous choisissons peut se trouver soit dans `Type 1`, soit dans `Type 2`.\n",
    "\n",
    "Notre nouvelle attente est donc :\n",
    "\n",
    "#### Les variables de type chaîne `Type 1` et `Type 2` doivent être converties en variables numériques afin d’identifier la relation entre `Total` et le type de Pokémon.\n",
    "\n",
    "L’information que nous devons collecter est la suivante :\n",
    "\n",
    "#### Comment convertir deux variables chaînes en variables numériques ?\n",
    "\n",
    "Traiterons d’abord cette question.  \n",
    "Vous pouvez utiliser une méthode appelée **One Hot Encoding**, couramment utilisée en machine learning pour encoder des variables catégorielles sous forme de chaînes en variables numériques.  \n",
    "L’idée est de rassembler toutes les valeurs possibles d’un champ catégoriel et de créer un champ numérique pour chaque valeur unique.  \n",
    "Chacun de ces champs numériques utilise `1` et `0` pour indiquer si l’enregistrement possède la valeur catégorielle correspondante.  \n",
    "Une explication détaillée du One Hot Encoding se trouve dans [cet article](https://hackernoon.com/what-is-one-hot-encoding-why-and-when-do-you-have-to-use-it-e3c6186d008f). Vous l’apprendrez formellement dans le Module 3.\n",
    "\n",
    "Par exemple, si un Pokémon a `Type 1` comme `Poison` et `Type 2` comme `Fire`, alors ses champs `Poison` et `Fire` valent `1` tandis que tous les autres valent `0`.  \n",
    "Si un Pokémon a `Type 1` comme `Water` et `Type 2` comme `NaN`, alors son champ `Water` vaut `1` et tous les autres valent `0`.\n",
    "\n",
    "#### Dans la cellule suivante, appliquez le One Hot Encoding pour encoder `Type 1` et `Type 2`. Utilisez les valeurs de type de Pokémon comme noms pour les champs numériques que vous créez.\n",
    "\n",
    "Les nouvelles variables numériques créées devraient ressembler à ceci :\n",
    "\n",
    "![One Hot Encoding](../images/one-hot-encoding.png)\n"
   ]
  },
  {
   "cell_type": "code",
   "execution_count": null,
   "metadata": {},
   "outputs": [],
   "source": [
    "# your code here"
   ]
  },
  {
   "cell_type": "markdown",
   "metadata": {},
   "source": [
    "## Itération 3 - Résolution du Problème\n",
    "\n",
    "Maintenant que nous avons encodé les types de Pokémon, nous allons identifier la relation entre `Total` et les champs encodés. Notre attente est la suivante :\n",
    "\n",
    "#### Il existe des relations entre `Total` et les variables de type Pokémon encodées et nous devons identifier les corrélations.\n",
    "\n",
    "L’information que nous devons collecter est :\n",
    "\n",
    "#### Comment identifier la relation entre `Total` et les champs de type Pokémon encodés ?\n",
    "\n",
    "Il existe plusieurs façons de répondre à cette question. La plus simple est d’utiliser la corrélation.  \n",
    "Dans la cellule ci-dessous, calculez la corrélation de `Total` avec chacun des champs encodés. Classez les corrélations et identifiez le type de Pokémon **n°1** qui a le plus de chances d’avoir le `Total` le plus élevé.\n"
   ]
  },
  {
   "cell_type": "code",
   "execution_count": null,
   "metadata": {},
   "outputs": [],
   "source": [
    "# your code here"
   ]
  },
  {
   "cell_type": "markdown",
   "metadata": {},
   "source": [
    "# Question Bonus\n",
    "\n",
    "Imaginons maintenant que vous puissiez choisir à la fois le `Type 1` **et** le `Type 2` du Pokémon.  \n",
    "Afin d’obtenir le meilleur Pokémon possible, quels types allez-vous choisir ?\n"
   ]
  },
  {
   "cell_type": "code",
   "execution_count": null,
   "metadata": {},
   "outputs": [],
   "source": [
    "# your code here"
   ]
  }
 ],
 "metadata": {
  "kernelspec": {
   "display_name": "Python 3",
   "language": "python",
   "name": "python3"
  },
  "language_info": {
   "codemirror_mode": {
    "name": "ipython",
    "version": 3
   },
   "file_extension": ".py",
   "mimetype": "text/x-python",
   "name": "python",
   "nbconvert_exporter": "python",
   "pygments_lexer": "ipython3",
   "version": "3.8.5"
  },
  "toc": {
   "base_numbering": 1,
   "nav_menu": {},
   "number_sections": true,
   "sideBar": true,
   "skip_h1_title": false,
   "title_cell": "Table of Contents",
   "title_sidebar": "Contents",
   "toc_cell": true,
   "toc_position": {},
   "toc_section_display": true,
   "toc_window_display": false
  }
 },
 "nbformat": 4,
 "nbformat_minor": 2
}
