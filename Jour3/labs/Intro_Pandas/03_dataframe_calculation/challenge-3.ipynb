{
 "cells": [
  {
   "cell_type": "markdown",
   "metadata": {
    "toc": true
   },
   "source": [
    "<h1>Table of Contents<span class=\"tocSkip\"></span></h1>\n",
    "<div class=\"toc\"><ul class=\"toc-item\"><li><span><a href=\"#Challenge-3\" data-toc-modified-id=\"Challenge-3-1\"><span class=\"toc-item-num\">1&nbsp;&nbsp;</span>Challenge 3</a></span><ul class=\"toc-item\"><li><span><a href=\"#Q1:-How-to-identify-VIP-&amp;-Preferred-Customers?\" data-toc-modified-id=\"Q1:-How-to-identify-VIP-&amp;-Preferred-Customers?-1.1\"><span class=\"toc-item-num\">1.1&nbsp;&nbsp;</span>Q1: How to identify VIP &amp; Preferred Customers?</a></span></li><li><span><a href=\"#How-to-label-customers-whose-aggregated-amount_spent-is-in-a-given-quantile-range?\" data-toc-modified-id=\"How-to-label-customers-whose-aggregated-amount_spent-is-in-a-given-quantile-range?-1.2\"><span class=\"toc-item-num\">1.2&nbsp;&nbsp;</span>How to label customers whose aggregated <code>amount_spent</code> is in a given quantile range?</a></span><ul class=\"toc-item\"><li><ul class=\"toc-item\"><li><span><a href=\"#Sub-Problem-1:-How-to-aggregate-the--amount_spent-for-unique-customers?\" data-toc-modified-id=\"Sub-Problem-1:-How-to-aggregate-the--amount_spent-for-unique-customers?-1.2.0.1\"><span class=\"toc-item-num\">1.2.0.1&nbsp;&nbsp;</span>Sub Problem 1: How to aggregate the  <code>amount_spent</code> for unique customers?</a></span></li><li><span><a href=\"#Sub-Problem-2:-How-to-select-customers-whose-aggregated-amount_spent-is-in-a-given-quantile-range?\" data-toc-modified-id=\"Sub-Problem-2:-How-to-select-customers-whose-aggregated-amount_spent-is-in-a-given-quantile-range?-1.2.0.2\"><span class=\"toc-item-num\">1.2.0.2&nbsp;&nbsp;</span>Sub Problem 2: How to select customers whose aggregated <code>amount_spent</code> is in a given quantile range?</a></span></li><li><span><a href=\"#Sub-Problem-3:-How-to-label-selected-customers-as-&quot;VIP&quot;-or-&quot;Preferred&quot;?\" data-toc-modified-id=\"Sub-Problem-3:-How-to-label-selected-customers-as-&quot;VIP&quot;-or-&quot;Preferred&quot;?-1.2.0.3\"><span class=\"toc-item-num\">1.2.0.3&nbsp;&nbsp;</span>Sub Problem 3: How to label selected customers as \"VIP\" or \"Preferred\"?</a></span></li></ul></li></ul></li><li><span><a href=\"#Q2:-How-to-identify-which-country-has-the-most-VIP-Customers?\" data-toc-modified-id=\"Q2:-How-to-identify-which-country-has-the-most-VIP-Customers?-1.3\"><span class=\"toc-item-num\">1.3&nbsp;&nbsp;</span>Q2: How to identify which country has the most VIP Customers?</a></span></li><li><span><a href=\"#Q3:-How-to-identify-which-country-has-the-most-VIP+Preferred-Customers-combined?\" data-toc-modified-id=\"Q3:-How-to-identify-which-country-has-the-most-VIP+Preferred-Customers-combined?-1.4\"><span class=\"toc-item-num\">1.4&nbsp;&nbsp;</span>Q3: How to identify which country has the most VIP+Preferred Customers combined?</a></span></li></ul></li></ul></div>"
   ]
  },
  {
   "cell_type": "markdown",
   "metadata": {},
   "source": [
    "# Défi 3\n",
    "\n",
    "Dans ce défi, nous allons travailler sur le jeu de données `Orders`.  \n",
    "Dans ce travail, vous allez appliquer la logique et le déroulé que nous vous avons montrés dans le Défi 2.\n",
    "\n",
    "Vous occupez le poste d’Analyste Business Intelligence au siège d’une chaîne internationale de magasins de mode.  \n",
    "Aujourd’hui, votre responsable vous demande deux choses :\n",
    "\n",
    "**Premièrement, identifiez deux groupes de clients à partir du jeu de données.**  \n",
    "Le premier groupe correspond aux **Clients VIP**, dont les **dépenses cumulées** dans l’ensemble de vos magasins sont **supérieures au 95e centile** (aussi appelé quantile 0.95).  \n",
    "Le deuxième groupe correspond aux **Clients Préférés**, dont les **dépenses cumulées** se situent **entre le 75e et le 95e centile**.\n",
    "\n",
    "**Deuxièmement, identifiez quel pays compte le plus de vos clients VIP, et quel pays compte le plus de vos clients VIP + Préférés combinés.**\n"
   ]
  },
  {
   "cell_type": "markdown",
   "metadata": {},
   "source": [
    "## Q1 : Comment identifier les Clients VIP & Préférés ?\n",
    "\n",
    "Nous commençons par importer toutes les bibliothèques nécessaires :\n"
   ]
  },
  {
   "cell_type": "code",
   "execution_count": null,
   "metadata": {},
   "outputs": [],
   "source": [
    "# import required libraries\n",
    "import numpy as np\n",
    "import pandas as pd"
   ]
  },
  {
   "cell_type": "markdown",
   "metadata": {},
   "source": [
    "Ensuite, importez le jeu de données `Orders` dans une variable de type DataFrame appelée `orders`.  \n",
    "Affichez l’aperçu avec `head()` pour avoir un aperçu des données :\n"
   ]
  },
  {
   "cell_type": "code",
   "execution_count": null,
   "metadata": {},
   "outputs": [],
   "source": [
    "# your code here"
   ]
  },
  {
   "cell_type": "markdown",
   "metadata": {},
   "source": [
    "---\n",
    "\n",
    "« Identifier les Clients VIP et Préférés » est l’objectif non technique formulé par votre responsable.  \n",
    "Vous devez traduire cet objectif en termes techniques utilisés par les analystes de données :\n",
    "\n",
    "## Comment étiqueter les clients dont le `amount_spent` cumulé se situe dans une plage de quantiles donnée ?\n"
   ]
  },
  {
   "cell_type": "markdown",
   "metadata": {},
   "source": [
    "Nous décomposons le problème principal en plusieurs sous-problèmes :\n",
    "\n",
    "#### Sous-problème 1 : Comment agréger le `amount_spent` pour chaque client unique ?\n",
    "\n",
    "#### Sous-problème 2 : Comment sélectionner les clients dont le `amount_spent` cumulé se situe dans une plage de quantiles donnée ?\n",
    "\n",
    "#### Sous-problème 3 : Comment étiqueter les clients sélectionnés comme « VIP » ou « Préféré » ?\n",
    "\n",
    "*Remarque : Si vous souhaitez décomposer le problème principal d’une autre manière, vous pouvez bien sûr modifier les sous-problèmes ci-dessus.*\n",
    "\n",
    "Maintenant, dans l’espace de travail ci-dessous, traitez chaque sous-problème en suivant le processus itératif de résolution de problème.  \n",
    "Ajoutez des cellules si nécessaire pour écrire votre code et expliquer vos étapes.\n"
   ]
  },
  {
   "cell_type": "code",
   "execution_count": null,
   "metadata": {},
   "outputs": [],
   "source": [
    "# your code here"
   ]
  },
  {
   "cell_type": "markdown",
   "metadata": {},
   "source": [
    "Nous vous laissons maintenant résoudre les questions Q2 et Q3 en vous appuyant sur votre solution pour Q1 :\n",
    "\n",
    "## Q2 : Comment identifier le pays qui compte le plus de Clients VIP ?\n"
   ]
  },
  {
   "cell_type": "code",
   "execution_count": null,
   "metadata": {},
   "outputs": [],
   "source": [
    "# your code here"
   ]
  },
  {
   "cell_type": "markdown",
   "metadata": {},
   "source": [
    "## Q3 : Comment identifier le pays qui compte le plus de Clients VIP + Préférés combinés ?\n"
   ]
  },
  {
   "cell_type": "code",
   "execution_count": null,
   "metadata": {},
   "outputs": [],
   "source": [
    "# your code here"
   ]
  }
 ],
 "metadata": {
  "kernelspec": {
   "display_name": "base",
   "language": "python",
   "name": "python3"
  },
  "language_info": {
   "codemirror_mode": {
    "name": "ipython",
    "version": 3
   },
   "file_extension": ".py",
   "mimetype": "text/x-python",
   "name": "python",
   "nbconvert_exporter": "python",
   "pygments_lexer": "ipython3",
   "version": "3.12.3"
  },
  "toc": {
   "base_numbering": 1,
   "nav_menu": {},
   "number_sections": true,
   "sideBar": true,
   "skip_h1_title": false,
   "title_cell": "Table of Contents",
   "title_sidebar": "Contents",
   "toc_cell": true,
   "toc_position": {},
   "toc_section_display": true,
   "toc_window_display": false
  }
 },
 "nbformat": 4,
 "nbformat_minor": 2
}
