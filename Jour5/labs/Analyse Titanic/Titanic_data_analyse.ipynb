{
 "cells": [
  {
   "cell_type": "markdown",
   "id": "404dd049",
   "metadata": {},
   "source": [
    "# 🚢 Titanic Data Analysis (Pandas 101)\n",
    "\n",
    "Dans ce notebook, nous allons pratiquer **toutes les méthodes fondamentales de manipulation de données** avec **Pandas**, étape par étape, sur le dataset **Titanic**.\n",
    "\n",
    "\n",
    "\n",
    "## 📌 1️⃣ Importer les librairies et le dataset\n",
    "\n",
    "# 📑 Définition des colonnes — Titanic Dataset\n",
    "\n",
    "| Colonne | Description |\n",
    "|----------------|------------------------------------------------------------------|\n",
    "| **PassengerId** | Identifiant unique du passager. |\n",
    "| **Survived** | Statut de survie (0 = Non, 1 = Oui). |\n",
    "| **Pclass** | Classe du billet (1 = 1ère, 2 = 2ème, 3 = 3ème). |\n",
    "| **Name** | Nom complet du passager. |\n",
    "| **Sex** | Sexe du passager (male / female). |\n",
    "| **Age** | Âge du passager en années (peut contenir des valeurs manquantes). |\n",
    "| **SibSp** | Nombre de frères/sœurs ou conjoints à bord. |\n",
    "| **Parch** | Nombre de parents/enfants à bord. |\n",
    "| **Ticket** | Numéro du billet. |\n",
    "| **Fare** | Prix du billet payé (en livres sterling). |\n",
    "| **Cabin** | Numéro de cabine (souvent manquant). |\n",
    "| **Embarked** | Port d’embarquement (C = Cherbourg, Q = Queenstown, S = Southampton). |\n",
    "\n",
    "\n",
    "## 🗂️ Détails\n",
    "\n",
    "- **SibSp** : Frères, sœurs, conjoints.\n",
    "- **Parch** : Parents, enfants.\n",
    "- **Embarked** : Port où le passager est monté à bord.\n",
    "- **Cabin** : Souvent manquant — certains passagers n’avaient pas de cabine attribuée ou enregistrée.\n",
    "- **Fare** : Peut varier même pour la même classe en fonction de la cabine, du point d’embarquement et du statut de réservation.\n",
    "\n",
    "\n",
    "👉 **Référence** : Ce dataset est tiré des archives originales du Titanic, largement utilisé pour apprendre la classification binaire et les méthodes d’exploration de données.\n",
    "\n"
   ]
  },
  {
   "cell_type": "code",
   "execution_count": null,
   "id": "0a09bffc",
   "metadata": {},
   "outputs": [],
   "source": [
    "import pandas as pd\n",
    "\n",
    "# Charger Titanic\n",
    "df = pd.read_csv('https://raw.githubusercontent.com/datasciencedojo/datasets/master/titanic.csv')\n",
    "\n",
    "# Afficher les 5 premières lignes\n",
    "df.head()"
   ]
  },
  {
   "cell_type": "markdown",
   "id": "cd6fb6aa",
   "metadata": {},
   "source": [
    "## 📌 2️⃣ Inspection de base"
   ]
  },
  {
   "cell_type": "markdown",
   "id": "706507ea",
   "metadata": {},
   "source": []
  },
  {
   "cell_type": "code",
   "execution_count": null,
   "id": "0ee23ebb",
   "metadata": {},
   "outputs": [],
   "source": [
    "# Informations générales\n",
    "df.info()\n",
    "\n",
    "# Statistiques descriptives\n",
    "df.describe()\n",
    "\n",
    "# Vérifier les valeurs manquantes\n",
    "df.isnull().sum()\n"
   ]
  },
  {
   "cell_type": "markdown",
   "id": "df4ce465",
   "metadata": {},
   "source": [
    "## 📌 3️⃣ Sélections : loc & iloc\n",
    "\n",
    "\n",
    "- **`loc`** : Sélectionne des lignes et colonnes **par leurs étiquettes** (noms).\n",
    "  - Ex. : `df.loc[2, 'Name']` → valeur de la colonne *Name* pour l’index 2.\n",
    "- **`iloc`** : Sélectionne des lignes et colonnes **par position numérique**.\n",
    "  - Ex. : `df.iloc[2, 3]` → même chose si *Name* est la 4ᵉ colonne.\n",
    "\n"
   ]
  },
  {
   "cell_type": "code",
   "execution_count": null,
   "id": "c8cfeebf",
   "metadata": {},
   "outputs": [],
   "source": [
    "# loc : par étiquette\n",
    "df.loc[:4, ['Name', 'Age', 'Sex']]\n",
    "\n",
    "# iloc : par position\n",
    "df.iloc[:5, [3, 5, 4]]\n"
   ]
  },
  {
   "cell_type": "markdown",
   "id": "4f7ad3f6",
   "metadata": {},
   "source": [
    "## 📌 4️⃣ Filtrer : conditions et query\n",
    "\n",
    "\n",
    "- **Filtrage** : Extraire un sous-ensemble selon une **condition logique**.\n",
    "  - Ex. : `df[df['Age'] > 30]` → lignes où l’âge est > 30.\n",
    "- **`query`** : Équivalent SQL, plus lisible pour des conditions complexes.\n",
    "  - Ex. : `df.query(\"Sex == 'female' & Age < 20\")`.\n"
   ]
  },
  {
   "cell_type": "code",
   "execution_count": 6,
   "id": "da134b8e",
   "metadata": {},
   "outputs": [],
   "source": [
    "# Filtrer les passagers adultes\n",
    "adults = df[df['Age'] >= 18]\n",
    "\n",
    "# Même filtrage avec query\n",
    "adults_q = df.query(\"Age >= 18\")\n"
   ]
  },
  {
   "cell_type": "markdown",
   "id": "0ad22ea2",
   "metadata": {},
   "source": [
    "## 📌 5️⃣ Nettoyage : drop & drop_duplicates\n",
    "\n",
    "- **`drop`** : Supprime des colonnes ou lignes.\n",
    "  - Ex. : `df.drop(['Cabin'], axis=1)` → supprime la colonne *Cabin*.\n",
    "- **`drop_duplicates`** : Supprime les lignes en double pour éviter les doublons.\n"
   ]
  },
  {
   "cell_type": "code",
   "execution_count": 7,
   "id": "9c0bcaca",
   "metadata": {},
   "outputs": [],
   "source": [
    "# Supprimer une colonne inutile\n",
    "df = df.drop(['Cabin'], axis=1)\n",
    "\n",
    "# Vérifier doublons\n",
    "df.duplicated().sum()\n",
    "\n",
    "# Supprimer doublons s'il y en a\n",
    "df = df.drop_duplicates()\n"
   ]
  },
  {
   "cell_type": "markdown",
   "id": "fbeb3a3a",
   "metadata": {},
   "source": [
    "## 📌 6️⃣ Trier : sort_values\n",
    "\n",
    "- Trie les données par une ou plusieurs colonnes.\n",
    "  - Ex. : `df.sort_values(by='Age', ascending=False)` → trie du plus vieux au plus jeune.\n"
   ]
  },
  {
   "cell_type": "code",
   "execution_count": null,
   "id": "68fbbea2",
   "metadata": {},
   "outputs": [],
   "source": [
    "# Trier par Age décroissant\n",
    "df_sorted = df.sort_values(by='Age', ascending=False)\n",
    "df_sorted.head()\n"
   ]
  },
  {
   "cell_type": "markdown",
   "id": "9e973975",
   "metadata": {},
   "source": [
    "## 📌 7️⃣ Grouper : groupby\n",
    "\n",
    "- Regroupe les données **par une ou plusieurs colonnes clés** pour effectuer des opérations par groupe.\n",
    "  - Ex. : `df.groupby(['Pclass', 'Sex'])` → regroupe par *classe* et *sexe*.\n",
    "\n"
   ]
  },
  {
   "cell_type": "code",
   "execution_count": null,
   "id": "475351f9",
   "metadata": {},
   "outputs": [],
   "source": [
    "# Grouper par classe et sexe\n",
    "grouped = df.groupby(['Pclass', 'Sex'])\n",
    "grouped.size()\n"
   ]
  },
  {
   "cell_type": "markdown",
   "id": "d193ab75",
   "metadata": {},
   "source": [
    "## 📌 8️⃣ Agrégations : agg & aggregate\n",
    "\n",
    "- Applique **une ou plusieurs fonctions d’agrégation** sur chaque groupe créé par `groupby`.\n",
    "  - Ex. : `agg(['mean', 'median'])` → calcule la moyenne et la médiane.\n",
    "  - Ex. : `agg({'Age': 'mean', 'Fare': 'max'})` → moyenne sur *Age*, max sur *Fare*.\n"
   ]
  },
  {
   "cell_type": "code",
   "execution_count": null,
   "id": "64faa65f",
   "metadata": {},
   "outputs": [],
   "source": [
    "# Moyenne et médiane de l'âge\n",
    "agg_age = grouped['Age'].agg(['mean', 'median'])\n",
    "agg_age\n",
    "\n",
    "# Agrégations multiples\n",
    "agg_multi = grouped.agg({\n",
    "    'Age': ['mean', 'std'],\n",
    "    'Fare': ['mean', 'max']\n",
    "})\n",
    "agg_multi\n"
   ]
  },
  {
   "cell_type": "markdown",
   "id": "c4912771",
   "metadata": {},
   "source": [
    "## 📌 9️⃣ Table pivot : pivot_table\n",
    "\n",
    "- **`pivot`** : Transforme les données en **tableau croisé** (index, colonnes, valeurs).\n",
    "  - Simple mais nécessite que l’index/colonnes soient uniques.\n",
    "- **`pivot_table`** : Plus flexible, permet de gérer plusieurs valeurs par groupe avec une fonction d’agrégation.\n",
    "  - Ex. : `pivot_table(values='Fare', index='Pclass', columns='Sex', aggfunc='mean')`.\n"
   ]
  },
  {
   "cell_type": "code",
   "execution_count": null,
   "id": "20fad559",
   "metadata": {},
   "outputs": [],
   "source": [
    "# Survie par classe et sexe\n",
    "pivot = df.pivot_table(\n",
    "    values='PassengerId',\n",
    "    index='Pclass',\n",
    "    columns='Sex',\n",
    "    aggfunc='count'\n",
    ")\n",
    "pivot\n"
   ]
  },
  {
   "cell_type": "markdown",
   "id": "3171e32b",
   "metadata": {},
   "source": [
    "## 📌 🔀 1️⃣0️⃣ Format long : melt\n",
    "\n",
    "- **Inverse de `pivot`** : Passe d’un format large à un format **long**.\n",
    "  - Ex. : Plusieurs colonnes → une seule colonne *variable*, une *valeur*.\n"
   ]
  },
  {
   "cell_type": "code",
   "execution_count": 12,
   "id": "1c5439b6",
   "metadata": {},
   "outputs": [
    {
     "data": {
      "text/html": [
       "<div>\n",
       "<style scoped>\n",
       "    .dataframe tbody tr th:only-of-type {\n",
       "        vertical-align: middle;\n",
       "    }\n",
       "\n",
       "    .dataframe tbody tr th {\n",
       "        vertical-align: top;\n",
       "    }\n",
       "\n",
       "    .dataframe thead th {\n",
       "        text-align: right;\n",
       "    }\n",
       "</style>\n",
       "<table border=\"1\" class=\"dataframe\">\n",
       "  <thead>\n",
       "    <tr style=\"text-align: right;\">\n",
       "      <th></th>\n",
       "      <th>Pclass</th>\n",
       "      <th>Sex</th>\n",
       "      <th>Count</th>\n",
       "    </tr>\n",
       "  </thead>\n",
       "  <tbody>\n",
       "    <tr>\n",
       "      <th>0</th>\n",
       "      <td>1</td>\n",
       "      <td>female</td>\n",
       "      <td>94</td>\n",
       "    </tr>\n",
       "    <tr>\n",
       "      <th>1</th>\n",
       "      <td>2</td>\n",
       "      <td>female</td>\n",
       "      <td>76</td>\n",
       "    </tr>\n",
       "    <tr>\n",
       "      <th>2</th>\n",
       "      <td>3</td>\n",
       "      <td>female</td>\n",
       "      <td>144</td>\n",
       "    </tr>\n",
       "    <tr>\n",
       "      <th>3</th>\n",
       "      <td>1</td>\n",
       "      <td>male</td>\n",
       "      <td>122</td>\n",
       "    </tr>\n",
       "    <tr>\n",
       "      <th>4</th>\n",
       "      <td>2</td>\n",
       "      <td>male</td>\n",
       "      <td>108</td>\n",
       "    </tr>\n",
       "    <tr>\n",
       "      <th>5</th>\n",
       "      <td>3</td>\n",
       "      <td>male</td>\n",
       "      <td>347</td>\n",
       "    </tr>\n",
       "  </tbody>\n",
       "</table>\n",
       "</div>"
      ],
      "text/plain": [
       "   Pclass     Sex  Count\n",
       "0       1  female     94\n",
       "1       2  female     76\n",
       "2       3  female    144\n",
       "3       1    male    122\n",
       "4       2    male    108\n",
       "5       3    male    347"
      ]
     },
     "execution_count": 12,
     "metadata": {},
     "output_type": "execute_result"
    }
   ],
   "source": [
    "pivot_reset = pivot.reset_index()\n",
    "melted = pivot_reset.melt(id_vars=['Pclass'], var_name='Sex', value_name='Count')\n",
    "melted\n"
   ]
  },
  {
   "cell_type": "markdown",
   "id": "71150d35",
   "metadata": {},
   "source": [
    "## 📌 🔗 1️⃣1️⃣ Fusionner : merge\n",
    "- Combine plusieurs DataFrames **sur une clé commune** (équivalent SQL `JOIN`).\n",
    "  - Ex. : `df.merge(df2, on='Pclass')`.\n"
   ]
  },
  {
   "cell_type": "code",
   "execution_count": 13,
   "id": "487b641b",
   "metadata": {},
   "outputs": [
    {
     "data": {
      "text/html": [
       "<div>\n",
       "<style scoped>\n",
       "    .dataframe tbody tr th:only-of-type {\n",
       "        vertical-align: middle;\n",
       "    }\n",
       "\n",
       "    .dataframe tbody tr th {\n",
       "        vertical-align: top;\n",
       "    }\n",
       "\n",
       "    .dataframe thead th {\n",
       "        text-align: right;\n",
       "    }\n",
       "</style>\n",
       "<table border=\"1\" class=\"dataframe\">\n",
       "  <thead>\n",
       "    <tr style=\"text-align: right;\">\n",
       "      <th></th>\n",
       "      <th>Pclass</th>\n",
       "      <th>Description</th>\n",
       "    </tr>\n",
       "  </thead>\n",
       "  <tbody>\n",
       "    <tr>\n",
       "      <th>0</th>\n",
       "      <td>3</td>\n",
       "      <td>Lower</td>\n",
       "    </tr>\n",
       "    <tr>\n",
       "      <th>1</th>\n",
       "      <td>1</td>\n",
       "      <td>Upper</td>\n",
       "    </tr>\n",
       "    <tr>\n",
       "      <th>9</th>\n",
       "      <td>2</td>\n",
       "      <td>Middle</td>\n",
       "    </tr>\n",
       "  </tbody>\n",
       "</table>\n",
       "</div>"
      ],
      "text/plain": [
       "   Pclass Description\n",
       "0       3       Lower\n",
       "1       1       Upper\n",
       "9       2      Middle"
      ]
     },
     "execution_count": 13,
     "metadata": {},
     "output_type": "execute_result"
    }
   ],
   "source": [
    "# Exemple : DataFrame des classes\n",
    "df_classes = pd.DataFrame({\n",
    "    'Pclass': [1, 2, 3],\n",
    "    'Description': ['Upper', 'Middle', 'Lower']\n",
    "})\n",
    "df = df.merge(df_classes, on='Pclass', how='left')\n",
    "df[['Pclass', 'Description']].drop_duplicates()\n"
   ]
  },
  {
   "cell_type": "markdown",
   "id": "be84f208",
   "metadata": {},
   "source": [
    "## 📌 🧮 1️⃣2️⃣ Appliquer une fonction : apply et map\n",
    "- **`apply`** : Applique une fonction sur chaque élément ou ligne/colonne.\n",
    "  - Ex. : `df['Age'].apply(lambda x: x*2)`.\n",
    "- **`map`** : Remplace ou transforme **chaque valeur individuelle** d’une série.\n",
    "  - Ex. : `df['Sex'].map({'male': 'M', 'female': 'F'})`.\n",
    "\n"
   ]
  },
  {
   "cell_type": "code",
   "execution_count": null,
   "id": "c0970c94",
   "metadata": {},
   "outputs": [],
   "source": [
    "# Exemple : créer groupe d'âge\n",
    "df['AgeGroup'] = df['Age'].apply(lambda x: 'Child' if x < 18 else 'Adult')\n",
    "\n",
    "# Remplacer Sexe par initiale (map)\n",
    "df['SexInitial'] = df['Sex'].map({'male': 'M', 'female': 'F'})\n",
    "\n",
    "df[['Name', 'Age', 'AgeGroup', 'Sex', 'SexInitial']].head()\n"
   ]
  },
  {
   "cell_type": "markdown",
   "id": "f4c2d4e7",
   "metadata": {},
   "source": [
    "## 📌 📊 1️⃣3️⃣ Compter valeurs : value_counts"
   ]
  },
  {
   "cell_type": "code",
   "execution_count": null,
   "id": "290aeb32",
   "metadata": {},
   "outputs": [],
   "source": [
    "df['Survived'].value_counts()\n"
   ]
  },
  {
   "cell_type": "markdown",
   "id": "e1ddd475",
   "metadata": {},
   "source": [
    "## ✅ ✔️ Sauvegarde finale"
   ]
  },
  {
   "cell_type": "code",
   "execution_count": 16,
   "id": "061ea964",
   "metadata": {},
   "outputs": [],
   "source": [
    "df.to_csv('titanic_final.csv', index=False)\n"
   ]
  }
 ],
 "metadata": {
  "kernelspec": {
   "display_name": "base",
   "language": "python",
   "name": "python3"
  },
  "language_info": {
   "codemirror_mode": {
    "name": "ipython",
    "version": 3
   },
   "file_extension": ".py",
   "mimetype": "text/x-python",
   "name": "python",
   "nbconvert_exporter": "python",
   "pygments_lexer": "ipython3",
   "version": "3.12.3"
  }
 },
 "nbformat": 4,
 "nbformat_minor": 5
}
